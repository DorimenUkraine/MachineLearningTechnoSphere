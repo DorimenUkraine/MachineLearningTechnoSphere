{
 "cells": [
  {
   "cell_type": "markdown",
   "metadata": {},
   "source": [
    "## Семинар 2 \"Распознавание рукописных цифр\""
   ]
  },
  {
   "cell_type": "markdown",
   "metadata": {},
   "source": [
    "ФИО:"
   ]
  },
  {
   "cell_type": "markdown",
   "metadata": {},
   "source": [
    "В этом задании мы используем нейронную сеть из предыдущего семинара для распознавания рукописных цифр. Также мы исследуем как влияет выбор нелинейности и предобработка данных на качество классификации. \n",
    "\n",
    "Чтобы не тратить время на подготовку данных, мы прилагаем готовый код с примером использования для получения обучающей и тестовой выборок. Для запуска скрипта вам понадобится библиотека PyTorch (инструкции по установке можно найти на сайте <a href=\"http://pytorch.org\">pytorch.org</a>)"
   ]
  },
  {
   "cell_type": "code",
   "execution_count": 1,
   "metadata": {
    "collapsed": false
   },
   "outputs": [],
   "source": [
    "import matplotlib.pyplot as plt\n",
    "from torch.utils.data import DataLoader\n",
    "from torchvision.datasets import MNIST\n",
    "from torchvision import transforms\n",
    "import numpy as np\n",
    "%matplotlib inline"
   ]
  },
  {
   "cell_type": "code",
   "execution_count": 2,
   "metadata": {
    "collapsed": true
   },
   "outputs": [],
   "source": [
    "from scipy.linalg import sqrtm\n",
    "from scipy.linalg import inv"
   ]
  },
  {
   "cell_type": "code",
   "execution_count": 3,
   "metadata": {
    "collapsed": false
   },
   "outputs": [],
   "source": [
    "to_numpy = lambda x: x.numpy()\n",
    "transform = transforms.Compose([\n",
    "                       transforms.ToTensor(),\n",
    "                       transforms.Normalize((0.1307,), (0.3081,))\n",
    "                    ])\n",
    "train_dataset = MNIST('.', train=True, download=True, transform=transform)\n",
    "test_dataset = MNIST('.', train=False, transform=transform)\n",
    "\n",
    "train_loader = DataLoader(train_dataset, batch_size=32, shuffle=True)\n",
    "test_loader = DataLoader(test_dataset, batch_size=32, shuffle=True)"
   ]
  },
  {
   "cell_type": "code",
   "execution_count": 4,
   "metadata": {
    "collapsed": true
   },
   "outputs": [],
   "source": [
    "## Usage example:\n",
    "for X, y in train_loader:\n",
    "    X = X.view(X.size(0), -1)\n",
    "    X = X.numpy() ### Converts torch.Tensor to numpy array\n",
    "    y = y.numpy()\n",
    "    pass"
   ]
  },
  {
   "cell_type": "code",
   "execution_count": 5,
   "metadata": {
    "collapsed": false
   },
   "outputs": [
    {
     "data": {
      "image/png": "[encoded data removed]",
      "text/plain": [
       "<matplotlib.figure.Figure at 0x10ac10898>"
      ]
     },
     "metadata": {},
     "output_type": "display_data"
    }
   ],
   "source": [
    "plt.figure(figsize=(6, 7))\n",
    "for i in range(25):\n",
    "    plt.subplot(5, 5, i+1)\n",
    "    plt.imshow(X[i].reshape(28, 28), cmap=plt.cm.Greys_r)\n",
    "    plt.title(y[i])\n",
    "    plt.axis('off')"
   ]
  },
  {
   "cell_type": "markdown",
   "metadata": {},
   "source": [
    "### Часть 1: MNIST\n",
    "Обучите полносвязную нейронную сеть с архитектурой 784-100-100-10 и сигмоидой в качестве нелинейности. Какую точность классификации удалось получить? Нарисуйте график сходимости на обучающей и тестовой выборках. В качестве темпа обучения (learning rate) возьмите 0.01"
   ]
  },
  {
   "cell_type": "code",
   "execution_count": 6,
   "metadata": {
    "collapsed": true
   },
   "outputs": [],
   "source": [
    "class Linear:\n",
    "    def __init__(self, input_size, output_size):\n",
    "        self.input_size = input_size\n",
    "        self.output_size = output_size\n",
    "        #np.random.seed(seed=1234)\n",
    "        self.weights = np.random.normal(0, 1, (input_size + 1, output_size))\n",
    "        self.dLdw = 0\n",
    "        self.X = 0\n",
    "        \n",
    "        return\n",
    "    \n",
    "    def forward(self, X):\n",
    "        self.X = X\n",
    "        \n",
    "        return np.dot(np.hstack((X, np.ones((X.shape[0], 1)))), self.weights)\n",
    "    \n",
    "    def backward(self, dLdy):\n",
    "        dLdx = np.dot(dLdy, self.weights[:len(self.weights) - 1].T)  \n",
    "        self.dLdw = np.dot(np.vstack((self.X.T, np.ones(self.X.shape[0]))), dLdy)        \n",
    "        return dLdx\n",
    "    \n",
    "    def step(self, learning_rate):\n",
    "        self.weights = self.weights + self.dLdw * learning_rate\n",
    "\n",
    "class Sigmoid:\n",
    "    def __init__(self):\n",
    "        self.X = np.array([])\n",
    "    \n",
    "    def forward(self, X):\n",
    "        self.X = X        \n",
    "        res = np.nan_to_num(1.0 / (1.0 + np.nan_to_num(np.exp(-1 * X))))\n",
    "        return res\n",
    "    \n",
    "    def backward(self, dLdy):\n",
    "        m = np.nan_to_num(np.exp(self.X))\n",
    "        res = m / (m + 1.0)\n",
    "        res /= (m + 1.0)\n",
    "        res = dLdy * res\n",
    "        return res\n",
    "    \n",
    "    def step(self, learning_rate):\n",
    "        pass\n",
    "\n",
    "class RELU:\n",
    "    def __init__(self):\n",
    "        self.X = np.array([])\n",
    "    \n",
    "    def forward(self, X):\n",
    "        self.X = X\n",
    "        return np.maximum(X, 0)\n",
    "\n",
    "    def backward(self, dLdy):\n",
    "        return dLdy * (self.X > 0)\n",
    "    \n",
    "    def step(self, learning_rate):\n",
    "        pass\n",
    "\n",
    "class ELU:\n",
    "    def __init__(self):\n",
    "        self.X = np.array([])\n",
    "        self.alpha = 0.5\n",
    "        \n",
    "    def forward(self, X):\n",
    "        self.X = X    \n",
    "        I = (self.X < 0)\n",
    "        l = self.alpha * (np.exp(X * I) - 1) * I\n",
    "        r = X * (X >= 0)        \n",
    "        return l + r\n",
    "\n",
    "    def backward(self, dLdy):\n",
    "        I = (self.X < 0)\n",
    "        l = (self.alpha * (np.exp(self.X * I) - 1) + self.alpha) * I\n",
    "        r = 1.0 * (self.X >= 0)\n",
    "        return dLdy * (l + r)\n",
    "    \n",
    "    def step(self, learning_rate):\n",
    "        pass\n",
    "    \n",
    "class NLLLoss:\n",
    "    def __init__(self):\n",
    "        self.X = np.array([])\n",
    "        self.y = np.array([])\n",
    "    \n",
    "    def forward(self, X, y):\n",
    "        self.X = X\n",
    "        self.y = y\n",
    "        r = np.exp(X - X.max(axis=1).reshape((X.shape[0], 1))).sum(axis=1)\n",
    "        res = (np.array([X[i][y[i]] for i in range(y.shape[0])]) - X.max(axis=1) - np.log(r)).sum() / X.shape[0]\n",
    "        \n",
    "        return res\n",
    "    \n",
    "    def backward(self):\n",
    "        res = np.exp(self.X - self.X.max(axis=1).reshape((self.X.shape[0], 1)))\n",
    "        res /= res.sum(axis=1).reshape(res.shape[0], 1)     \n",
    "        res *= -1.0\n",
    "        for i in range(self.y.shape[0]):\n",
    "            res[i][self.y[i]] += 1\n",
    "        \n",
    "        return res / self.X.shape[0]\n",
    "    \n",
    "class NeuralNetwork:\n",
    "    def __init__(self, modules):\n",
    "        self.modules = modules\n",
    "    \n",
    "    def forward(self, X):\n",
    "        res = X\n",
    "        for module in self.modules:\n",
    "            res = module.forward(res)\n",
    "        return res\n",
    "    \n",
    "    def backward(self, dLdy):\n",
    "        d = dLdy\n",
    "        for module in self.modules[::-1]:\n",
    "            d = module.backward(d)\n",
    "    \n",
    "    def step(self, learning_rate):\n",
    "        for module in self.modules:\n",
    "            module.step(learning_rate)"
   ]
  },
  {
   "cell_type": "code",
   "execution_count": 32,
   "metadata": {
    "collapsed": true
   },
   "outputs": [],
   "source": [
    "def emulate(N, data, stepAlpha, neuralNetwork, nllLoss, covar, expectations):\n",
    "    losses = np.zeros(N)\n",
    "    if covar.shape[0] != 0:\n",
    "        Z = np.real(sqrtm(covar + np.eye(covar.shape[0]) * 0.01))\n",
    "        Z = inv(Z + np.eye(covar.shape[0]))\n",
    "\n",
    "    for j in range(N):\n",
    "        tl = 0\n",
    "        for X, y in data:            \n",
    "            X = X.view(X.size(0), -1)\n",
    "            X = X.numpy()\n",
    "            y = y.numpy()\n",
    "            \n",
    "            if covar.shape[0] != 0:\n",
    "                X = X - expectation.reshape((1, X.shape[1]))\n",
    "                X = np.dot(X, Z)\n",
    "                \n",
    "            res = neuralNetwork.forward(X)\n",
    "            loss = nllLoss.forward(res, y)\n",
    "            neuralNetwork.backward(nllLoss.backward())\n",
    "            neuralNetwork.step(stepAlpha)\n",
    "            if abs(loss) > abs(tl):\n",
    "                tl = loss\n",
    "        print('Epoch ' + str(j) + ' finished')\n",
    "        losses[j] = tl\n",
    "    return losses"
   ]
  },
  {
   "cell_type": "code",
   "execution_count": 8,
   "metadata": {
    "collapsed": true
   },
   "outputs": [],
   "source": [
    "def predict(data, neuralNetwork, nllLoss, covar, expectations):\n",
    "    tl = 0\n",
    "    if covar.shape[0] != 0:\n",
    "        Z = np.real(sqrtm(covar + np.eye(covar.shape[0]) * 0.01))\n",
    "        Z = inv(Z + np.eye(covar.shape[0]))\n",
    "    for X, y in data:\n",
    "        X = X.view(X.size(0), -1)\n",
    "        X = X.numpy()\n",
    "        y = y.numpy()\n",
    "        \n",
    "        if (covar.shape[0] != 0):\n",
    "            X = X - expectation.reshape((1, X.shape[1]))\n",
    "            X = np.dot(X, Z)\n",
    "        \n",
    "        res = neuralNetwork.forward(X)\n",
    "        loss = nllLoss.forward(res, y)\n",
    "        if abs(loss) > abs(tl):\n",
    "            tl = loss\n",
    "    return tl"
   ]
  },
  {
   "cell_type": "code",
   "execution_count": 101,
   "metadata": {
    "collapsed": true
   },
   "outputs": [],
   "source": [
    "m = [Linear(784, 100), Sigmoid(), Linear(100, 100), Sigmoid(), Linear(100, 10)]\n",
    "nll = NLLLoss()\n",
    "nn = NeuralNetwork(m)"
   ]
  },
  {
   "cell_type": "code",
   "execution_count": 102,
   "metadata": {
    "collapsed": false
   },
   "outputs": [
    {
     "name": "stdout",
     "output_type": "stream",
     "text": [
      "Epoch 0 finished\n",
      "Epoch 1 finished\n",
      "Epoch 2 finished\n",
      "Epoch 3 finished\n",
      "Epoch 4 finished\n",
      "Epoch 5 finished\n",
      "Epoch 6 finished\n",
      "Epoch 7 finished\n",
      "Epoch 8 finished\n",
      "Epoch 9 finished\n",
      "Epoch 10 finished\n",
      "Epoch 11 finished\n",
      "Epoch 12 finished\n",
      "Epoch 13 finished\n",
      "Epoch 14 finished\n",
      "Epoch 15 finished\n",
      "Epoch 16 finished\n",
      "Epoch 17 finished\n",
      "Epoch 18 finished\n",
      "Epoch 19 finished\n",
      "Epoch 20 finished\n",
      "Epoch 21 finished\n",
      "Epoch 22 finished\n",
      "Epoch 23 finished\n",
      "Epoch 24 finished\n",
      "Epoch 25 finished\n",
      "Epoch 26 finished\n",
      "Epoch 27 finished\n",
      "Epoch 28 finished\n",
      "Epoch 29 finished\n"
     ]
    }
   ],
   "source": [
    "losses = emulate(30, train_loader, 1, nn, nll, np.empty(0), np.empty(0))"
   ]
  },
  {
   "cell_type": "code",
   "execution_count": 103,
   "metadata": {
    "collapsed": false
   },
   "outputs": [
    {
     "data": {
      "text/plain": [
       "-0.26279114835572859"
      ]
     },
     "execution_count": 103,
     "metadata": {},
     "output_type": "execute_result"
    }
   ],
   "source": [
    "losses.max()"
   ]
  },
  {
   "cell_type": "code",
   "execution_count": 104,
   "metadata": {
    "collapsed": false
   },
   "outputs": [
    {
     "data": {
      "text/plain": [
       "[<matplotlib.lines.Line2D at 0x10e29f208>]"
      ]
     },
     "execution_count": 104,
     "metadata": {},
     "output_type": "execute_result"
    },
    {
     "data": {
      "image/png": "[encoded data removed]",
      "text/plain": [
       "<matplotlib.figure.Figure at 0x10e95da90>"
      ]
     },
     "metadata": {},
     "output_type": "display_data"
    }
   ],
   "source": [
    "plt.plot([i for i in range(len(losses))], -1 * losses)"
   ]
  },
  {
   "cell_type": "code",
   "execution_count": 114,
   "metadata": {
    "collapsed": false
   },
   "outputs": [
    {
     "data": {
      "text/plain": [
       "-1.0399708364326172"
      ]
     },
     "execution_count": 114,
     "metadata": {},
     "output_type": "execute_result"
    }
   ],
   "source": [
    "predict(test_loader, nn, nll, np.empty(0), np.empty(0))"
   ]
  },
  {
   "cell_type": "markdown",
   "metadata": {},
   "source": [
    "### Часть 2: Нелинейности"
   ]
  },
  {
   "cell_type": "markdown",
   "metadata": {},
   "source": [
    "Обучите нейронную сеть с другими нелинейностями: ReLU и ELU. Сравните скорости сходимости и качество классификации с различными функциями активации."
   ]
  },
  {
   "cell_type": "code",
   "execution_count": 65,
   "metadata": {
    "collapsed": true
   },
   "outputs": [],
   "source": [
    "m2 = [Linear(784, 100), RELU(), Linear(100, 100), RELU(), Linear(100, 10)]\n",
    "nll2 = NLLLoss()\n",
    "nn2 = NeuralNetwork(m2)"
   ]
  },
  {
   "cell_type": "code",
   "execution_count": 66,
   "metadata": {
    "collapsed": false
   },
   "outputs": [
    {
     "name": "stdout",
     "output_type": "stream",
     "text": [
      "Epoch 0 finished\n",
      "Epoch 1 finished\n",
      "Epoch 2 finished\n",
      "Epoch 3 finished\n",
      "Epoch 4 finished\n",
      "Epoch 5 finished\n",
      "Epoch 6 finished\n",
      "Epoch 7 finished\n",
      "Epoch 8 finished\n",
      "Epoch 9 finished\n"
     ]
    }
   ],
   "source": [
    "losses2 = emulate(10, train_loader, 0.9, nn2, nll2, np.empty(0), np.empty(0))"
   ]
  },
  {
   "cell_type": "code",
   "execution_count": 67,
   "metadata": {
    "collapsed": false
   },
   "outputs": [
    {
     "data": {
      "text/plain": [
       "-2.3899647112912406"
      ]
     },
     "execution_count": 67,
     "metadata": {},
     "output_type": "execute_result"
    }
   ],
   "source": [
    "losses2.max()"
   ]
  },
  {
   "cell_type": "code",
   "execution_count": 68,
   "metadata": {
    "collapsed": false
   },
   "outputs": [
    {
     "data": {
      "text/plain": [
       "[<matplotlib.lines.Line2D at 0x10e9d0fd0>]"
      ]
     },
     "execution_count": 68,
     "metadata": {},
     "output_type": "execute_result"
    },
    {
     "data": {
      "image/png": "[encoded data removed]",
      "text/plain": [
       "<matplotlib.figure.Figure at 0x10ec63cc0>"
      ]
     },
     "metadata": {},
     "output_type": "display_data"
    }
   ],
   "source": [
    "plt.plot([i for i in range(len(losses2))], -1 * losses2)"
   ]
  },
  {
   "cell_type": "code",
   "execution_count": null,
   "metadata": {
    "collapsed": true
   },
   "outputs": [],
   "source": []
  },
  {
   "cell_type": "code",
   "execution_count": 22,
   "metadata": {
    "collapsed": true
   },
   "outputs": [],
   "source": [
    "m3 = [Linear(784, 100), ELU(), Linear(100, 100), ELU(), Linear(100, 10)]\n",
    "nll3 = NLLLoss()\n",
    "nn3 = NeuralNetwork(m3)"
   ]
  },
  {
   "cell_type": "code",
   "execution_count": 23,
   "metadata": {
    "collapsed": false
   },
   "outputs": [
    {
     "name": "stdout",
     "output_type": "stream",
     "text": [
      "Epoch 0 finished\n",
      "Epoch 1 finished\n",
      "Epoch 2 finished\n",
      "Epoch 3 finished\n",
      "Epoch 4 finished\n",
      "Epoch 5 finished\n",
      "Epoch 6 finished\n",
      "Epoch 7 finished\n",
      "Epoch 8 finished\n",
      "Epoch 9 finished\n"
     ]
    }
   ],
   "source": [
    "losses3 = emulate(10, train_loader, 0.001, nn3, nll3, np.empty(0), np.empty(0))"
   ]
  },
  {
   "cell_type": "code",
   "execution_count": 24,
   "metadata": {
    "collapsed": false
   },
   "outputs": [
    {
     "data": {
      "text/plain": [
       "-12.755380082197739"
      ]
     },
     "execution_count": 24,
     "metadata": {},
     "output_type": "execute_result"
    }
   ],
   "source": [
    "losses3.max()"
   ]
  },
  {
   "cell_type": "code",
   "execution_count": 25,
   "metadata": {
    "collapsed": false
   },
   "outputs": [
    {
     "data": {
      "text/plain": [
       "[<matplotlib.lines.Line2D at 0x10f3e2a20>]"
      ]
     },
     "execution_count": 25,
     "metadata": {},
     "output_type": "execute_result"
    },
    {
     "data": {
      "image/png": "[encoded data removed]",
      "text/plain": [
       "<matplotlib.figure.Figure at 0x10f3914a8>"
      ]
     },
     "metadata": {},
     "output_type": "display_data"
    }
   ],
   "source": [
    "plt.plot([i for i in range(len(losses3))], -1 * losses3)"
   ]
  },
  {
   "cell_type": "code",
   "execution_count": null,
   "metadata": {
    "collapsed": true
   },
   "outputs": [],
   "source": []
  },
  {
   "cell_type": "markdown",
   "metadata": {},
   "source": [
    "### Часть 3: Предобработка данных"
   ]
  },
  {
   "cell_type": "markdown",
   "metadata": {},
   "source": [
    "Посчитайте на всей обучающей выборке матрицу ковариации и среднее. Нормализуйте данные по схеме: вычесть среднее, декоррелировать, нормировать дисперсию. Сравните графики обучения на одной и той же архитектуре с и без предобработки."
   ]
  },
  {
   "cell_type": "code",
   "execution_count": 26,
   "metadata": {
    "collapsed": false
   },
   "outputs": [],
   "source": [
    "D = np.empty(0)\n",
    "for X, y in train_loader:\n",
    "    X = X.view(X.size(0), -1)\n",
    "    X = X.numpy()\n",
    "    \n",
    "    if (len(D) == 0):\n",
    "        D = X\n",
    "    else:\n",
    "        D = np.vstack((D, X))\n",
    "    \n",
    "    if (D.shape[0] > 1000):\n",
    "        break\n",
    "cov = np.dot(D.T, D) * (1.0 / D.shape[0])\n",
    "expectation = D.mean(axis=0)"
   ]
  },
  {
   "cell_type": "code",
   "execution_count": 106,
   "metadata": {
    "collapsed": false
   },
   "outputs": [],
   "source": [
    "m4 = [Linear(784, 100), Sigmoid(), Linear(100, 100), Sigmoid(), Linear(100, 10)]\n",
    "nll4 = NLLLoss()\n",
    "nn4 = NeuralNetwork(m4)"
   ]
  },
  {
   "cell_type": "code",
   "execution_count": 107,
   "metadata": {
    "collapsed": false
   },
   "outputs": [
    {
     "name": "stdout",
     "output_type": "stream",
     "text": [
      "Epoch 0 finished\n",
      "Epoch 1 finished\n",
      "Epoch 2 finished\n",
      "Epoch 3 finished\n",
      "Epoch 4 finished\n",
      "Epoch 5 finished\n",
      "Epoch 6 finished\n",
      "Epoch 7 finished\n",
      "Epoch 8 finished\n",
      "Epoch 9 finished\n",
      "Epoch 10 finished\n",
      "Epoch 11 finished\n",
      "Epoch 12 finished\n",
      "Epoch 13 finished\n",
      "Epoch 14 finished\n",
      "Epoch 15 finished\n",
      "Epoch 16 finished\n",
      "Epoch 17 finished\n",
      "Epoch 18 finished\n",
      "Epoch 19 finished\n",
      "Epoch 20 finished\n",
      "Epoch 21 finished\n",
      "Epoch 22 finished\n",
      "Epoch 23 finished\n",
      "Epoch 24 finished\n",
      "Epoch 25 finished\n",
      "Epoch 26 finished\n",
      "Epoch 27 finished\n",
      "Epoch 28 finished\n",
      "Epoch 29 finished\n"
     ]
    }
   ],
   "source": [
    "losses4 = emulate(30, train_loader, 1, nn4, nll4, cov, expectation)"
   ]
  },
  {
   "cell_type": "code",
   "execution_count": 112,
   "metadata": {
    "collapsed": false
   },
   "outputs": [
    {
     "data": {
      "text/plain": [
       "-0.1282669602983072"
      ]
     },
     "execution_count": 112,
     "metadata": {},
     "output_type": "execute_result"
    }
   ],
   "source": [
    "losses4.max()"
   ]
  },
  {
   "cell_type": "code",
   "execution_count": 109,
   "metadata": {
    "collapsed": false
   },
   "outputs": [
    {
     "data": {
      "text/plain": [
       "[<matplotlib.lines.Line2D at 0x10e9d9a20>]"
      ]
     },
     "execution_count": 109,
     "metadata": {},
     "output_type": "execute_result"
    },
    {
     "data": {
      "image/png": "[encoded data removed]",
      "text/plain": [
       "<matplotlib.figure.Figure at 0x10e2c7438>"
      ]
     },
     "metadata": {},
     "output_type": "display_data"
    }
   ],
   "source": [
    "plt.plot([i for i in range(len(losses4))], -1 * losses4)"
   ]
  },
  {
   "cell_type": "code",
   "execution_count": 113,
   "metadata": {
    "collapsed": false
   },
   "outputs": [
    {
     "data": {
      "text/plain": [
       "-1.72915517366741"
      ]
     },
     "execution_count": 113,
     "metadata": {},
     "output_type": "execute_result"
    }
   ],
   "source": [
    "predict(test_loader, nn4, nll4, cov, expectation)"
   ]
  },
  {
   "cell_type": "markdown",
   "metadata": {},
   "source": [
    "### Часть 4: Выводы\n",
    "Опишите полученные результаты: как влияют выбор нелинейности и предобработка данных на скорость сходимости и итоговое качество?"
   ]
  },
  {
   "cell_type": "code",
   "execution_count": null,
   "metadata": {
    "collapsed": true
   },
   "outputs": [],
   "source": []
  },
  {
   "cell_type": "markdown",
   "metadata": {},
   "source": [
    "ReLu и ELU сходятся намного хуже по сравнению с сигмоидой и итоговое качество плохое.\n",
    "\n",
    "Нормализация данных немного ускоряет сходимость в данном случае, по сравнению с сигмоидой,\n",
    "но качество на тестовых данных ухудшается тоже быстрее."
   ]
  },
  {
   "cell_type": "code",
   "execution_count": null,
   "metadata": {
    "collapsed": true
   },
   "outputs": [],
   "source": []
  }
 ],
 "metadata": {
  "kernelspec": {
   "display_name": "Python 3",
   "language": "python3",
   "name": "python3"
  },
  "language_info": {
   "codemirror_mode": {
    "name": "ipython",
    "version": 3
   },
   "file_extension": ".py",
   "mimetype": "text/x-python",
   "name": "python",
   "nbconvert_exporter": "python",
   "pygments_lexer": "ipython3",
   "version": "3.5.1"
  }
 },
 "nbformat": 4,
 "nbformat_minor": 2
}
