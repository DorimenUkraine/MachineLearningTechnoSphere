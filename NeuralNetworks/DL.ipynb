{
 "cells": [
  {
   "cell_type": "markdown",
   "metadata": {},
   "source": [
    "## Семинар 5: \"Улучшение сходимости нейросетей\""
   ]
  },
  {
   "cell_type": "markdown",
   "metadata": {},
   "source": [
    "ФИО:"
   ]
  },
  {
   "cell_type": "code",
   "execution_count": 1,
   "metadata": {
    "collapsed": false
   },
   "outputs": [
    {
     "name": "stderr",
     "output_type": "stream",
     "text": [
      "/Library/Frameworks/Python.framework/Versions/3.5/lib/python3.5/site-packages/sklearn/cross_validation.py:44: DeprecationWarning: This module was deprecated in version 0.18 in favor of the model_selection module into which all the refactored classes and functions are moved. Also note that the interface of the new CV iterators are different from that of this module. This module will be removed in 0.20.\n",
      "  \"This module will be removed in 0.20.\", DeprecationWarning)\n"
     ]
    }
   ],
   "source": [
    "import numpy as np\n",
    "from sklearn.datasets import fetch_mldata\n",
    "from sklearn.cross_validation import train_test_split\n",
    "import matplotlib.pyplot as plt\n",
    "import torch\n",
    "from torch import nn\n",
    "from torch.autograd import Variable\n",
    "from torch.utils.data import DataLoader\n",
    "from torchvision.datasets import MNIST\n",
    "from torchvision import transforms\n",
    "\n",
    "from tqdm import tqdm\n",
    "\n",
    "%matplotlib inline"
   ]
  },
  {
   "cell_type": "markdown",
   "metadata": {},
   "source": [
    "На этом семинаре мы попробуем улучшить результаты, полученные на предыдущем занятии\n",
    "Для этого нам понадобятся следующие вещи:\n",
    "* Dropout\n",
    "* Batch Normalization\n",
    "* Инициализация весов"
   ]
  },
  {
   "cell_type": "markdown",
   "metadata": {},
   "source": [
    "### Часть 1: Инициализация весов"
   ]
  },
  {
   "cell_type": "markdown",
   "metadata": {},
   "source": [
    "На лекции доказывалось, что при инициализации He и Glorot дисперсия активаций градиентов в каждом слое будут примерно равны. Давайте проверим это. "
   ]
  },
  {
   "cell_type": "code",
   "execution_count": 2,
   "metadata": {
    "collapsed": true
   },
   "outputs": [],
   "source": [
    "# Dataloader\n",
    "to_numpy = lambda x: x.numpy()\n",
    "transform = transforms.Compose([\n",
    "                       transforms.ToTensor(),\n",
    "                       transforms.Normalize((0.1307,), (0.3081,))\n",
    "                    ])\n",
    "train_dataset = MNIST('.', train=True, download=True, transform=transform)\n",
    "test_dataset = MNIST('.', train=False, transform=transform)\n",
    "\n",
    "train_loader = DataLoader(train_dataset, batch_size=32, shuffle=True)\n",
    "test_loader = DataLoader(test_dataset, batch_size=32, shuffle=True)"
   ]
  },
  {
   "cell_type": "code",
   "execution_count": 4,
   "metadata": {
    "collapsed": true
   },
   "outputs": [],
   "source": [
    "## Usage example:\n",
    "for X, y in train_loader:\n",
    "    X = X.view(X.size(0), -1)\n",
    "    X = X.numpy() ### Converts torch.Tensor to numpy array\n",
    "    y = y.numpy()\n",
    "    pass"
   ]
  },
  {
   "cell_type": "code",
   "execution_count": 5,
   "metadata": {
    "collapsed": false
   },
   "outputs": [
    {
     "data": {
      "image/png": "[encoded data removed]",
      "text/plain": [
       "<matplotlib.figure.Figure at 0x10c653a90>"
      ]
     },
     "metadata": {},
     "output_type": "display_data"
    }
   ],
   "source": [
    "plt.figure(figsize=(6, 7))\n",
    "for i in range(25):\n",
    "    plt.subplot(5, 5, i+1)\n",
    "    plt.imshow(X[i].reshape(28, 28), cmap=plt.cm.Greys_r)\n",
    "    plt.title(y[i])\n",
    "    plt.axis('off')"
   ]
  },
  {
   "cell_type": "markdown",
   "metadata": {},
   "source": [
    "<i> 1.1 </i> Инициализируйте полносвязную сеть нормальным шумом N(0, 0.1) с архитектурой 784 -> 500 x (10 раз) -> 10. В качестве активации возьмите tanh"
   ]
  },
  {
   "cell_type": "code",
   "execution_count": 77,
   "metadata": {
    "collapsed": true
   },
   "outputs": [],
   "source": [
    "def init_layer(layer, mean=0, std=1):\n",
    "    # Тут надо быть аккуратным — можно случайно создать копию и менять значения у копии\n",
    "    weight = layer.state_dict()['weight']\n",
    "    bias = layer.state_dict()['bias']\n",
    "    bias.zero_()\n",
    "    weight.normal_(mean, std)\n",
    "\n",
    "def forward_hook(self, input_, output):\n",
    "    std = input_[0].std().data[0]\n",
    "    print('forward', std)\n",
    "\n",
    "def backward_hook(self, grad_input, grad_output):\n",
    "    std = grad_input[1].std().data[0]\n",
    "    print('backward', std)"
   ]
  },
  {
   "cell_type": "code",
   "execution_count": 88,
   "metadata": {
    "collapsed": false
   },
   "outputs": [],
   "source": [
    "# проверил и 1 и 0.1, при 1 по-сильнее расходится при backward\n",
    "\n",
    "layers = [nn.Linear(784, 500), nn.Tanh()]\n",
    "layers[0].register_forward_hook(forward_hook)\n",
    "layers[0].register_backward_hook(backward_hook)\n",
    "init_layer(layers[0], 0.0, 1)\n",
    "\n",
    "for i in range(10):\n",
    "    layers.append(nn.Linear(500, 500))\n",
    "    layers[-1].register_forward_hook(forward_hook)\n",
    "    layers[-1].register_backward_hook(backward_hook)\n",
    "    init_layer(layers[-1], 0.0, 1)\n",
    "    layers.append(nn.Tanh())\n",
    "\n",
    "layers.append(nn.Linear(500, 10))\n",
    "layers[-1].register_forward_hook(forward_hook)\n",
    "layers[-1].register_backward_hook(backward_hook)\n",
    "init_layer(layers[-1], 0.0, 1)\n",
    "\n",
    "model = nn.Sequential(*layers)"
   ]
  },
  {
   "cell_type": "markdown",
   "metadata": {},
   "source": [
    "<i>1.2 Пропустите батч изображений через нейронную сеть и вычислите дисперсию активаций. Затем вычислите градиент и получите дисперсию градиентов. Сравните эти значения между собой для разных слоев.</i>"
   ]
  },
  {
   "cell_type": "code",
   "execution_count": 89,
   "metadata": {
    "collapsed": false
   },
   "outputs": [
    {
     "name": "stdout",
     "output_type": "stream",
     "text": [
      "forward 0.941756010055542\n",
      "forward 0.9841473698616028\n",
      "forward 0.9815530776977539\n",
      "forward 0.9811894297599792\n",
      "forward 0.9810547828674316\n",
      "forward 0.9814184308052063\n",
      "forward 0.9816510677337646\n",
      "forward 0.9819848537445068\n",
      "forward 0.9821299910545349\n",
      "forward 0.9824293255805969\n",
      "forward 0.9825496077537537\n",
      "forward 0.9813985824584961\n",
      "backward 0.031220218166708946\n",
      "backward 0.1081717386841774\n",
      "backward 0.36859697103500366\n",
      "backward 1.2646931409835815\n",
      "backward 4.555929183959961\n",
      "backward 15.262558937072754\n",
      "backward 48.511741638183594\n",
      "backward 164.79322814941406\n",
      "backward 594.0238037109375\n",
      "backward 1979.203125\n",
      "backward 7263.6025390625\n",
      "backward 24500.923828125\n"
     ]
    }
   ],
   "source": [
    "Z = Variable(torch.from_numpy(X), requires_grad=True)\n",
    "p = Variable(torch.from_numpy(y), requires_grad=False)\n",
    "\n",
    "activations = model(Z)\n",
    "loss_fn = torch.nn.NLLLoss()\n",
    "loss = loss_fn(activations, p)\n",
    "loss.backward()"
   ]
  },
  {
   "cell_type": "markdown",
   "metadata": {},
   "source": [
    "<i>1.3 Повторите эксперимент для инициализаций He и Xavier (формулы есть в лекции).</i>"
   ]
  },
  {
   "cell_type": "code",
   "execution_count": 82,
   "metadata": {
    "collapsed": false
   },
   "outputs": [],
   "source": [
    "# Xavier\n",
    "\n",
    "layers = [nn.Linear(784, 500), nn.Tanh()]\n",
    "layers[0].register_forward_hook(forward_hook)\n",
    "layers[0].register_backward_hook(backward_hook)\n",
    "init_layer(layers[0], 0.0, np.sqrt(2.0 / 1284))\n",
    "\n",
    "for i in range(10):\n",
    "    layers.append(nn.Linear(500, 500))\n",
    "    layers[-1].register_forward_hook(forward_hook)\n",
    "    layers[-1].register_backward_hook(backward_hook)\n",
    "    init_layer(layers[-1], 0.0, np.sqrt(0.002))\n",
    "    layers.append(nn.Tanh())\n",
    "\n",
    "layers.append(nn.Linear(500, 10))\n",
    "layers[-1].register_forward_hook(forward_hook)\n",
    "layers[-1].register_backward_hook(backward_hook)\n",
    "init_layer(layers[-1], 0.0, np.sqrt(2.0 / 600))\n",
    "\n",
    "model = nn.Sequential(*layers)"
   ]
  },
  {
   "cell_type": "code",
   "execution_count": 83,
   "metadata": {
    "collapsed": false
   },
   "outputs": [
    {
     "name": "stdout",
     "output_type": "stream",
     "text": [
      "forward 0.941756010055542\n",
      "forward 0.6407968997955322\n",
      "forward 0.4899924397468567\n",
      "forward 0.41118019819259644\n",
      "forward 0.35947293043136597\n",
      "forward 0.3219256103038788\n",
      "forward 0.2928714454174042\n",
      "forward 0.2675640285015106\n",
      "forward 0.252127468585968\n",
      "forward 0.2389817237854004\n",
      "forward 0.22621752321720123\n",
      "forward 0.21676427125930786\n",
      "backward 0.0018024231540039182\n",
      "backward 0.0017121146665886045\n",
      "backward 0.001665522693656385\n",
      "backward 0.0015671539586037397\n",
      "backward 0.0014414365869015455\n",
      "backward 0.0013443793868646026\n",
      "backward 0.0012552767293527722\n",
      "backward 0.0011460016248747706\n",
      "backward 0.0010360234882682562\n",
      "backward 0.0008681573672220111\n",
      "backward 0.0006907456554472446\n",
      "backward 0.00040505555807612836\n"
     ]
    }
   ],
   "source": [
    "Z = Variable(torch.from_numpy(X), requires_grad=True)\n",
    "p = Variable(torch.from_numpy(y), requires_grad=False)\n",
    "\n",
    "activations = model(Z)\n",
    "loss_fn = torch.nn.NLLLoss()\n",
    "loss = loss_fn(activations, p)\n",
    "loss.backward()"
   ]
  },
  {
   "cell_type": "code",
   "execution_count": 84,
   "metadata": {
    "collapsed": true
   },
   "outputs": [],
   "source": [
    "# Xe\n",
    "\n",
    "layers = [nn.Linear(784, 500), nn.ReLU()]\n",
    "layers[0].register_forward_hook(forward_hook)\n",
    "layers[0].register_backward_hook(backward_hook)\n",
    "init_layer(layers[0], 0.0, np.sqrt(2.0 / 784))\n",
    "\n",
    "for i in range(10):\n",
    "    layers.append(nn.Linear(500, 500))\n",
    "    layers[-1].register_forward_hook(forward_hook)\n",
    "    layers[-1].register_backward_hook(backward_hook)\n",
    "    init_layer(layers[-1], 0.0, np.sqrt(2.0 / 500))\n",
    "    layers.append(nn.ReLU())\n",
    "\n",
    "layers.append(nn.Linear(500, 10))\n",
    "layers[-1].register_forward_hook(forward_hook)\n",
    "layers[-1].register_backward_hook(backward_hook)\n",
    "init_layer(layers[-1], 0.0, np.sqrt(2.0 / 500))\n",
    "\n",
    "model = nn.Sequential(*layers)"
   ]
  },
  {
   "cell_type": "code",
   "execution_count": 85,
   "metadata": {
    "collapsed": false
   },
   "outputs": [
    {
     "name": "stdout",
     "output_type": "stream",
     "text": [
      "forward 0.941756010055542\n",
      "forward 0.7884056568145752\n",
      "forward 0.7813846468925476\n",
      "forward 0.7909021973609924\n",
      "forward 0.7636898756027222\n",
      "forward 0.7317594289779663\n",
      "forward 0.7051092982292175\n",
      "forward 0.7223301529884338\n",
      "forward 0.7690080404281616\n",
      "forward 0.7806901335716248\n",
      "forward 0.7349286675453186\n",
      "forward 0.7446820139884949\n",
      "backward 0.0019394835690036416\n",
      "backward 0.0019212585175409913\n",
      "backward 0.0019015202997252345\n",
      "backward 0.0018365242285653949\n",
      "backward 0.0018282209057360888\n",
      "backward 0.0018298111390322447\n",
      "backward 0.0018141024047508836\n",
      "backward 0.001781004830263555\n",
      "backward 0.00169462023768574\n",
      "backward 0.0016814394621178508\n",
      "backward 0.0016801670426502824\n",
      "backward 0.001349389087408781\n"
     ]
    }
   ],
   "source": [
    "Z = Variable(torch.from_numpy(X), requires_grad=True)\n",
    "p = Variable(torch.from_numpy(y), requires_grad=False)\n",
    "\n",
    "activations = model(Z)\n",
    "loss_fn = torch.nn.NLLLoss()\n",
    "loss = loss_fn(activations, p)\n",
    "loss.backward()"
   ]
  },
  {
   "cell_type": "markdown",
   "metadata": {},
   "source": [
    "<i> 1.4 Сделайте выводы по первой части </i>"
   ]
  },
  {
   "cell_type": "raw",
   "metadata": {},
   "source": [
    "Действительно, правильная инициализация важна не только в теории, но и на практике :)"
   ]
  },
  {
   "cell_type": "markdown",
   "metadata": {},
   "source": [
    "### Часть 2: Dropout"
   ]
  },
  {
   "cell_type": "markdown",
   "metadata": {},
   "source": [
    "Другим полезным слоем является Dropout. В нем с вероятностью 1-p зануляется выход каждого нейрона. Этот слой уже реализован в pyTorch, поэтому вновь реализовывать его не интересно. Давайте реализуем DropConnect — аналог Dropout. В нем с вероятностью 1-p зануляется каждый вес слоя."
   ]
  },
  {
   "cell_type": "markdown",
   "metadata": {},
   "source": [
    "<i> 2.1 Реализуйте линейный слой с DropConnect </i>"
   ]
  },
  {
   "cell_type": "code",
   "execution_count": 3,
   "metadata": {
    "collapsed": false
   },
   "outputs": [],
   "source": [
    "# полезная функция: .bernoulli_(p)\n",
    "# не забывайте делать requires_grad=False у маски\n",
    "# помните, что в вычислениях должны участвовать Variable, а не тензоры\n",
    "# не забывайте, что в pyTorch нету broadcasting (делайте .expand)\n",
    "\n",
    "class DropConnect(nn.Module):\n",
    "    def __init__(self, input_dim, output_dim, p=0.8):\n",
    "        super(DropConnect, self).__init__()\n",
    "        \n",
    "        self.weights = nn.Parameter(torch.Tensor(input_dim, output_dim).normal_(mean=0, std=0.01), requires_grad=True)\n",
    "        self.bias = nn.Parameter(torch.Tensor(1, output_dim).zero_(), requires_grad=True)\n",
    "        self.p = p\n",
    "    \n",
    "    def forward(self, x):\n",
    "        m = Variable(torch.Tensor(*self.weights.size()).bernoulli_(self.p), requires_grad=False)\n",
    "        output = torch.mm(x, m.mul(self.weights)).add_(self.bias)\n",
    "        return output"
   ]
  },
  {
   "cell_type": "markdown",
   "metadata": {},
   "source": [
    "<i> \n",
    "2.2 Сравните графики обучения нейроных сетей:\n",
    "1. 784 -> 200 -> 200 -> 10 с ReLU и Dropout между всеми слоями \n",
    "2. 784 -> 200 -> 200 -> 10 с ReLU DropConnect вместо всех линейных слоев\n",
    "</i>"
   ]
  },
  {
   "cell_type": "code",
   "execution_count": 262,
   "metadata": {
    "collapsed": true
   },
   "outputs": [],
   "source": [
    "modeldrop = nn.Sequential(nn.Linear(784, 200), nn.Dropout(), nn.ReLU(), \n",
    "                         nn.Linear(200, 200), nn.Dropout(), nn.ReLU(), \n",
    "                         nn.Linear(200, 10), nn.LogSoftmax())"
   ]
  },
  {
   "cell_type": "code",
   "execution_count": 263,
   "metadata": {
    "collapsed": true
   },
   "outputs": [],
   "source": [
    "loss_nf = nn.NLLLoss()\n",
    "optimiser = torch.optim.Adam(params=modeldrop.parameters(), lr=0.001)"
   ]
  },
  {
   "cell_type": "code",
   "execution_count": 264,
   "metadata": {
    "collapsed": false
   },
   "outputs": [
    {
     "name": "stderr",
     "output_type": "stream",
     "text": [
      "100%|██████████| 40/40 [08:45<00:00, 15.03s/it]\n"
     ]
    }
   ],
   "source": [
    "losses = np.zeros(40)\n",
    "\n",
    "for epoch in tqdm(range(40)):\n",
    "    for X, y in train_loader:\n",
    "        out = modeldrop(Variable(X.view(X.size(0), -1)))\n",
    "        loss = loss_nf(out, Variable(y, requires_grad=False))\n",
    "        losses[epoch] = max(losses[epoch], abs(loss.data[0]))\n",
    "        \n",
    "        optimiser.zero_grad()\n",
    "        loss.backward()\n",
    "        optimiser.step()"
   ]
  },
  {
   "cell_type": "code",
   "execution_count": 265,
   "metadata": {
    "collapsed": false
   },
   "outputs": [
    {
     "data": {
      "text/plain": [
       "[<matplotlib.lines.Line2D at 0x1105edf60>]"
      ]
     },
     "execution_count": 265,
     "metadata": {},
     "output_type": "execute_result"
    },
    {
     "data": {
      "image/png": "[encoded data removed]",
      "text/plain": [
       "<matplotlib.figure.Figure at 0x1103f9ac8>"
      ]
     },
     "metadata": {},
     "output_type": "display_data"
    }
   ],
   "source": [
    "plt.plot([i for i in range(40)], losses)"
   ]
  },
  {
   "cell_type": "raw",
   "metadata": {},
   "source": [
    "Проверка корректности"
   ]
  },
  {
   "cell_type": "code",
   "execution_count": 315,
   "metadata": {
    "collapsed": true
   },
   "outputs": [],
   "source": [
    "out = modeldrop(Variable(X.view(X.size(0), -1)))\n",
    "pred = out.data.numpy().argmax(axis=1)"
   ]
  },
  {
   "cell_type": "code",
   "execution_count": 316,
   "metadata": {
    "collapsed": false
   },
   "outputs": [
    {
     "data": {
      "image/png": "[encoded data removed]",
      "text/plain": [
       "<matplotlib.figure.Figure at 0x1134e8160>"
      ]
     },
     "metadata": {},
     "output_type": "display_data"
    }
   ],
   "source": [
    "plt.figure(figsize=(6, 7))\n",
    "for i in range(25):\n",
    "    plt.subplot(5, 5, i+1)\n",
    "    plt.imshow(X.view(X.size(0), -1).numpy()[i].reshape(28, 28), cmap=plt.cm.Greys_r)\n",
    "    plt.title(pred[i])\n",
    "    plt.axis('off')"
   ]
  },
  {
   "cell_type": "code",
   "execution_count": 7,
   "metadata": {
    "collapsed": false
   },
   "outputs": [],
   "source": [
    "modeldropcon = nn.Sequential(DropConnect(784, 200, .8), nn.ReLU(), \n",
    "                         DropConnect(200, 200, .8), nn.ReLU(), \n",
    "                         DropConnect(200, 10, .8), nn.LogSoftmax())\n",
    "loss_fn2 = nn.NLLLoss()\n",
    "optimiser2 = torch.optim.Adam(params=modeldropcon.parameters(), lr=0.001)"
   ]
  },
  {
   "cell_type": "code",
   "execution_count": 8,
   "metadata": {
    "collapsed": false
   },
   "outputs": [
    {
     "name": "stderr",
     "output_type": "stream",
     "text": [
      "100%|██████████| 40/40 [11:30<00:00, 19.43s/it]\n"
     ]
    }
   ],
   "source": [
    "losses = np.zeros(40)\n",
    "\n",
    "for epoch in tqdm(range(40)):\n",
    "    for X, y in train_loader:\n",
    "        out = modeldropcon(Variable(X.view(X.size(0), -1)))\n",
    "        loss = loss_fn2(out, Variable(y, requires_grad=False))\n",
    "        losses[epoch] = max(losses[epoch], abs(loss.data[0]))\n",
    "        \n",
    "        optimiser2.zero_grad()\n",
    "        loss.backward()\n",
    "        optimiser2.step()"
   ]
  },
  {
   "cell_type": "code",
   "execution_count": 9,
   "metadata": {
    "collapsed": false
   },
   "outputs": [
    {
     "data": {
      "text/plain": [
       "[<matplotlib.lines.Line2D at 0x110448438>]"
      ]
     },
     "execution_count": 9,
     "metadata": {},
     "output_type": "execute_result"
    },
    {
     "data": {
      "image/png": "[encoded data removed]",
      "text/plain": [
       "<matplotlib.figure.Figure at 0x1102be860>"
      ]
     },
     "metadata": {},
     "output_type": "display_data"
    }
   ],
   "source": [
    "plt.plot([i for i in range(len(losses))], losses)"
   ]
  },
  {
   "cell_type": "code",
   "execution_count": 10,
   "metadata": {
    "collapsed": true
   },
   "outputs": [],
   "source": [
    "out = modeldropcon(Variable(X.view(X.size(0), -1)))\n",
    "pred = out.data.numpy().argmax(axis=1)"
   ]
  },
  {
   "cell_type": "code",
   "execution_count": 12,
   "metadata": {
    "collapsed": false
   },
   "outputs": [
    {
     "data": {
      "image/png": "[encoded data removed]",
      "text/plain": [
       "<matplotlib.figure.Figure at 0x1102d89b0>"
      ]
     },
     "metadata": {},
     "output_type": "display_data"
    }
   ],
   "source": [
    "plt.figure(figsize=(6, 7))\n",
    "for i in range(25):\n",
    "    plt.subplot(5, 5, i+1)\n",
    "    plt.imshow(X.view(X.size(0), -1).numpy()[i].reshape(28, 28), cmap=plt.cm.Greys_r)\n",
    "    plt.title(pred[i])\n",
    "    plt.axis('off')"
   ]
  },
  {
   "cell_type": "markdown",
   "metadata": {},
   "source": [
    "<i> 2.3 Сделайте выводы по третьей части </i>"
   ]
  },
  {
   "cell_type": "raw",
   "metadata": {},
   "source": [
    "Видно, что Dropout с p=0.5 'колбасит' посильнее, чем Dropconnect с p=0.8, что в принципе ожидаемо\n",
    "тк в Dropout каждый раз зануляется в среднем половина выходов на слое."
   ]
  },
  {
   "cell_type": "markdown",
   "metadata": {},
   "source": [
    "В test-time стохастичность Dropout убирают и заменяют все веса на их ожидаемое значение: $\\mathbb{E}w = pw + (1-p)0 = pw$."
   ]
  },
  {
   "cell_type": "markdown",
   "metadata": {},
   "source": [
    "### Часть 3: Batch Normalization"
   ]
  },
  {
   "cell_type": "markdown",
   "metadata": {},
   "source": [
    "Наконец, давайте рассмотрим Batch Normalization. Этот слой вычитает среднее и делит на стандартное отклонение. Среднее и дисперсия вычисляются по батчу независимо для каждого нейрона. У этого слоя есть две важные проблемы: его нельзя использовать при обучении с размером батча 1 и он делает элементы батча зависимыми. Давайте реализуем аналог батч нормализации: <a href=https://arxiv.org/pdf/1607.06450.pdf>Layer normalization</a>. В layer normalization среднее и дисперсия вычисляются по активациям нейронов, независимо для каждого объекта."
   ]
  },
  {
   "cell_type": "markdown",
   "metadata": {},
   "source": [
    "<i> 3.1 Реализуйте Layer Normalization </i>"
   ]
  },
  {
   "cell_type": "code",
   "execution_count": 65,
   "metadata": {
    "collapsed": true
   },
   "outputs": [],
   "source": [
    "# полезные функции: .std(dim), .mean(dim)\n",
    "# не забывайте, что в pyTorch нету broadcasting (делайте .expand)\n",
    "\n",
    "class LayerNormalization(nn.Module):\n",
    "    def forward(self, x):\n",
    "        output = torch.div(x.sub(x.mean(dim=1).view(-1, 1).expand(*x.size())), x.std(dim=1).view(-1, 1).expand(*x.size()))\n",
    "        return output"
   ]
  },
  {
   "cell_type": "markdown",
   "metadata": {},
   "source": [
    "<i> \n",
    "3.2 Сравните графики обучения нейроных сетей:\n",
    "1. 784 -> 200 -> 200 -> 10 с ReLU и Batch normalization между всеми слоями \n",
    "2. 784 -> 200 -> 200 -> 10 с ReLU и Layer normalization между всеми слоями \n",
    "</i>"
   ]
  },
  {
   "cell_type": "code",
   "execution_count": 82,
   "metadata": {
    "collapsed": true
   },
   "outputs": [],
   "source": [
    "modellayernorm = nn.Sequential(nn.Linear(784, 200), nn.ReLU(), LayerNormalization(), \n",
    "                         nn.Linear(200, 200), nn.ReLU(), LayerNormalization(), \n",
    "                         nn.Linear(200, 10), nn.LogSoftmax())\n",
    "loss_fn3 = nn.NLLLoss()\n",
    "optimiser3 = torch.optim.Adam(params=modellayernorm.parameters(), lr=0.001)"
   ]
  },
  {
   "cell_type": "code",
   "execution_count": 83,
   "metadata": {
    "collapsed": false
   },
   "outputs": [
    {
     "name": "stderr",
     "output_type": "stream",
     "text": [
      "100%|██████████| 20/20 [04:39<00:00, 14.01s/it]\n"
     ]
    }
   ],
   "source": [
    "losses = np.zeros(20)\n",
    "\n",
    "for epoch in tqdm(range(20)):\n",
    "    for X, y in train_loader:\n",
    "        out = modellayernorm(Variable(X.view(X.size(0), -1)))\n",
    "        loss = loss_fn3(out, Variable(y, requires_grad=False))\n",
    "        losses[epoch] = max(losses[epoch], abs(loss.data[0]))\n",
    "        \n",
    "        optimiser3.zero_grad()\n",
    "        loss.backward()\n",
    "        optimiser3.step()"
   ]
  },
  {
   "cell_type": "code",
   "execution_count": 84,
   "metadata": {
    "collapsed": false
   },
   "outputs": [
    {
     "data": {
      "text/plain": [
       "[<matplotlib.lines.Line2D at 0x110bba588>]"
      ]
     },
     "execution_count": 84,
     "metadata": {},
     "output_type": "execute_result"
    },
    {
     "data": {
      "image/png": "[encoded data removed]",
      "text/plain": [
       "<matplotlib.figure.Figure at 0x110d380f0>"
      ]
     },
     "metadata": {},
     "output_type": "display_data"
    }
   ],
   "source": [
    "plt.plot([i for i in range(len(losses))], losses)"
   ]
  },
  {
   "cell_type": "code",
   "execution_count": 85,
   "metadata": {
    "collapsed": true
   },
   "outputs": [],
   "source": [
    "out = modellayernorm(Variable(X.view(X.size(0), -1)))\n",
    "pred = out.data.numpy().argmax(axis=1)"
   ]
  },
  {
   "cell_type": "code",
   "execution_count": 86,
   "metadata": {
    "collapsed": false
   },
   "outputs": [
    {
     "data": {
      "image/png": "[encoded data removed]",
      "text/plain": [
       "<matplotlib.figure.Figure at 0x11084a470>"
      ]
     },
     "metadata": {},
     "output_type": "display_data"
    }
   ],
   "source": [
    "plt.figure(figsize=(6, 7))\n",
    "for i in range(25):\n",
    "    plt.subplot(5, 5, i+1)\n",
    "    plt.imshow(X.view(X.size(0), -1).numpy()[i].reshape(28, 28), cmap=plt.cm.Greys_r)\n",
    "    plt.title(pred[i])\n",
    "    plt.axis('off')"
   ]
  },
  {
   "cell_type": "code",
   "execution_count": null,
   "metadata": {
    "collapsed": true
   },
   "outputs": [],
   "source": []
  },
  {
   "cell_type": "code",
   "execution_count": 90,
   "metadata": {
    "collapsed": false
   },
   "outputs": [],
   "source": [
    "modelbatchnorm = nn.Sequential(nn.Linear(784, 200), nn.ReLU(), nn.BatchNorm1d(200),\n",
    "                         nn.Linear(200, 200), nn.ReLU(), nn.BatchNorm1d(200),\n",
    "                         nn.Linear(200, 10), nn.LogSoftmax())\n",
    "loss_fn4 = nn.NLLLoss()\n",
    "optimiser4 = torch.optim.Adam(params=modelbatchnorm.parameters(), lr=0.001)"
   ]
  },
  {
   "cell_type": "code",
   "execution_count": 91,
   "metadata": {
    "collapsed": false
   },
   "outputs": [
    {
     "name": "stderr",
     "output_type": "stream",
     "text": [
      "100%|██████████| 20/20 [06:01<00:00, 18.63s/it]\n"
     ]
    }
   ],
   "source": [
    "losses = np.zeros(20)\n",
    "\n",
    "for epoch in tqdm(range(20)):\n",
    "    for X, y in train_loader:\n",
    "        out = modelbatchnorm(Variable(X.view(X.size(0), -1)))\n",
    "        loss = loss_fn4(out, Variable(y, requires_grad=False))\n",
    "        losses[epoch] = max(losses[epoch], abs(loss.data[0]))\n",
    "        \n",
    "        optimiser4.zero_grad()\n",
    "        loss.backward()\n",
    "        optimiser4.step()"
   ]
  },
  {
   "cell_type": "code",
   "execution_count": 92,
   "metadata": {
    "collapsed": false
   },
   "outputs": [
    {
     "data": {
      "text/plain": [
       "[<matplotlib.lines.Line2D at 0x1110224a8>]"
      ]
     },
     "execution_count": 92,
     "metadata": {},
     "output_type": "execute_result"
    },
    {
     "data": {
      "image/png": "[encoded data removed]",
      "text/plain": [
       "<matplotlib.figure.Figure at 0x110805b38>"
      ]
     },
     "metadata": {},
     "output_type": "display_data"
    }
   ],
   "source": [
    "plt.plot([i for i in range(len(losses))], losses)"
   ]
  },
  {
   "cell_type": "markdown",
   "metadata": {},
   "source": [
    "<i> 3.3 Сделайте выводы по третьей части </i>"
   ]
  },
  {
   "cell_type": "raw",
   "metadata": {},
   "source": [
    "В сравнении с моделью без нормализации, эти действительно лучше работают"
   ]
  },
  {
   "cell_type": "markdown",
   "metadata": {},
   "source": [
    "#### Feedback (опционально)"
   ]
  },
  {
   "cell_type": "markdown",
   "metadata": {},
   "source": [
    "Здесь вы можете оставить список опечаток из лекции или семинара:"
   ]
  },
  {
   "cell_type": "raw",
   "metadata": {},
   "source": []
  },
  {
   "cell_type": "markdown",
   "metadata": {},
   "source": [
    "Здесь вы можете оставить комментарии по лекции или семинару:"
   ]
  },
  {
   "cell_type": "raw",
   "metadata": {},
   "source": []
  }
 ],
 "metadata": {
  "kernelspec": {
   "display_name": "Python 3",
   "language": "python3",
   "name": "python3"
  },
  "language_info": {
   "codemirror_mode": {
    "name": "ipython",
    "version": 3
   },
   "file_extension": ".py",
   "mimetype": "text/x-python",
   "name": "python",
   "nbconvert_exporter": "python",
   "pygments_lexer": "ipython3",
   "version": "3.5.1"
  },
  "latex_envs": {
   "bibliofile": "biblio.bib",
   "cite_by": "apalike",
   "current_citInitial": 1,
   "eqLabelWithNumbers": true,
   "eqNumInitial": 0
  }
 },
 "nbformat": 4,
 "nbformat_minor": 1
}
