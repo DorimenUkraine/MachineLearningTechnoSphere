{
 "cells": [
  {
   "cell_type": "code",
   "execution_count": 1,
   "metadata": {
    "collapsed": true
   },
   "outputs": [],
   "source": [
    "import gzip\n",
    "import bz2\n",
    "import pickle\n",
    "from nltk.stem import SnowballStemmer\n",
    "from nltk.corpus import stopwords\n",
    "from nltk import ngrams\n",
    "from pymystem3 import Mystem\n",
    "import re\n",
    "from collections import Counter"
   ]
  },
  {
   "cell_type": "code",
   "execution_count": 2,
   "metadata": {
    "collapsed": true
   },
   "outputs": [],
   "source": [
    "from joblib import Parallel, delayed"
   ]
  },
  {
   "cell_type": "code",
   "execution_count": 3,
   "metadata": {
    "collapsed": true
   },
   "outputs": [],
   "source": [
    "import os"
   ]
  },
  {
   "cell_type": "code",
   "execution_count": 4,
   "metadata": {
    "collapsed": true
   },
   "outputs": [],
   "source": [
    "from tqdm import tqdm"
   ]
  },
  {
   "cell_type": "code",
   "execution_count": 5,
   "metadata": {
    "collapsed": true
   },
   "outputs": [],
   "source": [
    "from sklearn.feature_extraction.text import CountVectorizer"
   ]
  },
  {
   "cell_type": "code",
   "execution_count": 6,
   "metadata": {
    "collapsed": true
   },
   "outputs": [],
   "source": [
    "import torch\n",
    "import torch.nn as nn\n",
    "import torch.nn.functional as F\n",
    "import torch.optim as optim\n",
    "\n",
    "import numpy as np\n",
    "\n",
    "from torch.autograd import Variable"
   ]
  },
  {
   "cell_type": "code",
   "execution_count": null,
   "metadata": {
    "collapsed": true
   },
   "outputs": [],
   "source": []
  },
  {
   "cell_type": "code",
   "execution_count": 7,
   "metadata": {
    "collapsed": true
   },
   "outputs": [],
   "source": [
    "def fixurl(url):\n",
    "    res = url\n",
    "    if res.startswith('http://'):\n",
    "        res = res[7:]\n",
    "        \n",
    "    if res.startswith('https://'):\n",
    "        res = res[8:]\n",
    "        \n",
    "    if res.startswith('www.'):\n",
    "        res = res[4:]\n",
    "        \n",
    "    if res.endswith('/'):\n",
    "        res = res[:-1]\n",
    "        \n",
    "    return res"
   ]
  },
  {
   "cell_type": "code",
   "execution_count": 8,
   "metadata": {
    "collapsed": true
   },
   "outputs": [],
   "source": [
    "url2id = dict()\n",
    "with open('./url.data', 'r') as fin:\n",
    "    for line in fin:\n",
    "        idx, url = line.strip().split('\\t')\n",
    "    \n",
    "# with these fixes len(url2id) = 582092 < 582167\n",
    "        url = fixurl(url)\n",
    "        \n",
    "#         if url in url2id:\n",
    "#             print(url)\n",
    "    \n",
    "        url2id[url] = idx"
   ]
  },
  {
   "cell_type": "code",
   "execution_count": 9,
   "metadata": {
    "collapsed": false
   },
   "outputs": [
    {
     "data": {
      "text/plain": [
       "582094"
      ]
     },
     "execution_count": 9,
     "metadata": {},
     "output_type": "execute_result"
    }
   ],
   "source": [
    "len(url2id)"
   ]
  },
  {
   "cell_type": "code",
   "execution_count": null,
   "metadata": {
    "collapsed": true
   },
   "outputs": [],
   "source": []
  },
  {
   "cell_type": "code",
   "execution_count": 10,
   "metadata": {
    "collapsed": true
   },
   "outputs": [],
   "source": [
    "pattern = re.compile('\\d+|[^\\W\\d]+')\n",
    "id2title = dict()\n",
    "with open('./titles.txt', 'r') as fin:\n",
    "    for line in fin:\n",
    "#         print(line)\n",
    "        splits = line.strip().lower().split('\\t')\n",
    "        if len(splits) == 1:\n",
    "            id2title[splits[0]] = ''\n",
    "        else:\n",
    "            id2title[splits[0]] = '#' + '#'.join(pattern.findall(splits[1])) + '#'"
   ]
  },
  {
   "cell_type": "code",
   "execution_count": 11,
   "metadata": {
    "collapsed": false
   },
   "outputs": [
    {
     "data": {
      "text/plain": [
       "582167"
      ]
     },
     "execution_count": 11,
     "metadata": {},
     "output_type": "execute_result"
    }
   ],
   "source": [
    "len(id2title)"
   ]
  },
  {
   "cell_type": "code",
   "execution_count": null,
   "metadata": {
    "collapsed": true
   },
   "outputs": [],
   "source": []
  },
  {
   "cell_type": "code",
   "execution_count": null,
   "metadata": {
    "collapsed": true
   },
   "outputs": [],
   "source": []
  },
  {
   "cell_type": "code",
   "execution_count": 12,
   "metadata": {
    "collapsed": true
   },
   "outputs": [],
   "source": [
    "d3g = {}\n",
    "with open('3gramms-total.dict', 'rb') as fin:\n",
    "    d3g = pickle.load(fin)"
   ]
  },
  {
   "cell_type": "code",
   "execution_count": 13,
   "metadata": {
    "collapsed": true
   },
   "outputs": [],
   "source": [
    "keys = list(map(lambda x: x[0], d3g.most_common()[0:30000]))"
   ]
  },
  {
   "cell_type": "code",
   "execution_count": 14,
   "metadata": {
    "collapsed": true
   },
   "outputs": [],
   "source": [
    "cv = CountVectorizer(vocabulary=keys, analyzer='char', ngram_range=(3,3))"
   ]
  },
  {
   "cell_type": "code",
   "execution_count": null,
   "metadata": {
    "collapsed": true
   },
   "outputs": [],
   "source": []
  },
  {
   "cell_type": "code",
   "execution_count": 15,
   "metadata": {
    "collapsed": true
   },
   "outputs": [],
   "source": [
    "class SiameseNet(nn.Module):\n",
    "    def __init__(self):\n",
    "        super(SiameseNet, self).__init__()\n",
    "        \n",
    "        self.qn = nn.Sequential(\n",
    "            nn.Linear(30000, 300),\n",
    "            nn.Tanh(),\n",
    "            nn.Linear(300, 300),\n",
    "            nn.Tanh(),\n",
    "            nn.Linear(300, 128),\n",
    "        )\n",
    "        \n",
    "        self.dn = nn.Sequential(\n",
    "            nn.Linear(30000, 300),\n",
    "            nn.Tanh(),\n",
    "            nn.Linear(300, 300),\n",
    "            nn.Tanh(),\n",
    "            nn.Linear(300, 128),\n",
    "        )\n",
    "        \n",
    "        self.cos = nn.CosineSimilarity(dim=1)\n",
    "    \n",
    "    def forward(self, X1, X2):\n",
    "        return self.cos(self.qn(X1), self.dn(X2))"
   ]
  },
  {
   "cell_type": "code",
   "execution_count": null,
   "metadata": {
    "collapsed": true
   },
   "outputs": [],
   "source": []
  },
  {
   "cell_type": "code",
   "execution_count": null,
   "metadata": {
    "collapsed": true
   },
   "outputs": [],
   "source": []
  },
  {
   "cell_type": "code",
   "execution_count": null,
   "metadata": {
    "collapsed": true
   },
   "outputs": [],
   "source": []
  },
  {
   "cell_type": "code",
   "execution_count": 16,
   "metadata": {
    "collapsed": true
   },
   "outputs": [],
   "source": [
    "model = SiameseNet()\n",
    "softmax = nn.Softmax(dim=0)\n",
    "loss = nn.BCELoss()\n",
    "optimizer = optim.SGD(model.parameters(), lr=0.0001)"
   ]
  },
  {
   "cell_type": "code",
   "execution_count": 17,
   "metadata": {
    "collapsed": true
   },
   "outputs": [],
   "source": [
    "# y = Variable(torch.FloatTensor([1, 0, 0, 0, 0]), requires_grad=False)"
   ]
  },
  {
   "cell_type": "code",
   "execution_count": null,
   "metadata": {
    "collapsed": true
   },
   "outputs": [],
   "source": []
  },
  {
   "cell_type": "code",
   "execution_count": null,
   "metadata": {
    "collapsed": true
   },
   "outputs": [],
   "source": []
  },
  {
   "cell_type": "code",
   "execution_count": 18,
   "metadata": {
    "collapsed": true
   },
   "outputs": [],
   "source": [
    "def processB(lines):\n",
    "    pattern = re.compile('\\d+|[^\\W\\d]+')\n",
    "    \n",
    "    result_x1 = np.ndarray((0,30000))\n",
    "    result_x2 = np.ndarray((0,30000))\n",
    "    result_y = []\n",
    "    \n",
    "    for line in lines:\n",
    "        splits = line.lower().strip().split('\\t')\n",
    "        text = '#' + '#'.join(pattern.findall(splits[0])) + '#'\n",
    "        positive = set(splits[2].split(','))\n",
    "        negative = set(splits[1].split(',')).difference(positive)\n",
    "        \n",
    "        for pos in positive:\n",
    "            x1 = cv.transform([text for i in range(5)]).toarray()\n",
    "            \n",
    "            ds = [pos]\n",
    "            \n",
    "            if len(negative) >= 4:\n",
    "                ds += list(np.random.permutation(list(negative))[0:4])\n",
    "            else:\n",
    "                ds += list(negative)\n",
    "                ds += list(map(str, np.random.randint(582167, size=4-len(negative))))\n",
    "            \n",
    "            x2 = cv.transform([id2title[doc] for doc in ds]).toarray()\n",
    "            \n",
    "            result_x1 = np.append(result_x1, x1, axis=0)\n",
    "            result_x2 = np.append(result_x2, x2, axis=0)\n",
    "            result_y += [1, 0, 0, 0, 0]\n",
    "    return result_x1, result_x2, result_y"
   ]
  },
  {
   "cell_type": "code",
   "execution_count": 19,
   "metadata": {
    "collapsed": true
   },
   "outputs": [],
   "source": [
    "#parallels work of creating batch\n",
    "def get_batch(lines, sz):\n",
    "    n_threads = 8\n",
    "    per = sz // n_threads\n",
    "    \n",
    "    n_batches = len(lines) // sz\n",
    "    \n",
    "    for i in tqdm(range(n_batches)):\n",
    "        res = Parallel(n_jobs=n_threads)(delayed(processB)(lines[i*sz + j*per : i*sz+(j+1)*per]) for j in range(n_threads))\n",
    "\n",
    "#         return res\n",
    "\n",
    "        res_x1 = np.vstack([res[j][0] for j in range(len(res))])\n",
    "        res_x2 = np.vstack([res[j][1] for j in range(len(res))])\n",
    "        res_y = np.hstack([res[j][2] for j in range(len(res))])\n",
    "        \n",
    "        yield res_x1, res_x2, res_y"
   ]
  },
  {
   "cell_type": "code",
   "execution_count": null,
   "metadata": {
    "collapsed": true
   },
   "outputs": [],
   "source": []
  },
  {
   "cell_type": "code",
   "execution_count": 20,
   "metadata": {
    "collapsed": true
   },
   "outputs": [],
   "source": [
    "# for fname in os.listdir('./clicks/filtered/'):\n",
    "#     lines = []\n",
    "#     with open('./clicks/filtered/' + fname, 'r') as fin:\n",
    "#         lines = fin.readlines()\n",
    "    \n",
    "#     for line in tqdm(lines):\n",
    "#         splits = line.lower().strip().split('\\t')\n",
    "#         text = splits[0]\n",
    "#         positive = set(splits[2].split(','))\n",
    "#         negative = set(splits[1].split(',')).difference(positive)\n",
    "        \n",
    "#         for pos in positive:\n",
    "#             x1 = Variable(torch.FloatTensor(cv.transform([text for i in range(5)]).toarray()))\n",
    "            \n",
    "#             ds = [pos]\n",
    "#             ds += list(map(str, np.random.randint(582167, size=4)))\n",
    "            \n",
    "#             x2 = Variable(torch.FloatTensor(cv.transform([id2title[doc] for doc in ds]).toarray()))\n",
    "            \n",
    "#             out = model(x1, x2)\n",
    "#             sft = softmax(out)\n",
    "#             l = loss(sft, y)\n",
    "            \n",
    "#             optimizer.zero_grad()\n",
    "#             l.backward()\n",
    "#             optimizer.step()"
   ]
  },
  {
   "cell_type": "code",
   "execution_count": null,
   "metadata": {
    "collapsed": true
   },
   "outputs": [],
   "source": []
  },
  {
   "cell_type": "code",
   "execution_count": null,
   "metadata": {
    "collapsed": false
   },
   "outputs": [
    {
     "name": "stderr",
     "output_type": "stream",
     "text": [
      "100%|██████████| 2858/2858 [2:31:04<00:00,  3.17s/it]  \n",
      "100%|██████████| 2387/2387 [2:04:55<00:00,  3.14s/it]  \n",
      "100%|██████████| 2409/2409 [2:17:48<00:00,  3.43s/it]  \n",
      "100%|██████████| 2614/2614 [2:33:15<00:00,  3.52s/it]  \n",
      "100%|██████████| 1245/1245 [1:12:35<00:00,  3.50s/it]\n",
      "100%|██████████| 1625/1625 [1:28:54<00:00,  3.28s/it]\n",
      "100%|██████████| 923/923 [49:37<00:00,  3.23s/it]\n",
      "100%|██████████| 1269/1269 [1:11:01<00:00,  3.36s/it]\n",
      "100%|██████████| 2469/2469 [2:16:22<00:00,  3.31s/it]  \n",
      "100%|██████████| 1460/1460 [1:28:20<00:00,  3.63s/it]\n",
      "100%|██████████| 1902/1902 [1:49:26<00:00,  3.45s/it]\n",
      "100%|██████████| 1874/1874 [1:46:45<00:00,  3.42s/it]\n",
      "100%|██████████| 1802/1802 [1:38:21<00:00,  3.27s/it]\n",
      " 56%|█████▌    | 1740/3134 [1:39:24<1:19:38,  3.43s/it]"
     ]
    }
   ],
   "source": [
    "files = os.listdir('./clicks/filtered/')\n",
    "for fname, cnt in zip(files, range(len(files))):\n",
    "    lines = []\n",
    "    with open('./clicks/filtered/' + fname, 'r') as fin:\n",
    "        lines = fin.readlines()\n",
    "    \n",
    "    for x1, x2, y in get_batch(lines, 64):\n",
    "            x1 = Variable(torch.FloatTensor(x1))\n",
    "            x2 = Variable(torch.FloatTensor(x2))\n",
    "            y = Variable(torch.FloatTensor(y), requires_grad=False)\n",
    "            \n",
    "            out = model(x1, x2)\n",
    "            sft = softmax(out)\n",
    "            l = loss(sft, y)\n",
    "            \n",
    "            optimizer.zero_grad()\n",
    "            l.backward()\n",
    "            optimizer.step()\n",
    "    \n",
    "    torch.save(model.state_dict(), './model_30_' + str(cnt) + '.state')"
   ]
  },
  {
   "cell_type": "code",
   "execution_count": null,
   "metadata": {
    "collapsed": true
   },
   "outputs": [],
   "source": []
  },
  {
   "cell_type": "code",
   "execution_count": 23,
   "metadata": {
    "collapsed": true
   },
   "outputs": [],
   "source": [
    "torch.save(model.state_dict(), './model2.state')"
   ]
  },
  {
   "cell_type": "code",
   "execution_count": 23,
   "metadata": {
    "collapsed": true
   },
   "outputs": [],
   "source": [
    "# torch.load('./model0.state')"
   ]
  },
  {
   "cell_type": "code",
   "execution_count": null,
   "metadata": {
    "collapsed": true
   },
   "outputs": [],
   "source": []
  },
  {
   "cell_type": "code",
   "execution_count": 25,
   "metadata": {
    "collapsed": true
   },
   "outputs": [],
   "source": [
    "# softmax(model(x1, x2))"
   ]
  },
  {
   "cell_type": "code",
   "execution_count": null,
   "metadata": {
    "collapsed": true
   },
   "outputs": [],
   "source": []
  },
  {
   "cell_type": "code",
   "execution_count": 28,
   "metadata": {
    "collapsed": true
   },
   "outputs": [],
   "source": [
    "pattern = re.compile('\\d+|[^\\W\\d]+')"
   ]
  },
  {
   "cell_type": "code",
   "execution_count": null,
   "metadata": {
    "collapsed": true
   },
   "outputs": [],
   "source": []
  },
  {
   "cell_type": "code",
   "execution_count": null,
   "metadata": {
    "collapsed": true
   },
   "outputs": [],
   "source": []
  },
  {
   "cell_type": "code",
   "execution_count": 30,
   "metadata": {
    "collapsed": true
   },
   "outputs": [],
   "source": [
    "text = '13 причин почему'.lower()"
   ]
  },
  {
   "cell_type": "code",
   "execution_count": 31,
   "metadata": {
    "collapsed": true
   },
   "outputs": [],
   "source": [
    "text = '#' + '#'.join(pattern.findall(text)) + '#'"
   ]
  },
  {
   "cell_type": "code",
   "execution_count": null,
   "metadata": {
    "collapsed": true
   },
   "outputs": [],
   "source": []
  },
  {
   "cell_type": "code",
   "execution_count": 33,
   "metadata": {
    "collapsed": true
   },
   "outputs": [],
   "source": [
    "x1 = Variable(torch.FloatTensor(cv.transform([text for i in range(5)]).toarray()))\n",
    "            \n",
    "ds = ['113720', '543557', '443015', '461894', '461895']\n",
    "            \n",
    "x2 = Variable(torch.FloatTensor(cv.transform([id2title[doc] for doc in ds]).toarray()))\n",
    "            \n",
    "out = model(x1, x2)\n",
    "sft = softmax(out)"
   ]
  },
  {
   "cell_type": "code",
   "execution_count": null,
   "metadata": {
    "collapsed": true
   },
   "outputs": [],
   "source": []
  },
  {
   "cell_type": "code",
   "execution_count": 34,
   "metadata": {
    "collapsed": false
   },
   "outputs": [
    {
     "data": {
      "text/plain": [
       "tensor([ 0.0464,  0.1038,  0.0555,  0.0449,  0.0674])"
      ]
     },
     "execution_count": 34,
     "metadata": {},
     "output_type": "execute_result"
    }
   ],
   "source": [
    "out"
   ]
  },
  {
   "cell_type": "code",
   "execution_count": 35,
   "metadata": {
    "collapsed": false
   },
   "outputs": [
    {
     "data": {
      "text/plain": [
       "tensor([ 0.1965,  0.2082,  0.1983,  0.1962,  0.2007])"
      ]
     },
     "execution_count": 35,
     "metadata": {},
     "output_type": "execute_result"
    }
   ],
   "source": [
    "softmax(out)"
   ]
  },
  {
   "cell_type": "code",
   "execution_count": 76,
   "metadata": {
    "collapsed": false
   },
   "outputs": [
    {
     "data": {
      "text/plain": [
       "array([[1., 0., 0., ..., 0., 0., 0.],\n",
       "       [1., 0., 0., ..., 0., 0., 0.],\n",
       "       [1., 0., 0., ..., 0., 0., 0.],\n",
       "       ...,\n",
       "       [1., 0., 0., ..., 0., 0., 0.],\n",
       "       [1., 0., 0., ..., 0., 0., 0.],\n",
       "       [1., 0., 0., ..., 0., 0., 0.]])"
      ]
     },
     "execution_count": 76,
     "metadata": {},
     "output_type": "execute_result"
    }
   ],
   "source": [
    "processB(lines[0:4])[0]"
   ]
  },
  {
   "cell_type": "code",
   "execution_count": null,
   "metadata": {
    "collapsed": false
   },
   "outputs": [],
   "source": [
    "for x1, x2, y in get_batch(lines, 64):\n",
    "    x1 = Variable(torch.FloatTensor(x1))\n",
    "    x2 = Variable(torch.FloatTensor(x2))\n",
    "    y = Variable(torch.FloatTensor(y), requires_grad=False)\n",
    "    break"
   ]
  },
  {
   "cell_type": "code",
   "execution_count": null,
   "metadata": {
    "collapsed": false
   },
   "outputs": [],
   "source": [
    "for res in get_batch(lines, 64):\n",
    "    break"
   ]
  },
  {
   "cell_type": "code",
   "execution_count": null,
   "metadata": {
    "collapsed": false
   },
   "outputs": [],
   "source": []
  },
  {
   "cell_type": "code",
   "execution_count": null,
   "metadata": {
    "collapsed": true
   },
   "outputs": [],
   "source": []
  }
 ],
 "metadata": {
  "kernelspec": {
   "display_name": "Python 3",
   "language": "python3",
   "name": "python3"
  },
  "language_info": {
   "codemirror_mode": {
    "name": "ipython",
    "version": 3
   },
   "file_extension": ".py",
   "mimetype": "text/x-python",
   "name": "python",
   "nbconvert_exporter": "python",
   "pygments_lexer": "ipython3",
   "version": "3.5.1"
  }
 },
 "nbformat": 4,
 "nbformat_minor": 2
}
