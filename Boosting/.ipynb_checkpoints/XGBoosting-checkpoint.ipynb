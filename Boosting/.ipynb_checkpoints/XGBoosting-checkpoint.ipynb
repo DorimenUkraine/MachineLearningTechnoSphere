{
 "cells": [
  {
   "cell_type": "code",
   "execution_count": 2,
   "metadata": {
    "collapsed": true
   },
   "outputs": [],
   "source": [
    "import matplotlib.pyplot as plt\n",
    "import numpy as np\n",
    "import pandas as pd\n",
    "%matplotlib inline"
   ]
  },
  {
   "cell_type": "code",
   "execution_count": 3,
   "metadata": {
    "collapsed": true
   },
   "outputs": [],
   "source": [
    "from line_profiler import LineProfiler"
   ]
  },
  {
   "cell_type": "code",
   "execution_count": 4,
   "metadata": {
    "collapsed": true
   },
   "outputs": [],
   "source": [
    "%load_ext Cython"
   ]
  },
  {
   "cell_type": "code",
   "execution_count": 5,
   "metadata": {
    "collapsed": true
   },
   "outputs": [],
   "source": [
    "def profile_print(func_to_call, *args):\n",
    "    profiler = LineProfiler()\n",
    "    profiler.add_function(func_to_call)\n",
    "    profiler.runcall(func_to_call, *args)\n",
    "    profiler.print_stats()"
   ]
  },
  {
   "cell_type": "code",
   "execution_count": null,
   "metadata": {
    "collapsed": false
   },
   "outputs": [],
   "source": [
    "%%cython -a -f --compile-args=-DCYTHON_TRACE=1\n",
    "\n",
    "import numpy as np\n",
    "cimport numpy as np\n",
    "from Cython.Compiler.Options import _directive_defaults\n",
    "\n",
    "_directive_defaults['linetrace'] = True\n",
    "_directive_defaults['binding'] = True\n",
    "\n",
    "cdef class RegressionTree:\n",
    "    cdef public int max_depth\n",
    "    cdef public np.float64_t gain\n",
    "    cdef public np.float64_t lmd\n",
    "    cdef public np.float64_t gmm\n",
    "    \n",
    "    cdef public int feature_idx\n",
    "    cdef public np.float64_t value\n",
    "    \n",
    "    cdef public np.float64_t c\n",
    "    cdef public np.float64_t[:] line\n",
    "\n",
    "    cpdef public RegressionTree left\n",
    "    cpdef public RegressionTree right\n",
    "    \n",
    "    def __init__(self, int max_depth=3, np.float64_t lmd=1.0, np.float64_t gmm=0.0):\n",
    "        self.max_depth = max_depth\n",
    "        self.gmm = gmm\n",
    "        self.lmd = lmd\n",
    "        self.left = None\n",
    "        self.right = None\n",
    "        self.value = -1000000000.0\n",
    "        self.c = 0.0\n",
    "        \n",
    "        return\n",
    "\n",
    "    def init_fit(self, np.ndarray[np.float64_t, ndim=2] X, np.ndarray[np.float64_t, ndim=1] y):\n",
    "        self.line = np.zeros(X.shape[1])\n",
    "    \n",
    "    def fit(self, np.ndarray[np.float64_t, ndim=2] X, np.ndarray[np.float64_t, ndim=1] y):\n",
    "\n",
    "        if X.shape[0] <= 1 or self.max_depth <= 1:\n",
    "            return\n",
    "\n",
    "        self.init_fit(X, y)\n",
    "\n",
    "        cpdef long N = X.shape[0], N1 = X.shape[0], N2 = 0\n",
    "        cpdef long feature_idx = -1\n",
    "        cpdef np.float64_t feature_threshold = 0, gamma, left_value = 0, right_value = 0\n",
    "        \n",
    "        cpdef long idx = 0, f, i, j\n",
    "        cpdef long thres = 0\n",
    "        cpdef np.float64_t gl, gr, gn\n",
    "        \n",
    "        cpdef np.ndarray[np.float64_t, ndim=1] u, v\n",
    "        cpdef np.ndarray[long, ndim=1] idxs\n",
    "        \n",
    "        cpdef np.float64_t x = 0.0\n",
    "        \n",
    "        cpdef np.float64_t best_gain = -self.gmm\n",
    "        \n",
    "        u = np.zeros(X.shape[0])\n",
    "        v = np.zeros(X.shape[0])\n",
    "        mask1 = np.zeros(X.shape[0], dtype=bool)\n",
    "        mask2 = np.zeros(X.shape[0], dtype=bool)\n",
    "        self.line = np.zeros(X.shape[1])\n",
    "\n",
    "        if self.value == -1000000000.0:\n",
    "            self.value = y.mean()\n",
    "\n",
    "        flag = 0\n",
    "        \n",
    "        # init with best orthogonal split\n",
    "#         for f in range(X.shape[1]):\n",
    "#             idxs = np.argsort(X[:, f])\n",
    "            \n",
    "#             gl = y.sum()\n",
    "#             gr = 0.0\n",
    "\n",
    "#             N1, N2 = N, 0\n",
    "#             thres = 0\n",
    "            \n",
    "#             while thres < N - 1:\n",
    "#                 N1 -= 1\n",
    "#                 N2 += 1\n",
    "\n",
    "#                 idx = idxs[thres]\n",
    "#                 x = X[idx, f]\n",
    "                \n",
    "#                 gl -= y[idx]\n",
    "#                 gr += y[idx]\n",
    "\n",
    "#                 gn = (gl**2) / (N1 + self.lmd) \n",
    "#                 gn += (gr**2) / (N2 + self.lmd)\n",
    "#                 gn -= ((gl + gr)**2) / (N1 + N2 + self.lmd) \n",
    "#                 gn -= self.gmm\n",
    "                \n",
    "#                 if thres < N - 1 and x == X[idxs[thres + 1], f]:\n",
    "#                     thres += 1\n",
    "#                     continue\n",
    "                \n",
    "#                 if gn > best_gain:\n",
    "# #                     print('Gain', gn, best_gain, self.max_depth, N1, N2)\n",
    "#                     flag = 1\n",
    "#                     best_gain = gn\n",
    "#                     left_value = -gl / (N1 + self.lmd)\n",
    "#                     right_value = -gr / (N2 + self.lmd)\n",
    "#                     feature_idx = f\n",
    "#                     feature_threshold = x\n",
    "#                 thres += 1\n",
    "\n",
    "#         if feature_idx == -1:\n",
    "# #             print('No pain No GAIN', self.max_depth)\n",
    "#             feature_idx = 0\n",
    "#             feature_threshold = X[:,0].max()\n",
    "#         left_value, right_value = right_value, left_value\n",
    "#         self.line[feature_idx] = 1.0\n",
    "#         self.c = feature_threshold\n",
    "#         self.gain = best_gain\n",
    "        \n",
    "        # now linear split\n",
    "        for i in range(X.shape[0]):\n",
    "            v[i] = self.line[feature_idx] * X[i, feature_idx]\n",
    "\n",
    "        for f in range(X.shape[1]):\n",
    "            n_line_f = self.line[f]\n",
    "            n_c = self.c\n",
    "\n",
    "            for j in range(3):\n",
    "                gamma = -0.25 + 0.25 * j\n",
    "                \n",
    "                N1 = 0\n",
    "                N2 = 0\n",
    "                gl = 0.0\n",
    "                gr = 0.0\n",
    "\n",
    "                for i in range(X.shape[0]):\n",
    "                    u[i] = v[i] - self.c\n",
    "                    \n",
    "                    if abs(X[i, f] + gamma) < 1e-16:\n",
    "                        if X[i, f] + gamma >= 0.0:\n",
    "                            u[i] /= (X[i, f] + gamma + 1e-8)\n",
    "                        else:\n",
    "                            u[i] /= (X[i, f] + gamma - 1e-8)\n",
    "                    else:\n",
    "                        u[i] /= (X[i, f] + gamma)\n",
    "                    \n",
    "                    if X[i, f] + gamma < 0:\n",
    "                        N1 += 1\n",
    "                        gl += y[i]\n",
    "                    else:\n",
    "                        N2 += 1\n",
    "                        gr += y[i]\n",
    "                gn = -self.gmm\n",
    "                if N1 != 0 and N2 != 0:\n",
    "                    gn = (gl**2) / (N1 + self.lmd) \n",
    "                    gn += (gr**2) / (N2 + self.lmd)\n",
    "                    gn -= ((gl + gr)**2) / (N1 + N2 + self.lmd) \n",
    "                    gn -= self.gmm\n",
    "                \n",
    "                idxs = np.argsort(u)\n",
    "                    \n",
    "                if gn > best_gain:\n",
    "#                     print('Gain', gn, best_gain, self.max_depth, N1, N2)\n",
    "                    flag = 1\n",
    "                    best_gain = gn\n",
    "                    left_value = -gl / (N1 + self.lmd)\n",
    "                    right_value = -gr / (N2 + self.lmd)\n",
    "                    n_line_f = self.line[f] - (u[idxs[0]] - 0.1)\n",
    "                    n_c = self.c + (u[idxs[0]] - 0.1) * gamma\n",
    "\n",
    "                for i in range(X.shape[0]):\n",
    "                    idx = idxs[i]\n",
    "\n",
    "                    if X[idx, f] + gamma >= 0:\n",
    "                        N1 += 1\n",
    "                        N2 -= 1\n",
    "                        gl += y[idx]\n",
    "                        gr -= y[idx]\n",
    "                    else:\n",
    "                        N1 -= 1\n",
    "                        N2 += 1\n",
    "                        gl -= y[idx]\n",
    "                        gr += y[idx]\n",
    "\n",
    "                    if (i != X.shape[0] - 1) and abs(u[idx] - u[idxs[i + 1]]) < 1e-9:\n",
    "                        continue\n",
    "\n",
    "                    gn = -self.gmm\n",
    "                    if N1 != 0 and N2 != 0:\n",
    "                        gn = (gl**2) / (N1 + self.lmd) \n",
    "                        gn += (gr**2) / (N2 + self.lmd)\n",
    "                        gn -= ((gl + gr)**2) / (N1 + N2 + self.lmd) \n",
    "                        gn -= self.gmm\n",
    "\n",
    "                    if gn > best_gain:\n",
    "#                     print('Gain', gn, best_gain, self.max_depth, N1, N2)\n",
    "                        flag = 1\n",
    "                        best_gain = gn\n",
    "                        left_value = -gl / (N1 + self.lmd)\n",
    "                        right_value = -gr / (N2 + self.lmd)\n",
    "                        n_line_f = self.line[f] - u[idx]\n",
    "                        n_c = self.c + (u[idx] * gamma)\n",
    "\n",
    "            for i in range(X.shape[0]):\n",
    "                v[i] += (n_line_f - self.line[f]) * X[i, f]\n",
    "\n",
    "            self.line[f] = n_line_f\n",
    "            self.c = n_c\n",
    "            self.gain = best_gain\n",
    "\n",
    "\n",
    "        N = 0\n",
    "        for i in range(X.shape[0]):\n",
    "            if v[i] <= self.c:\n",
    "                N += 1\n",
    "                mask1[i] = 1\n",
    "                mask2[i] = 0\n",
    "            else:\n",
    "                mask1[i] = 0\n",
    "                mask2[i] = 1\n",
    "\n",
    "        if not flag or N == 0 or N == X.shape[0]:\n",
    "#             print('flag or N', flag, N, N1, N2)\n",
    "            return\n",
    "\n",
    "#         print('threshold, idx, error', self.feature_threshold, self.feature_idx, error)\n",
    "        \n",
    "        self.left = RegressionTree(max_depth=self.max_depth - 1, gmm=self.gmm, lmd=self.lmd)\n",
    "        self.left.value = left_value\n",
    "        self.right = RegressionTree(max_depth=self.max_depth - 1, gmm=self.gmm, lmd=self.lmd)\n",
    "        self.right.value = right_value\n",
    "        \n",
    "        self.left.fit(X[mask1, :], y[mask1])\n",
    "        self.right.fit(X[mask2, :], y[mask2])    \n",
    "    \n",
    "        # cut splits with negative gain\n",
    "        if (self.left.left == None or self.right.left == None):\n",
    "            if self.gain < 0.0:\n",
    "#                 print('Gain is negative: ', self.gain, self.max_depth)\n",
    "                self.left = None\n",
    "                self.right = None\n",
    "                feature_idx = -1\n",
    "\n",
    "    def __predict(self, x):\n",
    "        if (self.left is None) or (self.right is None):\n",
    "            return self.value\n",
    "\n",
    "        res = np.dot(self.line, x)\n",
    "\n",
    "        if res <= self.c:\n",
    "            return self.left.__predict(x)\n",
    "        else:\n",
    "            return self.right.__predict(x)\n",
    "\n",
    "    def predict(self, X):\n",
    "        y = np.zeros(X.shape[0])\n",
    "\n",
    "        for i in range(X.shape[0]):\n",
    "            y[i] = self.__predict(X[i])\n",
    "\n",
    "        return y"
   ]
  },
  {
   "cell_type": "code",
   "execution_count": 146,
   "metadata": {
    "collapsed": false
   },
   "outputs": [],
   "source": [
    "# %%cython -a \n",
    "# # -f --compile-args=-DCYTHON_TRACE=1\n",
    "\n",
    "# import numpy as np\n",
    "# cimport numpy as np\n",
    "# # from Cython.Compiler.Options import _directive_defaults\n",
    "\n",
    "# # _directive_defaults['linetrace'] = True\n",
    "# # _directive_defaults['binding'] = True\n",
    "\n",
    "# cdef class RegressionTree:\n",
    "#     cdef public int max_depth\n",
    "#     cdef public np.float64_t gain\n",
    "#     cdef public np.float64_t lmd\n",
    "#     cdef public np.float64_t gmm\n",
    "    \n",
    "#     cdef public int feature_idx\n",
    "#     cdef public np.float64_t feature_threshold\n",
    "#     cdef public np.float64_t value\n",
    "    \n",
    "#     cpdef public RegressionTree left\n",
    "#     cpdef public RegressionTree right\n",
    "    \n",
    "#     def __init__(self, int max_depth=3, np.float64_t lmd=1.0, np.float64_t gmm=0.0):\n",
    "#         self.max_depth = max_depth\n",
    "#         self.gmm = gmm\n",
    "#         self.lmd = lmd\n",
    "#         self.left = None\n",
    "#         self.right = None\n",
    "#         self.feature_idx = -1\n",
    "#         self.feature_threshold = 0\n",
    "#         self.value = -1000000000.0\n",
    "        \n",
    "#         return\n",
    "    \n",
    "#     def fit(self, np.ndarray[np.float64_t, ndim=2] X, np.ndarray[np.float64_t, ndim=1] y):\n",
    "#         cpdef long N = X.shape[0]\n",
    "#         cpdef long N1 = X.shape[0]\n",
    "#         cpdef long N2 = 0\n",
    "        \n",
    "#         cpdef long idx = 0\n",
    "#         cpdef long thres = 0\n",
    "#         cpdef np.float64_t gl, gr, gn\n",
    "        \n",
    "#         cpdef np.ndarray[long, ndim=1] idxs\n",
    "        \n",
    "#         cpdef np.float64_t x = 0.0\n",
    "        \n",
    "#         cpdef np.float64_t best_gain = -self.gmm\n",
    "        \n",
    "#         if self.value == -1000000000.0:\n",
    "#             self.value = y.mean()\n",
    "        \n",
    "#         base_error = ((y - self.value) ** 2).sum()\n",
    "#         error = base_error\n",
    "#         flag = 0\n",
    "        \n",
    "#         if self.max_depth <= 1:\n",
    "#             return\n",
    "        \n",
    "#         D = X.shape[1]\n",
    "        \n",
    "#         left_value = 0\n",
    "#         right_value = 0\n",
    "        \n",
    "#         for f in range(D):\n",
    "#             idxs = np.argsort(X[:, f])\n",
    "            \n",
    "#             gl = y.sum()\n",
    "#             gr = 0.0\n",
    "\n",
    "#             N1, N2 = N, 0\n",
    "#             thres = 0\n",
    "            \n",
    "#             while thres < N - 1:\n",
    "#                 N1 -= 1\n",
    "#                 N2 += 1\n",
    "\n",
    "#                 idx = idxs[thres]\n",
    "#                 x = X[idx, f]\n",
    "                \n",
    "#                 gl -= y[idx]\n",
    "#                 gr += y[idx]\n",
    "\n",
    "#                 gn = (gl**2) / (N1 + self.lmd) \n",
    "#                 gn += (gr**2) / (N2 + self.lmd)\n",
    "#                 gn -= ((gl + gr)**2) / (N1 + N2 + self.lmd) \n",
    "#                 gn -= self.gmm\n",
    "                \n",
    "#                 if thres < N - 1 and x == X[idxs[thres + 1], f]:\n",
    "#                     thres += 1\n",
    "#                     continue\n",
    "                    \n",
    "#                 if gn > best_gain:\n",
    "# #                     print('Gain', gn, best_gain, self.max_depth, N1, N2)\n",
    "#                     flag = 1\n",
    "#                     best_gain = gn\n",
    "#                     left_value = -gl / (N1 + self.lmd)\n",
    "#                     right_value = -gr / (N2 + self.lmd)\n",
    "                    \n",
    "#                     self.feature_idx = f\n",
    "#                     self.feature_threshold = x\n",
    "\n",
    "#                 thres += 1\n",
    "#         self.gain = best_gain\n",
    "                \n",
    "#         if self.feature_idx == -1:\n",
    "#             return\n",
    "        \n",
    "        \n",
    "# #         print('threshold, idx, error', self.feature_threshold, self.feature_idx, error)\n",
    "        \n",
    "#         self.left = RegressionTree(max_depth=self.max_depth - 1, gmm=self.gmm, lmd=self.lmd)\n",
    "#         self.left.value = left_value\n",
    "#         self.right = RegressionTree(max_depth=self.max_depth - 1, gmm=self.gmm, lmd=self.lmd)\n",
    "#         self.right.value = right_value\n",
    "        \n",
    "#         idxs_l = (X[:, self.feature_idx] > self.feature_threshold)\n",
    "#         idxs_r = (X[:, self.feature_idx] <= self.feature_threshold)\n",
    "    \n",
    "#         self.left.fit(X[idxs_l, :], y[idxs_l])\n",
    "#         self.right.fit(X[idxs_r, :], y[idxs_r])\n",
    "        \n",
    "#         # cut splits with negative gain\n",
    "#         if (self.left.left == None or self.right.left == None):\n",
    "#             if self.gain < 0.0:\n",
    "# #                 print('Gain is negative: ', self.gain, self.max_depth)\n",
    "#                 self.left = None\n",
    "#                 self.right = None\n",
    "#                 self.feature_idx = -1\n",
    "\n",
    "#     def __predict(self, np.ndarray[np.float64_t, ndim=1] x):\n",
    "#         if self.feature_idx == -1:\n",
    "#             return self.value\n",
    "        \n",
    "#         if x[self.feature_idx] > self.feature_threshold:\n",
    "#             return self.left.__predict(x)\n",
    "#         else:\n",
    "#             return self.right.__predict(x)\n",
    "        \n",
    "#     def predict(self, np.ndarray[np.float64_t, ndim=2] X):\n",
    "#         y = np.zeros(X.shape[0])\n",
    "        \n",
    "#         for i in range(X.shape[0]):\n",
    "#             y[i] = self.__predict(X[i])\n",
    "            \n",
    "#         return y"
   ]
  },
  {
   "cell_type": "code",
   "execution_count": null,
   "metadata": {
    "collapsed": true
   },
   "outputs": [],
   "source": []
  },
  {
   "cell_type": "code",
   "execution_count": 387,
   "metadata": {
    "collapsed": true
   },
   "outputs": [],
   "source": [
    "class GDB:\n",
    "    def __init__(self, n_epoch=10, max_depth=3, lmd=1.0, gmm=0.0, verbose=0):\n",
    "        self.n_epoch = n_epoch\n",
    "        self.max_depth = max_depth\n",
    "        self.lmd=lmd\n",
    "        self.gmm=gmm\n",
    "        self.error = None\n",
    "        self.child = None\n",
    "        self.verbose = verbose\n",
    "        self.regression_tree = RegressionTree(max_depth=1)\n",
    "#         self.regression_tree.value = None\n",
    "        \n",
    "        # muliplication coeff for regression tree\n",
    "        self.b = 0.1\n",
    "        \n",
    "        # array of values on fitted X\n",
    "        # self.h = None\n",
    "        return\n",
    "    \n",
    "    def fit(self, X, y):\n",
    "        if self.n_epoch == 1:\n",
    "            self.regression_tree.value = y.mean()\n",
    "            h = np.ones(X.shape[0]) * self.regression_tree.value\n",
    "            self.b = 1.0\n",
    "            self.error = ((self.regression_tree.value - y)**2).mean()\n",
    "            \n",
    "            if self.verbose == 1:\n",
    "                print('Epoch ' + str(self.n_epoch) + ' finished')\n",
    "                print('Error = ', self.error)\n",
    "            \n",
    "            return h\n",
    "        \n",
    "        self.child = GDB(n_epoch=self.n_epoch - 1, max_depth=self.max_depth, lmd=self.lmd, gmm=self.gmm, verbose=self.verbose)\n",
    "        h = self.child.fit(X, y)\n",
    "        \n",
    "        g = (h - y)\n",
    "        a = RegressionTree(max_depth=self.max_depth, lmd=self.lmd, gmm=self.gmm)\n",
    "        a.fit(X, g)\n",
    "        a_values = a.predict(X)\n",
    "        self.regression_tree = a\n",
    "\n",
    "#         self.b = 1.0\n",
    "        h += self.b * a_values\n",
    "            \n",
    "        self.error = ((h - y)**2).mean()\n",
    "        \n",
    "        if self.verbose == 1:\n",
    "            print('Epoch ' + str(self.n_epoch) + ' finished')\n",
    "            print('Error = ', self.error)\n",
    "        \n",
    "        return h\n",
    "    def predict(self, X):\n",
    "        c = self.b * self.regression_tree.predict(X)\n",
    "        \n",
    "#         print('b, pred ', self.b, self.regression_tree.predict(X))\n",
    "    \n",
    "        if self.child is not None:\n",
    "            c += self.child.predict(X)\n",
    "        \n",
    "        return c\n",
    "    \n",
    "    def _get_scores(self, arr):\n",
    "        arr.append(self.error)\n",
    "        if self.child is not None:\n",
    "            self.child._get_scores(arr)\n",
    "    def get_scores(self):\n",
    "        arr = []\n",
    "        self._get_scores(arr)\n",
    "        return np.array(arr[::-1])\n",
    "    \n",
    "    def staged_scores(self, X, y):\n",
    "        children = [None for i in range(self.n_epoch)]\n",
    "        \n",
    "        gdb_child = self\n",
    "        i = 0\n",
    "        while gdb_child is not None:\n",
    "            children[i] = gdb_child\n",
    "            gdb_child = gdb_child.child\n",
    "            i += 1\n",
    "        \n",
    "        res = [0 for i in range(self.n_epoch)]\n",
    "        pred = 0\n",
    "        for i in range(self.n_epoch):\n",
    "            pred += children[-i - 1].b * children[-i - 1].regression_tree.predict(X)\n",
    "            res[i] = ((pred - y) ** 2).mean()\n",
    "        \n",
    "        return res"
   ]
  },
  {
   "cell_type": "code",
   "execution_count": null,
   "metadata": {
    "collapsed": true
   },
   "outputs": [],
   "source": []
  },
  {
   "cell_type": "code",
   "execution_count": 9,
   "metadata": {
    "collapsed": true
   },
   "outputs": [],
   "source": [
    "from sklearn import datasets\n",
    "from sklearn.tree import DecisionTreeRegressor\n",
    "from sklearn.ensemble import GradientBoostingRegressor\n",
    "from sklearn.datasets import load_svmlight_file\n",
    "import time"
   ]
  },
  {
   "cell_type": "code",
   "execution_count": null,
   "metadata": {
    "collapsed": true
   },
   "outputs": [],
   "source": []
  },
  {
   "cell_type": "code",
   "execution_count": 220,
   "metadata": {
    "collapsed": false
   },
   "outputs": [],
   "source": [
    "housing = datasets.fetch_california_housing()\n",
    "iris = datasets.load_iris()"
   ]
  },
  {
   "cell_type": "code",
   "execution_count": 221,
   "metadata": {
    "collapsed": true
   },
   "outputs": [],
   "source": [
    "X = np.array(iris.data, dtype=np.float64)\n",
    "y = np.array(iris.target, dtype=np.float64)"
   ]
  },
  {
   "cell_type": "code",
   "execution_count": 76,
   "metadata": {
    "collapsed": true
   },
   "outputs": [],
   "source": [
    "X = np.array(housing.data, dtype=np.float64)\n",
    "y = np.array(housing.target, dtype=np.float64)"
   ]
  },
  {
   "cell_type": "code",
   "execution_count": 222,
   "metadata": {
    "collapsed": true
   },
   "outputs": [],
   "source": [
    "medians = np.median(X, axis=0)\n",
    "iqrs = np.subtract(*np.percentile(X, q=[75, 25], axis=0))\n",
    "\n",
    "X_norm = (X - medians) / iqrs"
   ]
  },
  {
   "cell_type": "code",
   "execution_count": null,
   "metadata": {
    "collapsed": true
   },
   "outputs": [],
   "source": []
  },
  {
   "cell_type": "code",
   "execution_count": 276,
   "metadata": {
    "collapsed": false
   },
   "outputs": [
    {
     "name": "stdout",
     "output_type": "stream",
     "text": [
      "flag or N 0 50 0 50\n"
     ]
    },
    {
     "data": {
      "text/plain": [
       "0.018867924528301886"
      ]
     },
     "execution_count": 276,
     "metadata": {},
     "output_type": "execute_result"
    }
   ],
   "source": [
    "tree = RegressionTree(max_depth=3, lmd=0.0, gmm=0.0)\n",
    "tree.fit(X_norm, -y)\n",
    "((tree.predict(X_norm) - y) ** 2).mean()"
   ]
  },
  {
   "cell_type": "code",
   "execution_count": 243,
   "metadata": {
    "collapsed": false
   },
   "outputs": [
    {
     "data": {
      "text/plain": [
       "0.0"
      ]
     },
     "execution_count": 243,
     "metadata": {},
     "output_type": "execute_result"
    }
   ],
   "source": [
    "tree.left.value"
   ]
  },
  {
   "cell_type": "code",
   "execution_count": 49,
   "metadata": {
    "collapsed": false
   },
   "outputs": [
    {
     "data": {
      "text/plain": [
       "-1.0566037735849056"
      ]
     },
     "execution_count": 49,
     "metadata": {},
     "output_type": "execute_result"
    }
   ],
   "source": [
    "tree.left.right.value"
   ]
  },
  {
   "cell_type": "code",
   "execution_count": 129,
   "metadata": {
    "collapsed": false
   },
   "outputs": [
    {
     "data": {
      "text/plain": [
       "7.6071235027523767e-05"
      ]
     },
     "execution_count": 129,
     "metadata": {},
     "output_type": "execute_result"
    }
   ],
   "source": [
    "sktree = DecisionTreeRegressor(max_depth=30)\n",
    "sktree.fit(X, y)\n",
    "((sktree.predict(X) - y) ** 2).mean()"
   ]
  },
  {
   "cell_type": "code",
   "execution_count": 450,
   "metadata": {
    "collapsed": false
   },
   "outputs": [
    {
     "data": {
      "text/plain": [
       "42695.040609999996"
      ]
     },
     "execution_count": 450,
     "metadata": {},
     "output_type": "execute_result"
    }
   ],
   "source": [
    "y.sum()"
   ]
  },
  {
   "cell_type": "code",
   "execution_count": 29,
   "metadata": {
    "collapsed": false
   },
   "outputs": [
    {
     "ename": "AttributeError",
     "evalue": "'_cython_magic_c23e56ded04db566bf07cdf8e2ff65d9.Reg' object has no attribute 'left'",
     "output_type": "error",
     "traceback": [
      "\u001b[0;31m---------------------------------------------------------------------------\u001b[0m",
      "\u001b[0;31mAttributeError\u001b[0m                            Traceback (most recent call last)",
      "\u001b[0;32m<ipython-input-29-8d901a19d450>\u001b[0m in \u001b[0;36m<module>\u001b[0;34m()\u001b[0m\n\u001b[0;32m----> 1\u001b[0;31m \u001b[0mtree\u001b[0m\u001b[0;34m.\u001b[0m\u001b[0mleft\u001b[0m\u001b[0;34m\u001b[0m\u001b[0m\n\u001b[0m",
      "\u001b[0;31mAttributeError\u001b[0m: '_cython_magic_c23e56ded04db566bf07cdf8e2ff65d9.Reg' object has no attribute 'left'"
     ]
    }
   ],
   "source": [
    "tree.left"
   ]
  },
  {
   "cell_type": "code",
   "execution_count": 523,
   "metadata": {
    "collapsed": false
   },
   "outputs": [
    {
     "data": {
      "text/plain": [
       "0.7951931090277421"
      ]
     },
     "execution_count": 523,
     "metadata": {},
     "output_type": "execute_result"
    }
   ],
   "source": [
    "gdb = GDB(n_epoch=100, max_depth=4, lmd=0.0, gmm=0.0)\n",
    "gdb.fit(X_norm, y)\n",
    "((gdb.predict(X_norm) - y) ** 2).mean()"
   ]
  },
  {
   "cell_type": "code",
   "execution_count": 515,
   "metadata": {
    "collapsed": false
   },
   "outputs": [
    {
     "data": {
      "text/plain": [
       "1.3315503000818076"
      ]
     },
     "execution_count": 515,
     "metadata": {},
     "output_type": "execute_result"
    }
   ],
   "source": [
    "((y.mean() - y)**2).mean()"
   ]
  },
  {
   "cell_type": "code",
   "execution_count": null,
   "metadata": {
    "collapsed": false
   },
   "outputs": [],
   "source": []
  },
  {
   "cell_type": "code",
   "execution_count": 10,
   "metadata": {
    "collapsed": false
   },
   "outputs": [],
   "source": [
    "lines = []\n",
    "with open('./Regression dataset/reg.train.txt', 'r') as f:\n",
    "    lines = f.readlines()\n",
    "\n",
    "import re\n",
    "lines = list(map(lambda x: re.split(':| ', x.strip()), lines))\n",
    "\n",
    "data = np.full((7200, 245), 0.0)\n",
    "target = np.zeros((7200))\n",
    "\n",
    "for i in range(len(lines)):\n",
    "    target[i] = float(lines[i][0])\n",
    "    \n",
    "    for j in range(1, len(lines[i]), 2):\n",
    "        data[i, int(lines[i][j]) - 1] = float(lines[i][j + 1])"
   ]
  },
  {
   "cell_type": "code",
   "execution_count": 282,
   "metadata": {
    "collapsed": true
   },
   "outputs": [],
   "source": [
    "test_lines = []\n",
    "with open('./Regression dataset/reg.test.txt', 'r') as f:\n",
    "    test_lines = f.readlines()\n",
    "\n",
    "test_lines = list(map(lambda x: re.split(':| ', x.strip()), test_lines))\n",
    "test_data = np.full((10050, 245), 0.0)\n",
    "test_target = np.zeros((10050))\n",
    "\n",
    "for i in range(len(test_lines)):\n",
    "    test_target[i] = float(test_lines[i][0])\n",
    "    \n",
    "    for j in range(1, len(test_lines[i]), 2):\n",
    "        test_data[i, int(test_lines[i][j]) - 1] = float(test_lines[i][j + 1])\n",
    "test_data = np.nan_to_num(test_data)"
   ]
  },
  {
   "cell_type": "code",
   "execution_count": null,
   "metadata": {
    "collapsed": false
   },
   "outputs": [],
   "source": []
  },
  {
   "cell_type": "code",
   "execution_count": 287,
   "metadata": {
    "collapsed": true
   },
   "outputs": [],
   "source": [
    "medians = np.median(data, axis=0)\n",
    "iqrs = np.subtract(*np.percentile(data, q=[75, 25], axis=0)) + 1e-14\n",
    "\n",
    "data_norm = (data - medians) / iqrs"
   ]
  },
  {
   "cell_type": "code",
   "execution_count": 498,
   "metadata": {
    "collapsed": false,
    "scrolled": true
   },
   "outputs": [
    {
     "name": "stdout",
     "output_type": "stream",
     "text": [
      "Epoch 1 finished\n",
      "Error =  0.819848435512\n",
      "Epoch 2 finished\n",
      "Error =  0.768795553586\n",
      "Epoch 3 finished\n",
      "Error =  0.724574787071\n",
      "Epoch 4 finished\n",
      "Error =  0.694721968045\n",
      "Epoch 5 finished\n",
      "Error =  0.667756872956\n",
      "Epoch 6 finished\n",
      "Error =  0.638597031763\n",
      "Epoch 7 finished\n",
      "Error =  0.618467153287\n",
      "Epoch 8 finished\n",
      "Error =  0.603467501057\n",
      "Epoch 9 finished\n",
      "Error =  0.585184709305\n",
      "Epoch 10 finished\n",
      "Error =  0.571959681451\n",
      "Epoch 11 finished\n",
      "Error =  0.555186576921\n",
      "Epoch 12 finished\n",
      "Error =  0.540455139795\n",
      "Epoch 13 finished\n",
      "Error =  0.527743301901\n",
      "Epoch 14 finished\n",
      "Error =  0.515275102103\n",
      "Epoch 15 finished\n",
      "Error =  0.502415557239\n",
      "Epoch 16 finished\n",
      "Error =  0.490521527367\n",
      "Epoch 17 finished\n",
      "Error =  0.48233962123\n",
      "Epoch 18 finished\n",
      "Error =  0.472660880479\n",
      "Epoch 19 finished\n",
      "Error =  0.4667059289\n",
      "Epoch 20 finished\n",
      "Error =  0.458826364105\n",
      "Epoch 21 finished\n",
      "Error =  0.453689205604\n",
      "Epoch 22 finished\n",
      "Error =  0.445523092775\n",
      "Epoch 23 finished\n",
      "Error =  0.438303455368\n",
      "Epoch 24 finished\n",
      "Error =  0.430814403483\n",
      "Epoch 25 finished\n",
      "Error =  0.42502852621\n",
      "Epoch 26 finished\n",
      "Error =  0.419807702449\n",
      "Epoch 27 finished\n",
      "Error =  0.413903747159\n",
      "Epoch 28 finished\n",
      "Error =  0.408650329394\n",
      "Epoch 29 finished\n",
      "Error =  0.404616948211\n",
      "Epoch 30 finished\n",
      "Error =  0.400624866966\n",
      "Epoch 31 finished\n",
      "Error =  0.39597537059\n",
      "Epoch 32 finished\n",
      "Error =  0.391978581066\n",
      "Epoch 33 finished\n",
      "Error =  0.386378679389\n",
      "Epoch 34 finished\n",
      "Error =  0.381435918443\n",
      "Epoch 35 finished\n",
      "Error =  0.379361463903\n",
      "Epoch 36 finished\n",
      "Error =  0.374233235282\n",
      "Epoch 37 finished\n",
      "Error =  0.371246955331\n",
      "Epoch 38 finished\n",
      "Error =  0.368220524909\n",
      "Epoch 39 finished\n",
      "Error =  0.365125407021\n",
      "Epoch 40 finished\n",
      "Error =  0.360204719099\n",
      "Epoch 41 finished\n",
      "Error =  0.357284027321\n",
      "Epoch 42 finished\n",
      "Error =  0.354320151363\n",
      "Epoch 43 finished\n",
      "Error =  0.351980457589\n",
      "Epoch 44 finished\n",
      "Error =  0.349037989913\n",
      "Epoch 45 finished\n",
      "Error =  0.346537307326\n",
      "Epoch 46 finished\n",
      "Error =  0.345011024896\n",
      "Epoch 47 finished\n",
      "Error =  0.341676871761\n",
      "Epoch 48 finished\n",
      "Error =  0.339400148572\n",
      "Epoch 49 finished\n",
      "Error =  0.33628846867\n",
      "Epoch 50 finished\n",
      "Error =  0.333936465681\n",
      "Epoch 51 finished\n",
      "Error =  0.329499113464\n",
      "Epoch 52 finished\n",
      "Error =  0.32654377581\n",
      "Epoch 53 finished\n",
      "Error =  0.323098745546\n",
      "Epoch 54 finished\n",
      "Error =  0.320812337539\n",
      "Epoch 55 finished\n",
      "Error =  0.317169234623\n",
      "Epoch 56 finished\n",
      "Error =  0.315744287897\n",
      "Epoch 57 finished\n",
      "Error =  0.313329043395\n",
      "Epoch 58 finished\n",
      "Error =  0.310814852673\n",
      "Epoch 59 finished\n",
      "Error =  0.307963644407\n",
      "Epoch 60 finished\n",
      "Error =  0.305824171551\n",
      "Epoch 61 finished\n",
      "Error =  0.302637129682\n",
      "Epoch 62 finished\n",
      "Error =  0.300197576048\n",
      "Epoch 63 finished\n",
      "Error =  0.297702732015\n",
      "Epoch 64 finished\n",
      "Error =  0.293375890103\n",
      "Epoch 65 finished\n",
      "Error =  0.291270000868\n",
      "Epoch 66 finished\n",
      "Error =  0.290038090726\n",
      "Epoch 67 finished\n",
      "Error =  0.2883974106\n",
      "Epoch 68 finished\n",
      "Error =  0.286311535032\n",
      "Epoch 69 finished\n",
      "Error =  0.284550494641\n",
      "Epoch 70 finished\n",
      "Error =  0.281851969143\n",
      "Epoch 71 finished\n",
      "Error =  0.280386550549\n",
      "Epoch 72 finished\n",
      "Error =  0.27824607085\n",
      "Epoch 73 finished\n",
      "Error =  0.27622783742\n",
      "Epoch 74 finished\n",
      "Error =  0.274368156924\n",
      "Epoch 75 finished\n",
      "Error =  0.272539184466\n",
      "Epoch 76 finished\n",
      "Error =  0.270539237377\n",
      "Epoch 77 finished\n",
      "Error =  0.268290057726\n",
      "Epoch 78 finished\n",
      "Error =  0.267239828548\n",
      "Epoch 79 finished\n",
      "Error =  0.265679473847\n",
      "Epoch 80 finished\n",
      "Error =  0.263737840207\n",
      "Epoch 81 finished\n",
      "Error =  0.261489078283\n",
      "Epoch 82 finished\n",
      "Error =  0.259429955526\n",
      "Epoch 83 finished\n",
      "Error =  0.257453879178\n",
      "Epoch 84 finished\n",
      "Error =  0.255302031677\n",
      "Epoch 85 finished\n",
      "Error =  0.252985574266\n",
      "Epoch 86 finished\n",
      "Error =  0.250927328829\n",
      "Epoch 87 finished\n",
      "Error =  0.248852083084\n",
      "Epoch 88 finished\n",
      "Error =  0.245771501235\n",
      "Epoch 89 finished\n",
      "Error =  0.243880476996\n",
      "Epoch 90 finished\n",
      "Error =  0.241934018408\n",
      "Epoch 91 finished\n",
      "Error =  0.240477514895\n",
      "Epoch 92 finished\n",
      "Error =  0.239388206071\n",
      "Epoch 93 finished\n",
      "Error =  0.237176676276\n",
      "Epoch 94 finished\n",
      "Error =  0.235145505649\n",
      "Epoch 95 finished\n",
      "Error =  0.234249958215\n",
      "Epoch 96 finished\n",
      "Error =  0.233179618074\n",
      "Epoch 97 finished\n",
      "Error =  0.231458006708\n",
      "Epoch 98 finished\n",
      "Error =  0.228796936115\n",
      "Epoch 99 finished\n",
      "Error =  0.227307254022\n",
      "Epoch 100 finished\n",
      "Error =  0.226000715494\n",
      "Epoch 101 finished\n",
      "Error =  0.22470094547\n",
      "Epoch 102 finished\n",
      "Error =  0.222892638425\n",
      "Epoch 103 finished\n",
      "Error =  0.221726953011\n",
      "Epoch 104 finished\n",
      "Error =  0.220873528121\n",
      "Epoch 105 finished\n",
      "Error =  0.21879529252\n",
      "Epoch 106 finished\n",
      "Error =  0.218166761659\n",
      "Epoch 107 finished\n",
      "Error =  0.216548901423\n",
      "Epoch 108 finished\n",
      "Error =  0.214198421882\n",
      "Epoch 109 finished\n",
      "Error =  0.212943291677\n",
      "Epoch 110 finished\n",
      "Error =  0.211785314685\n",
      "Epoch 111 finished\n",
      "Error =  0.209948776308\n",
      "Epoch 112 finished\n",
      "Error =  0.208936094325\n",
      "Epoch 113 finished\n",
      "Error =  0.207928746216\n",
      "Epoch 114 finished\n",
      "Error =  0.206845137669\n",
      "Epoch 115 finished\n",
      "Error =  0.204422113301\n",
      "Epoch 116 finished\n",
      "Error =  0.202920201402\n",
      "Epoch 117 finished\n",
      "Error =  0.20178260035\n",
      "Epoch 118 finished\n",
      "Error =  0.200524832182\n",
      "Epoch 119 finished\n",
      "Error =  0.198947840981\n",
      "Epoch 120 finished\n",
      "Error =  0.19717643667\n",
      "Epoch 121 finished\n",
      "Error =  0.195357531515\n",
      "Epoch 122 finished\n",
      "Error =  0.194489292309\n",
      "Epoch 123 finished\n",
      "Error =  0.192683053483\n",
      "Epoch 124 finished\n",
      "Error =  0.191376895764\n",
      "Epoch 125 finished\n",
      "Error =  0.18942663449\n",
      "Epoch 126 finished\n",
      "Error =  0.187548867874\n",
      "Epoch 127 finished\n",
      "Error =  0.185200923103\n",
      "Epoch 128 finished\n",
      "Error =  0.183392954257\n",
      "Epoch 129 finished\n",
      "Error =  0.1826627128\n",
      "Epoch 130 finished\n",
      "Error =  0.181599716692\n",
      "Epoch 131 finished\n",
      "Error =  0.180191607986\n",
      "Epoch 132 finished\n",
      "Error =  0.178648257889\n",
      "Epoch 133 finished\n",
      "Error =  0.177729112515\n",
      "Epoch 134 finished\n",
      "Error =  0.176158256181\n",
      "Epoch 135 finished\n",
      "Error =  0.174388972983\n",
      "Epoch 136 finished\n",
      "Error =  0.173445487127\n",
      "Epoch 137 finished\n",
      "Error =  0.172139697755\n",
      "Epoch 138 finished\n",
      "Error =  0.170667792628\n",
      "Epoch 139 finished\n",
      "Error =  0.169153409736\n",
      "Epoch 140 finished\n",
      "Error =  0.16759735878\n",
      "Epoch 141 finished\n",
      "Error =  0.166405123409\n",
      "Epoch 142 finished\n",
      "Error =  0.164900456112\n",
      "Epoch 143 finished\n",
      "Error =  0.163960817732\n",
      "Epoch 144 finished\n",
      "Error =  0.162576934647\n",
      "Epoch 145 finished\n",
      "Error =  0.160926198562\n",
      "Epoch 146 finished\n",
      "Error =  0.160099244749\n",
      "Epoch 147 finished\n",
      "Error =  0.158919762482\n",
      "Epoch 148 finished\n",
      "Error =  0.157377158485\n",
      "Epoch 149 finished\n",
      "Error =  0.15697721182\n",
      "Epoch 150 finished\n",
      "Error =  0.155395290059\n",
      "Epoch 151 finished\n",
      "Error =  0.153763962659\n",
      "Epoch 152 finished\n",
      "Error =  0.152250450731\n",
      "Epoch 153 finished\n",
      "Error =  0.151058169395\n",
      "Epoch 154 finished\n",
      "Error =  0.149235800934\n",
      "Epoch 155 finished\n",
      "Error =  0.148323577331\n",
      "Epoch 156 finished\n",
      "Error =  0.147410559664\n",
      "Epoch 157 finished\n",
      "Error =  0.146280020585\n",
      "Epoch 158 finished\n",
      "Error =  0.145437870618\n",
      "Epoch 159 finished\n",
      "Error =  0.144952455798\n",
      "Epoch 160 finished\n",
      "Error =  0.144446055916\n",
      "Epoch 161 finished\n",
      "Error =  0.143112866581\n",
      "Epoch 162 finished\n",
      "Error =  0.142198013619\n",
      "Epoch 163 finished\n",
      "Error =  0.141732864881\n",
      "Epoch 164 finished\n",
      "Error =  0.140915079853\n",
      "Epoch 165 finished\n",
      "Error =  0.140309692791\n",
      "Epoch 166 finished\n",
      "Error =  0.139705894441\n",
      "Epoch 167 finished\n",
      "Error =  0.13839092235\n",
      "Epoch 168 finished\n",
      "Error =  0.137509030031\n",
      "Epoch 169 finished\n",
      "Error =  0.136631947879\n",
      "Epoch 170 finished\n",
      "Error =  0.135603016049\n",
      "Epoch 171 finished\n",
      "Error =  0.134893703177\n",
      "Epoch 172 finished\n",
      "Error =  0.133935569503\n",
      "Epoch 173 finished\n",
      "Error =  0.13355884053\n",
      "Epoch 174 finished\n",
      "Error =  0.13215892506\n",
      "Epoch 175 finished\n",
      "Error =  0.131438640528\n",
      "Epoch 176 finished\n",
      "Error =  0.130439944898\n",
      "Epoch 177 finished\n",
      "Error =  0.129568265609\n",
      "Epoch 178 finished\n",
      "Error =  0.128447664789\n",
      "Epoch 179 finished\n",
      "Error =  0.127191802166\n",
      "Epoch 180 finished\n",
      "Error =  0.125845375788\n",
      "Epoch 181 finished\n",
      "Error =  0.124894973766\n",
      "Epoch 182 finished\n",
      "Error =  0.124545564955\n",
      "Epoch 183 finished\n",
      "Error =  0.123947343871\n",
      "Epoch 184 finished\n",
      "Error =  0.122947548084\n",
      "Epoch 185 finished\n",
      "Error =  0.122069659046\n",
      "Epoch 186 finished\n",
      "Error =  0.121213786504\n",
      "Epoch 187 finished\n",
      "Error =  0.120227159987\n",
      "Epoch 188 finished\n",
      "Error =  0.119522292859\n",
      "Epoch 189 finished\n",
      "Error =  0.118540986032\n",
      "Epoch 190 finished\n",
      "Error =  0.117912220373\n",
      "Epoch 191 finished\n",
      "Error =  0.117155501427\n",
      "Epoch 192 finished\n",
      "Error =  0.116272646527\n",
      "Epoch 193 finished\n",
      "Error =  0.11531311141\n",
      "Epoch 194 finished\n",
      "Error =  0.114783705341\n",
      "Epoch 195 finished\n",
      "Error =  0.114366374952\n",
      "Epoch 196 finished\n",
      "Error =  0.113888835383\n",
      "Epoch 197 finished\n",
      "Error =  0.113046734252\n",
      "Epoch 198 finished\n",
      "Error =  0.112286167206\n",
      "Epoch 199 finished\n",
      "Error =  0.111596713236\n",
      "Epoch 200 finished\n",
      "Error =  0.111007073499\n",
      "Epoch 201 finished\n",
      "Error =  0.110424177479\n",
      "Epoch 202 finished\n",
      "Error =  0.109784556943\n",
      "Epoch 203 finished\n",
      "Error =  0.109321725332\n",
      "Epoch 204 finished\n",
      "Error =  0.10831861097\n",
      "Epoch 205 finished\n",
      "Error =  0.107741293216\n",
      "Epoch 206 finished\n",
      "Error =  0.106683493228\n",
      "Epoch 207 finished\n",
      "Error =  0.105554098353\n",
      "Epoch 208 finished\n",
      "Error =  0.104615062558\n",
      "Epoch 209 finished\n",
      "Error =  0.103450889735\n",
      "Epoch 210 finished\n",
      "Error =  0.103108633654\n",
      "Epoch 211 finished\n",
      "Error =  0.101854549833\n",
      "Epoch 212 finished\n",
      "Error =  0.101171057423\n",
      "Epoch 213 finished\n",
      "Error =  0.100403250928\n",
      "Epoch 214 finished\n",
      "Error =  0.0997826725847\n",
      "Epoch 215 finished\n",
      "Error =  0.0991693453377\n",
      "Epoch 216 finished\n",
      "Error =  0.0987416620912\n",
      "Epoch 217 finished\n",
      "Error =  0.0980682908508\n",
      "Epoch 218 finished\n",
      "Error =  0.0974374820933\n",
      "Epoch 219 finished\n",
      "Error =  0.0965874638729\n",
      "Epoch 220 finished\n",
      "Error =  0.0959860896907\n",
      "Epoch 221 finished\n",
      "Error =  0.0954545993719\n",
      "Epoch 222 finished\n",
      "Error =  0.0948637528958\n",
      "Epoch 223 finished\n",
      "Error =  0.0940051092299\n",
      "Epoch 224 finished\n",
      "Error =  0.0931949309247\n",
      "Epoch 225 finished\n",
      "Error =  0.0924241727194\n",
      "Epoch 226 finished\n",
      "Error =  0.0916748885115\n",
      "Epoch 227 finished\n",
      "Error =  0.0912396056134\n",
      "Epoch 228 finished\n",
      "Error =  0.0908112087638\n",
      "Epoch 229 finished\n",
      "Error =  0.0903347481406\n",
      "Epoch 230 finished\n",
      "Error =  0.0896269228056\n",
      "Epoch 231 finished\n",
      "Error =  0.0892991774845\n",
      "Epoch 232 finished\n",
      "Error =  0.0890165798486\n",
      "Epoch 233 finished\n",
      "Error =  0.0884846170604\n",
      "Epoch 234 finished\n",
      "Error =  0.0878738863854\n",
      "Epoch 235 finished\n",
      "Error =  0.0874076369522\n",
      "Epoch 236 finished\n",
      "Error =  0.0871244492812\n",
      "Epoch 237 finished\n",
      "Error =  0.0863795691737\n",
      "Epoch 238 finished\n",
      "Error =  0.085800404765\n",
      "Epoch 239 finished\n",
      "Error =  0.0854053299418\n",
      "Epoch 240 finished\n",
      "Error =  0.0846881712132\n",
      "Epoch 241 finished\n",
      "Error =  0.084425464874\n",
      "Epoch 242 finished\n",
      "Error =  0.0841298710595\n",
      "Epoch 243 finished\n",
      "Error =  0.0837784670783\n",
      "Epoch 244 finished\n",
      "Error =  0.0837333906592\n",
      "Epoch 245 finished\n",
      "Error =  0.0832606238572\n",
      "Epoch 246 finished\n",
      "Error =  0.0823052216148\n",
      "Epoch 247 finished\n",
      "Error =  0.0815566967903\n",
      "Epoch 248 finished\n",
      "Error =  0.0812162343489\n",
      "Epoch 249 finished\n",
      "Error =  0.0803823505585\n",
      "Epoch 250 finished\n",
      "Error =  0.0800097067997\n",
      "Epoch 251 finished\n",
      "Error =  0.0791372262578\n",
      "Epoch 252 finished\n",
      "Error =  0.0785516066035\n",
      "Epoch 253 finished\n",
      "Error =  0.0781591525719\n",
      "Epoch 254 finished\n",
      "Error =  0.0773508033488\n",
      "Epoch 255 finished\n",
      "Error =  0.0768705388469\n",
      "Epoch 256 finished\n",
      "Error =  0.0764649545848\n",
      "Epoch 257 finished\n",
      "Error =  0.0757573391434\n",
      "Epoch 258 finished\n",
      "Error =  0.0751617617162\n",
      "Epoch 259 finished\n",
      "Error =  0.0745597716785\n",
      "Epoch 260 finished\n",
      "Error =  0.0739813791526\n",
      "Epoch 261 finished\n",
      "Error =  0.0737357824902\n",
      "Epoch 262 finished\n",
      "Error =  0.0730779437688\n",
      "Epoch 263 finished\n",
      "Error =  0.0725220493188\n",
      "Epoch 264 finished\n",
      "Error =  0.0720414730638\n",
      "Epoch 265 finished\n",
      "Error =  0.0714724372471\n",
      "Epoch 266 finished\n",
      "Error =  0.0711506450997\n",
      "Epoch 267 finished\n",
      "Error =  0.0707982347043\n",
      "Epoch 268 finished\n",
      "Error =  0.0702814692556\n",
      "Epoch 269 finished\n",
      "Error =  0.0698850734708\n",
      "Epoch 270 finished\n",
      "Error =  0.0695035406396\n",
      "Epoch 271 finished\n",
      "Error =  0.0691113519814\n",
      "Epoch 272 finished\n",
      "Error =  0.0686110323589\n",
      "Epoch 273 finished\n",
      "Error =  0.0683658223246\n",
      "Epoch 274 finished\n",
      "Error =  0.0681151285963\n",
      "Epoch 275 finished\n",
      "Error =  0.0676762241056\n",
      "Epoch 276 finished\n",
      "Error =  0.0671494016119\n",
      "Epoch 277 finished\n",
      "Error =  0.0667868669946\n",
      "Epoch 278 finished\n",
      "Error =  0.0665378421815\n",
      "Epoch 279 finished\n",
      "Error =  0.0662101967776\n",
      "Epoch 280 finished\n",
      "Error =  0.0658773674496\n",
      "Epoch 281 finished\n",
      "Error =  0.0654480350695\n",
      "Epoch 282 finished\n",
      "Error =  0.0652161846394\n",
      "Epoch 283 finished\n",
      "Error =  0.0649565371121\n",
      "Epoch 284 finished\n",
      "Error =  0.0647458211599\n",
      "Epoch 285 finished\n",
      "Error =  0.0645182164172\n",
      "Epoch 286 finished\n",
      "Error =  0.0641184598594\n",
      "Epoch 287 finished\n",
      "Error =  0.0637680709535\n",
      "Epoch 288 finished\n",
      "Error =  0.0633750953455\n",
      "Epoch 289 finished\n",
      "Error =  0.0627878495179\n",
      "Epoch 290 finished\n",
      "Error =  0.0625268398458\n",
      "Epoch 291 finished\n",
      "Error =  0.062075317491\n",
      "Epoch 292 finished\n",
      "Error =  0.0616067793312\n",
      "Epoch 293 finished\n",
      "Error =  0.0614545817787\n",
      "Epoch 294 finished\n",
      "Error =  0.061219693155\n",
      "Epoch 295 finished\n",
      "Error =  0.0607330185803\n",
      "Epoch 296 finished\n",
      "Error =  0.0604022001586\n",
      "Epoch 297 finished\n",
      "Error =  0.0598876600156\n",
      "Epoch 298 finished\n",
      "Error =  0.0595531495034\n",
      "Epoch 299 finished\n",
      "Error =  0.0591693960872\n",
      "Epoch 300 finished\n",
      "Error =  0.0588250941269\n"
     ]
    },
    {
     "data": {
      "text/plain": [
       "array([ 1.1630369 ,  0.2305107 ,  0.01094253, ...,  0.52768198,\n",
       "        0.13071434,  0.11588417])"
      ]
     },
     "execution_count": 498,
     "metadata": {},
     "output_type": "execute_result"
    }
   ],
   "source": [
    "gdb = GDB(n_epoch=300, max_depth=4, lmd=0.9, gmm=0.0, verbose=1)\n",
    "gdb.fit(data_norm, target)"
   ]
  },
  {
   "cell_type": "code",
   "execution_count": 353,
   "metadata": {
    "collapsed": false
   },
   "outputs": [
    {
     "data": {
      "text/plain": [
       "-0.227066193129827"
      ]
     },
     "execution_count": 353,
     "metadata": {},
     "output_type": "execute_result"
    }
   ],
   "source": [
    "gdb.regression_tree.gain"
   ]
  },
  {
   "cell_type": "code",
   "execution_count": null,
   "metadata": {
    "collapsed": true
   },
   "outputs": [],
   "source": []
  },
  {
   "cell_type": "code",
   "execution_count": 425,
   "metadata": {
    "collapsed": false
   },
   "outputs": [
    {
     "data": {
      "text/plain": [
       "GradientBoostingRegressor(alpha=0.9, criterion='mse', init=None,\n",
       "             learning_rate=0.1, loss='ls', max_depth=3, max_features=None,\n",
       "             max_leaf_nodes=None, min_impurity_split=1e-07,\n",
       "             min_samples_leaf=1, min_samples_split=2,\n",
       "             min_weight_fraction_leaf=0.0, n_estimators=300,\n",
       "             presort='auto', random_state=None, subsample=1.0, verbose=0,\n",
       "             warm_start=False)"
      ]
     },
     "execution_count": 425,
     "metadata": {},
     "output_type": "execute_result"
    }
   ],
   "source": [
    "sk_gdb = GradientBoostingRegressor(n_estimators=300, max_depth=3, learning_rate=0.1, criterion='mse')\n",
    "sk_gdb.fit(data, target)"
   ]
  },
  {
   "cell_type": "code",
   "execution_count": 484,
   "metadata": {
    "collapsed": false
   },
   "outputs": [
    {
     "data": {
      "image/png": "[encoded data removed]",
      "text/plain": [
       "<matplotlib.figure.Figure at 0x1210c5668>"
      ]
     },
     "metadata": {},
     "output_type": "display_data"
    }
   ],
   "source": [
    "fig, ax = plt.subplots()\n",
    "\n",
    "ax.plot(np.array(gdb.get_scores())[0:], color='blue', label='my')\n",
    "ax.plot(sk_gdb.train_score_[0:], color='black', label='sklearn')\n",
    "ax.plot(sk_gdb.train_score_[0:] * 1.03, color='red', label='3%')\n",
    "ax.plot(sk_gdb.train_score_[0:] * 0.97, color='red')\n",
    "ax.legend()\n",
    "plt.show()"
   ]
  },
  {
   "cell_type": "code",
   "execution_count": null,
   "metadata": {
    "collapsed": true
   },
   "outputs": [],
   "source": []
  },
  {
   "cell_type": "code",
   "execution_count": 288,
   "metadata": {
    "collapsed": false
   },
   "outputs": [],
   "source": [
    "test_data_norm = (test_data - medians) / iqrs"
   ]
  },
  {
   "cell_type": "code",
   "execution_count": 427,
   "metadata": {
    "collapsed": true
   },
   "outputs": [],
   "source": [
    "test_predict = sk_gdb.staged_predict(test_data)"
   ]
  },
  {
   "cell_type": "code",
   "execution_count": 428,
   "metadata": {
    "collapsed": true
   },
   "outputs": [],
   "source": [
    "test_scores = []\n",
    "for y1 in test_predict:\n",
    "    test_scores.append(((y1 - test_target) ** 2).mean())\n",
    "test_scores = np.array(test_scores)"
   ]
  },
  {
   "cell_type": "code",
   "execution_count": 499,
   "metadata": {
    "collapsed": false
   },
   "outputs": [
    {
     "data": {
      "image/png": "[encoded data removed]",
      "text/plain": [
       "<matplotlib.figure.Figure at 0x1045c4fd0>"
      ]
     },
     "metadata": {},
     "output_type": "display_data"
    }
   ],
   "source": [
    "fig, ax = plt.subplots()\n",
    "\n",
    "ax.plot(np.array(gdb.staged_scores(test_data_norm, test_target)), color='blue', label='my')\n",
    "ax.plot(test_scores, color='black', label='sklearn')\n",
    "ax.plot(test_scores * 1.03, color='red', label='3%')\n",
    "ax.plot(test_scores * 0.97, color='red')\n",
    "ax.legend()\n",
    "plt.show()"
   ]
  },
  {
   "cell_type": "code",
   "execution_count": 357,
   "metadata": {
    "collapsed": false
   },
   "outputs": [
    {
     "data": {
      "text/plain": [
       "1.9464630851804152"
      ]
     },
     "execution_count": 357,
     "metadata": {},
     "output_type": "execute_result"
    }
   ],
   "source": [
    "np.array(gdb.staged_scores(test_data_norm, test_target))[0]"
   ]
  },
  {
   "cell_type": "code",
   "execution_count": 360,
   "metadata": {
    "collapsed": false
   },
   "outputs": [
    {
     "data": {
      "text/plain": [
       "0.9511560393632601"
      ]
     },
     "execution_count": 360,
     "metadata": {},
     "output_type": "execute_result"
    }
   ],
   "source": [
    "((test_target - y.mean())**2).mean()"
   ]
  },
  {
   "cell_type": "code",
   "execution_count": null,
   "metadata": {
    "collapsed": true
   },
   "outputs": [],
   "source": []
  }
 ],
 "metadata": {
  "kernelspec": {
   "display_name": "Python 3",
   "language": "python3",
   "name": "python3"
  },
  "language_info": {
   "codemirror_mode": {
    "name": "ipython",
    "version": 3
   },
   "file_extension": ".py",
   "mimetype": "text/x-python",
   "name": "python",
   "nbconvert_exporter": "python",
   "pygments_lexer": "ipython3",
   "version": "3.5.1"
  }
 },
 "nbformat": 4,
 "nbformat_minor": 1
}
