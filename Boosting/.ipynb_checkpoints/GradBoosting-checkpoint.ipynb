{
 "cells": [
  {
   "cell_type": "code",
   "execution_count": 1,
   "metadata": {
    "collapsed": true
   },
   "outputs": [],
   "source": [
    "import matplotlib.pyplot as plt\n",
    "import numpy as np\n",
    "%matplotlib inline"
   ]
  },
  {
   "cell_type": "code",
   "execution_count": 2,
   "metadata": {
    "collapsed": true
   },
   "outputs": [],
   "source": [
    "from line_profiler import LineProfiler"
   ]
  },
  {
   "cell_type": "code",
   "execution_count": 3,
   "metadata": {
    "collapsed": false
   },
   "outputs": [],
   "source": [
    "import pandas as pd"
   ]
  },
  {
   "cell_type": "code",
   "execution_count": 4,
   "metadata": {
    "collapsed": false
   },
   "outputs": [],
   "source": [
    "%load_ext Cython"
   ]
  },
  {
   "cell_type": "code",
   "execution_count": 5,
   "metadata": {
    "collapsed": true
   },
   "outputs": [],
   "source": [
    "def profile_print(func_to_call, *args):\n",
    "    profiler = LineProfiler()\n",
    "    profiler.add_function(func_to_call)\n",
    "    profiler.runcall(func_to_call, *args)\n",
    "    profiler.print_stats()"
   ]
  },
  {
   "cell_type": "code",
   "execution_count": null,
   "metadata": {
    "collapsed": false
   },
   "outputs": [],
   "source": [
    "%%cython -a \n",
    "# -f --compile-args=-DCYTHON_TRACE=1\n",
    "\n",
    "import numpy as np\n",
    "cimport numpy as np\n",
    "# from Cython.Compiler.Options import _directive_defaults\n",
    "\n",
    "# _directive_defaults['linetrace'] = True\n",
    "# _directive_defaults['binding'] = True\n",
    "\n",
    "cdef class RegressionTree:\n",
    "    cdef public int max_depth\n",
    "    cdef public int feature_idx\n",
    "    cdef public np.float64_t feature_threshold\n",
    "    cdef public np.float64_t value\n",
    "    \n",
    "    cpdef RegressionTree left\n",
    "    cpdef RegressionTree right\n",
    "    \n",
    "    def __init__(self, max_depth=3):\n",
    "        self.max_depth = max_depth\n",
    "        self.left = None\n",
    "        self.right = None\n",
    "        self.feature_idx = -1\n",
    "        self.feature_threshold = 0\n",
    "        self.value = 0\n",
    "        \n",
    "        return\n",
    "    \n",
    "    def fit(self, np.ndarray[np.float64_t, ndim=2] X, np.ndarray[np.float64_t, ndim=1] y):\n",
    "        cpdef np.float64_t mean1 = 0.0\n",
    "        cpdef np.float64_t mean2 = 0.0\n",
    "        cpdef long N = X.shape[0]\n",
    "        cpdef long N1 = X.shape[0]\n",
    "        cpdef long N2 = 0\n",
    "        cpdef np.float64_t delta1 = 0.0\n",
    "        cpdef np.float64_t delta2 = 0.0\n",
    "        cpdef np.float64_t sm1 = 0.0\n",
    "        cpdef np.float64_t sm2 = 0.0\n",
    "        \n",
    "        cpdef long idx = 0\n",
    "        \n",
    "        cpdef np.float64_t prev_error1 = 0.0\n",
    "        cpdef np.float64_t prev_error2 = 0.0\n",
    "        cpdef long thres = 0\n",
    "        cpdef np.float64_t error = 0.0\n",
    "        \n",
    "        cpdef np.ndarray[long, ndim=1] idxs\n",
    "        \n",
    "        cpdef np.float64_t x = 0.0\n",
    "        \n",
    "        self.value = y.mean()\n",
    "        base_error = ((y - self.value) ** 2).sum()\n",
    "        error = base_error\n",
    "        flag = 0\n",
    "        \n",
    "        if self.max_depth <= 1:\n",
    "            return\n",
    "        \n",
    "        D = X.shape[1]\n",
    "        \n",
    "        left_value = 0\n",
    "        right_value = 0\n",
    "        \n",
    "        for f in range(D):\n",
    "            idxs = np.argsort(X[:, f])\n",
    "            mean1 = y.mean()\n",
    "            mean2 = 0\n",
    "            \n",
    "            prev_error1 = base_error\n",
    "            prev_error2 = 0\n",
    "            \n",
    "            sm1 = y.sum()\n",
    "            sm2 = 0\n",
    "\n",
    "            N1, N2 = N, 0\n",
    "            thres = 0\n",
    "            \n",
    "            while thres < N - 1:\n",
    "                N1 -= 1\n",
    "                N2 += 1\n",
    "\n",
    "                idx = idxs[thres]\n",
    "                x = X[idx, f]\n",
    "                \n",
    "                delta1 = (sm1 - y[idx]) * 1.0 / N1 - mean1\n",
    "                delta2 = (sm2 + y[idx]) * 1.0 / N2 - mean2\n",
    "                \n",
    "                sm1 -= y[idx]\n",
    "                sm2 += y[idx]\n",
    "\n",
    "                prev_error1 += (delta1**2) * N1 - (y[idx] - mean1)**2 - 2 * delta1 * (sm1 - mean1 * N1)\n",
    "                mean1 = sm1/N1\n",
    "                \n",
    "                prev_error2 += (delta2**2) * N2 + (y[idx] - mean2)**2 - 2 * delta2 * (sm2 - mean2 * N2)\n",
    "                mean2 = sm2/N2\n",
    "    \n",
    "#                 print('thres, x, x[thres+1]', thres, x, X[idxs[thres + 1], f])\n",
    "                    \n",
    "                if thres < N - 1 and x == X[idxs[thres + 1], f]:\n",
    "#                     print('continue2')\n",
    "                    thres += 1\n",
    "                    continue\n",
    "                \n",
    "#                 print('error, e1 + e2, f, x', error, prev_error1+prev_error2, f, x)\n",
    "                \n",
    "                if (prev_error1 + prev_error2) < error:\n",
    "                    self.feature_idx = f\n",
    "                    self.feature_threshold = x\n",
    "                    left_value = mean1\n",
    "                    right_value = mean2\n",
    "                    \n",
    "                    flag = 1\n",
    "                    error = prev_error1 + prev_error2\n",
    "                thres += 1\n",
    "\n",
    "        if self.feature_idx == -1:\n",
    "            return\n",
    "        \n",
    "#         print('threshold, idx, error', self.feature_threshold, self.feature_idx, error)\n",
    "        \n",
    "        self.left = RegressionTree(self.max_depth - 1)\n",
    "        self.left.value = left_value\n",
    "        self.right = RegressionTree(self.max_depth - 1)\n",
    "        self.right.value = right_value\n",
    "        \n",
    "        idxs_l = (X[:, self.feature_idx] > self.feature_threshold)\n",
    "        idxs_r = (X[:, self.feature_idx] <= self.feature_threshold)\n",
    "    \n",
    "        self.left.fit(X[idxs_l, :], y[idxs_l])\n",
    "        self.right.fit(X[idxs_r, :], y[idxs_r])\n",
    "\n",
    "    def __predict(self, np.ndarray[np.float64_t, ndim=1] x):\n",
    "        if self.feature_idx == -1:\n",
    "            return self.value\n",
    "        \n",
    "        if x[self.feature_idx] > self.feature_threshold:\n",
    "            return self.left.__predict(x)\n",
    "        else:\n",
    "            return self.right.__predict(x)\n",
    "        \n",
    "    def predict(self, np.ndarray[np.float64_t, ndim=2] X):\n",
    "        y = np.zeros(X.shape[0])\n",
    "        \n",
    "        for i in range(X.shape[0]):\n",
    "            y[i] = self.__predict(X[i])\n",
    "            \n",
    "        return y"
   ]
  },
  {
   "cell_type": "code",
   "execution_count": 48,
   "metadata": {
    "collapsed": true
   },
   "outputs": [],
   "source": [
    "class GDB:\n",
    "    def __init__(self, n_epoch=10, max_depth=3, verbose=0):\n",
    "        self.n_epoch = n_epoch\n",
    "        self.max_depth = max_depth\n",
    "        self.error = None\n",
    "        self.child = None\n",
    "        self.verbose = verbose\n",
    "        self.regression_tree = RegressionTree(max_depth=1)\n",
    "#         self.regression_tree.value = None\n",
    "        \n",
    "        # muliplication coeff for regression tree\n",
    "        self.b = 0.1\n",
    "        \n",
    "        # array of values on fitted X\n",
    "        # self.h = None\n",
    "        return\n",
    "    \n",
    "    def fit(self, X, y):\n",
    "        if self.n_epoch == 1:\n",
    "            self.regression_tree.value = y.mean()\n",
    "            h = np.ones(X.shape[0]) * self.regression_tree.value\n",
    "            self.b = 1.0\n",
    "            self.error = ((self.regression_tree.value - y)**2).mean()\n",
    "            \n",
    "            if self.verbose == 1:\n",
    "                print('Epoch ' + str(self.n_epoch) + ' finished')\n",
    "                print('Error = ', self.error)\n",
    "            \n",
    "            return h\n",
    "        \n",
    "        self.child = GDB(n_epoch=self.n_epoch - 1, max_depth=self.max_depth, verbose=self.verbose)\n",
    "        h = self.child.fit(X, y)\n",
    "        \n",
    "        g = (y - h)\n",
    "        a = RegressionTree(max_depth=self.max_depth)\n",
    "        a.fit(X, g)\n",
    "        a_values = a.predict(X)\n",
    "        self.regression_tree = a\n",
    "\n",
    "#         self.b = 1.0\n",
    "        h += self.b * a_values\n",
    "            \n",
    "        self.error = ((h - y)**2).mean()\n",
    "        \n",
    "        if self.verbose == 1:\n",
    "            print('Epoch ' + str(self.n_epoch) + ' finished')\n",
    "            print('Error = ', self.error)\n",
    "        \n",
    "        return h\n",
    "    def predict(self, X):\n",
    "        c = self.b * self.regression_tree.predict(X)\n",
    "        \n",
    "#         print('b, pred ', self.b, self.regression_tree.predict(X))\n",
    "    \n",
    "        if self.child is not None:\n",
    "            c += self.child.predict(X)\n",
    "        \n",
    "        return c\n",
    "    \n",
    "    def _get_scores(self, arr):\n",
    "        arr.append(self.error)\n",
    "        if self.child is not None:\n",
    "            self.child._get_scores(arr)\n",
    "    def get_scores(self):\n",
    "        arr = []\n",
    "        self._get_scores(arr)\n",
    "        return np.array(arr[::-1])\n",
    "    \n",
    "    def staged_scores(self, X, y):\n",
    "        children = [None for i in range(self.n_epoch)]\n",
    "        \n",
    "        gdb_child = self\n",
    "        i = 0\n",
    "        while gdb_child is not None:\n",
    "            children[i] = gdb_child\n",
    "            gdb_child = gdb_child.child\n",
    "            i += 1\n",
    "        \n",
    "        res = [0 for i in range(self.n_epoch)]\n",
    "        pred = 0\n",
    "        for i in range(self.n_epoch):\n",
    "            pred += children[-i - 1].b * children[-i - 1].regression_tree.predict(X)\n",
    "            res[i] = ((pred - y) ** 2).mean()\n",
    "        \n",
    "        return res"
   ]
  },
  {
   "cell_type": "code",
   "execution_count": 10,
   "metadata": {
    "collapsed": true
   },
   "outputs": [],
   "source": [
    "from sklearn import datasets"
   ]
  },
  {
   "cell_type": "code",
   "execution_count": 99,
   "metadata": {
    "collapsed": true
   },
   "outputs": [],
   "source": []
  },
  {
   "cell_type": "code",
   "execution_count": null,
   "metadata": {
    "collapsed": true
   },
   "outputs": [],
   "source": []
  },
  {
   "cell_type": "code",
   "execution_count": 197,
   "metadata": {
    "collapsed": false
   },
   "outputs": [],
   "source": [
    "a = RegressionTree(3)"
   ]
  },
  {
   "cell_type": "code",
   "execution_count": 198,
   "metadata": {
    "collapsed": false
   },
   "outputs": [],
   "source": [
    "X = np.array([[0, 0], [1, 0], [0, 1], [1, 1]], dtype=float)\n",
    "y = np.array([0, 1, 0, 1], dtype=float)"
   ]
  },
  {
   "cell_type": "code",
   "execution_count": 199,
   "metadata": {
    "collapsed": false
   },
   "outputs": [],
   "source": [
    "a.fit(X, y)"
   ]
  },
  {
   "cell_type": "code",
   "execution_count": 200,
   "metadata": {
    "collapsed": false
   },
   "outputs": [
    {
     "data": {
      "text/plain": [
       "array([ 0.,  1.,  0.,  1.])"
      ]
     },
     "execution_count": 200,
     "metadata": {},
     "output_type": "execute_result"
    }
   ],
   "source": [
    "a.predict(X)"
   ]
  },
  {
   "cell_type": "code",
   "execution_count": 97,
   "metadata": {
    "collapsed": false
   },
   "outputs": [],
   "source": []
  },
  {
   "cell_type": "code",
   "execution_count": 23,
   "metadata": {
    "collapsed": false
   },
   "outputs": [],
   "source": [
    "housing = datasets.fetch_california_housing()\n",
    "iris = datasets.load_iris()"
   ]
  },
  {
   "cell_type": "code",
   "execution_count": 24,
   "metadata": {
    "collapsed": false
   },
   "outputs": [],
   "source": [
    "X = np.array(housing.data, dtype=np.float64)\n",
    "y = np.array(housing.target, dtype=np.float64)"
   ]
  },
  {
   "cell_type": "code",
   "execution_count": 115,
   "metadata": {
    "collapsed": true
   },
   "outputs": [],
   "source": [
    "X = iris.data\n",
    "y = iris.target"
   ]
  },
  {
   "cell_type": "code",
   "execution_count": 271,
   "metadata": {
    "collapsed": false
   },
   "outputs": [],
   "source": [
    "model = RegressionTree(max_depth=10)\n",
    "# model.fit(X, y)"
   ]
  },
  {
   "cell_type": "code",
   "execution_count": 273,
   "metadata": {
    "collapsed": false
   },
   "outputs": [
    {
     "data": {
      "text/plain": [
       "0.79568558140975454"
      ]
     },
     "execution_count": 273,
     "metadata": {},
     "output_type": "execute_result"
    }
   ],
   "source": [
    "((model.predict(X) - y) ** 2).mean()"
   ]
  },
  {
   "cell_type": "code",
   "execution_count": null,
   "metadata": {
    "collapsed": true
   },
   "outputs": [],
   "source": []
  },
  {
   "cell_type": "code",
   "execution_count": 11,
   "metadata": {
    "collapsed": true
   },
   "outputs": [],
   "source": [
    "from sklearn.ensemble import GradientBoostingRegressor, RandomForestRegressor"
   ]
  },
  {
   "cell_type": "code",
   "execution_count": null,
   "metadata": {
    "collapsed": true
   },
   "outputs": [],
   "source": []
  },
  {
   "cell_type": "code",
   "execution_count": 12,
   "metadata": {
    "collapsed": true
   },
   "outputs": [],
   "source": [
    "train_data = pd.DataFrame() "
   ]
  },
  {
   "cell_type": "code",
   "execution_count": 13,
   "metadata": {
    "collapsed": true
   },
   "outputs": [],
   "source": [
    "lines = []\n",
    "with open('./Regression dataset/reg.train.txt', 'r') as f:\n",
    "    lines = f.readlines()"
   ]
  },
  {
   "cell_type": "code",
   "execution_count": null,
   "metadata": {
    "collapsed": true
   },
   "outputs": [],
   "source": []
  },
  {
   "cell_type": "code",
   "execution_count": 14,
   "metadata": {
    "collapsed": false
   },
   "outputs": [],
   "source": [
    "import re"
   ]
  },
  {
   "cell_type": "code",
   "execution_count": 15,
   "metadata": {
    "collapsed": false
   },
   "outputs": [],
   "source": [
    "lines = list(map(lambda x: re.split(':| ', x.strip()), lines))"
   ]
  },
  {
   "cell_type": "code",
   "execution_count": 16,
   "metadata": {
    "collapsed": false
   },
   "outputs": [],
   "source": [
    "# lines = list(map(func, lines))"
   ]
  },
  {
   "cell_type": "code",
   "execution_count": 17,
   "metadata": {
    "collapsed": false
   },
   "outputs": [],
   "source": [
    "data = np.full((7200, 245), 0.0)\n",
    "target = np.zeros((7200))"
   ]
  },
  {
   "cell_type": "code",
   "execution_count": 18,
   "metadata": {
    "collapsed": false
   },
   "outputs": [],
   "source": [
    "for i in range(len(lines)):\n",
    "    target[i] = float(lines[i][0])\n",
    "    \n",
    "    for j in range(1, len(lines[i]), 2):\n",
    "        data[i, int(lines[i][j]) - 1] = float(lines[i][j + 1])"
   ]
  },
  {
   "cell_type": "code",
   "execution_count": 19,
   "metadata": {
    "collapsed": false,
    "scrolled": true
   },
   "outputs": [],
   "source": [
    "# data = np.nan_to_num(data)"
   ]
  },
  {
   "cell_type": "code",
   "execution_count": null,
   "metadata": {
    "collapsed": true
   },
   "outputs": [],
   "source": []
  },
  {
   "cell_type": "code",
   "execution_count": 20,
   "metadata": {
    "collapsed": true
   },
   "outputs": [],
   "source": [
    "test_lines = []\n",
    "with open('./Regression dataset/reg.test.txt', 'r') as f:\n",
    "    test_lines = f.readlines()"
   ]
  },
  {
   "cell_type": "code",
   "execution_count": 21,
   "metadata": {
    "collapsed": false
   },
   "outputs": [],
   "source": [
    "test_lines = list(map(lambda x: re.split(':| ', x.strip()), test_lines))\n",
    "test_data = np.full((10050, 245), 0.0)\n",
    "test_target = np.zeros((10050))\n",
    "\n",
    "for i in range(len(test_lines)):\n",
    "    test_target[i] = float(test_lines[i][0])\n",
    "    \n",
    "    for j in range(1, len(test_lines[i]), 2):\n",
    "        test_data[i, int(test_lines[i][j]) - 1] = float(test_lines[i][j + 1])\n",
    "test_data = np.nan_to_num(test_data)"
   ]
  },
  {
   "cell_type": "code",
   "execution_count": null,
   "metadata": {
    "collapsed": true
   },
   "outputs": [],
   "source": []
  },
  {
   "cell_type": "code",
   "execution_count": 49,
   "metadata": {
    "collapsed": false,
    "scrolled": true
   },
   "outputs": [
    {
     "data": {
      "text/plain": [
       "array([ 0.90152563,  0.52319358,  0.16285375, ...,  0.52938872,\n",
       "        0.24860881,  0.74881472])"
      ]
     },
     "execution_count": 49,
     "metadata": {},
     "output_type": "execute_result"
    }
   ],
   "source": [
    "gdb = GDB(n_epoch=600, max_depth=4, verbose=0)\n",
    "gdb.fit(data, target)"
   ]
  },
  {
   "cell_type": "code",
   "execution_count": 23,
   "metadata": {
    "collapsed": false
   },
   "outputs": [],
   "source": [
    "# gdb.get_scores()"
   ]
  },
  {
   "cell_type": "code",
   "execution_count": null,
   "metadata": {
    "collapsed": true
   },
   "outputs": [],
   "source": []
  },
  {
   "cell_type": "code",
   "execution_count": 24,
   "metadata": {
    "collapsed": false
   },
   "outputs": [
    {
     "data": {
      "text/plain": [
       "GradientBoostingRegressor(alpha=0.9, criterion='mse', init=None,\n",
       "             learning_rate=0.1, loss='ls', max_depth=3, max_features=None,\n",
       "             max_leaf_nodes=None, min_impurity_split=1e-07,\n",
       "             min_samples_leaf=1, min_samples_split=2,\n",
       "             min_weight_fraction_leaf=0.0, n_estimators=600,\n",
       "             presort='auto', random_state=None, subsample=1.0, verbose=0,\n",
       "             warm_start=False)"
      ]
     },
     "execution_count": 24,
     "metadata": {},
     "output_type": "execute_result"
    }
   ],
   "source": [
    "sk_gdb = GradientBoostingRegressor(n_estimators=600, max_depth=3, learning_rate=0.1, criterion='mse')\n",
    "sk_gdb.fit(data, target)"
   ]
  },
  {
   "cell_type": "code",
   "execution_count": 25,
   "metadata": {
    "collapsed": false
   },
   "outputs": [],
   "source": [
    "# sk_gdb.train_score_"
   ]
  },
  {
   "cell_type": "code",
   "execution_count": 26,
   "metadata": {
    "collapsed": false
   },
   "outputs": [
    {
     "data": {
      "image/png": "[encoded data removed]",
      "text/plain": [
       "<matplotlib.figure.Figure at 0x10407fd68>"
      ]
     },
     "metadata": {},
     "output_type": "display_data"
    }
   ],
   "source": [
    "fig, ax = plt.subplots()\n",
    "\n",
    "ax.plot(np.array(gdb.get_scores())[0:], color='blue', label='my')\n",
    "ax.plot(sk_gdb.train_score_[0:], color='black', label='sklearn')\n",
    "ax.plot(sk_gdb.train_score_[0:] * 1.03, color='red', label='3%')\n",
    "ax.plot(sk_gdb.train_score_[0:] * 0.97, color='red')\n",
    "ax.legend()\n",
    "plt.show()"
   ]
  },
  {
   "cell_type": "code",
   "execution_count": null,
   "metadata": {
    "collapsed": true
   },
   "outputs": [],
   "source": []
  },
  {
   "cell_type": "code",
   "execution_count": 50,
   "metadata": {
    "collapsed": false
   },
   "outputs": [],
   "source": [
    "test_predict = sk_gdb.staged_predict(test_data)"
   ]
  },
  {
   "cell_type": "code",
   "execution_count": 51,
   "metadata": {
    "collapsed": true
   },
   "outputs": [],
   "source": [
    "test_scores = []\n",
    "for y1 in test_predict:\n",
    "    test_scores.append(((y1 - test_target) ** 2).mean())\n",
    "test_scores = np.array(test_scores)"
   ]
  },
  {
   "cell_type": "code",
   "execution_count": 52,
   "metadata": {
    "collapsed": false
   },
   "outputs": [
    {
     "data": {
      "image/png": "[encoded data removed]",
      "text/plain": [
       "<matplotlib.figure.Figure at 0x12068f9e8>"
      ]
     },
     "metadata": {},
     "output_type": "display_data"
    }
   ],
   "source": [
    "fig, ax = plt.subplots()\n",
    "\n",
    "ax.plot(np.array(gdb.staged_scores(test_data, test_target)), color='blue', label='my')\n",
    "ax.plot(test_scores, color='black', label='sklearn')\n",
    "ax.plot(test_scores * 1.03, color='red', label='3%')\n",
    "ax.plot(test_scores * 0.97, color='red')\n",
    "ax.legend()\n",
    "plt.show()"
   ]
  },
  {
   "cell_type": "code",
   "execution_count": null,
   "metadata": {
    "collapsed": true
   },
   "outputs": [],
   "source": []
  }
 ],
 "metadata": {
  "kernelspec": {
   "display_name": "Python 3",
   "language": "python3",
   "name": "python3"
  },
  "language_info": {
   "codemirror_mode": {
    "name": "ipython",
    "version": 3
   },
   "file_extension": ".py",
   "mimetype": "text/x-python",
   "name": "python",
   "nbconvert_exporter": "python",
   "pygments_lexer": "ipython3",
   "version": "3.5.1"
  }
 },
 "nbformat": 4,
 "nbformat_minor": 0
}
