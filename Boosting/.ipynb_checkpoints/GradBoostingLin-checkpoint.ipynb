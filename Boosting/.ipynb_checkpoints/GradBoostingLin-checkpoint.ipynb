{
 "cells": [
  {
   "cell_type": "code",
   "execution_count": 2,
   "metadata": {
    "collapsed": true
   },
   "outputs": [],
   "source": [
    "import matplotlib.pyplot as plt\n",
    "import numpy as np\n",
    "%matplotlib inline"
   ]
  },
  {
   "cell_type": "code",
   "execution_count": 3,
   "metadata": {
    "collapsed": true
   },
   "outputs": [],
   "source": [
    "from line_profiler import LineProfiler"
   ]
  },
  {
   "cell_type": "code",
   "execution_count": 4,
   "metadata": {
    "collapsed": false
   },
   "outputs": [],
   "source": [
    "import pandas as pd"
   ]
  },
  {
   "cell_type": "code",
   "execution_count": 5,
   "metadata": {
    "collapsed": false
   },
   "outputs": [],
   "source": [
    "%load_ext Cython"
   ]
  },
  {
   "cell_type": "code",
   "execution_count": 6,
   "metadata": {
    "collapsed": true
   },
   "outputs": [],
   "source": [
    "def profile_print(func_to_call, *args):\n",
    "    profiler = LineProfiler()\n",
    "    profiler.add_function(func_to_call)\n",
    "    profiler.runcall(func_to_call, *args)\n",
    "    profiler.print_stats()"
   ]
  },
  {
   "cell_type": "code",
   "execution_count": null,
   "metadata": {
    "collapsed": false
   },
   "outputs": [],
   "source": [
    "%%cython -a -f --compile-args=-DCYTHON_TRACE=1\n",
    "\n",
    "import numpy as np\n",
    "cimport numpy as np\n",
    "from Cython.Compiler.Options import _directive_defaults\n",
    "\n",
    "_directive_defaults['linetrace'] = True\n",
    "_directive_defaults['binding'] = True\n",
    "\n",
    "# cdef void dot(np.ndarray[np.float64_t, ndim=1] vect, np.ndarray[np.float64_t, ndim=2] X, \n",
    "#                                          np.ndarray[np.float64_t, ndim=1] res):\n",
    "#     for i in range(X.shape[0]):\n",
    "#         buf = 0.0\n",
    "#         for j in range(X.shape[1]):\n",
    "#             buf += X[i, j] * vect[j]\n",
    "#             res[i] = buf\n",
    "\n",
    "cdef class RegressionTree:\n",
    "    cdef public int max_depth\n",
    "    cpdef RegressionTree left\n",
    "    cpdef RegressionTree right\n",
    "    cdef public np.float64_t c\n",
    "    cdef public np.float64_t value\n",
    "    cdef public np.float64_t[:] line\n",
    "    \n",
    "    def __init__(self, int max_depth=3):\n",
    "        self.max_depth = max_depth\n",
    "        self.c = 0.0\n",
    "        self.value = 0.0\n",
    "        \n",
    "        return\n",
    "\n",
    "    def init_fit(self, np.ndarray[np.float64_t, ndim=2] X, np.ndarray[np.float64_t, ndim=1] y):\n",
    "        self.line = np.zeros(X.shape[1])\n",
    "        self.line[0] = 1.0\n",
    "        self.c = X[:, 0].max()\n",
    "\n",
    "        self.value = y.mean()\n",
    "\n",
    "    def fit(self, np.ndarray[np.float64_t, ndim=2] X, np.ndarray[np.float64_t, ndim=1] y):\n",
    "        if X.shape[0] <= 1 or self.max_depth <= 1:\n",
    "            self.value = y.mean()\n",
    "            return\n",
    "\n",
    "        self.init_fit(X, y)\n",
    "    \n",
    "        # define types of used varibles for cython\n",
    "        cpdef np.float64_t mean1, mean2, delta1, delta2, sm1, sm2, err1, err2\n",
    "        cpdef np.float64_t n_line_f, n_c, gamma, buf\n",
    "        cpdef long N, N1, N2, i, j, idx, f\n",
    "        cpdef np.ndarray[np.float64_t, ndim=1] u, v\n",
    "        cpdef np.ndarray[long, ndim=1] idxs\n",
    "#         cpdef np.ndarray[np.bool, ndim=1] mask1, mask2\n",
    "\n",
    "        u = np.zeros(X.shape[0])\n",
    "        v = np.zeros(X.shape[0])\n",
    "\n",
    "        mask1 = np.zeros(X.shape[0], dtype=bool)\n",
    "        mask2 = np.zeros(X.shape[0], dtype=bool)\n",
    "        \n",
    "        cpdef np.float64_t error = ((y - self.value) ** 2).sum()\n",
    "\n",
    "        flag = 0\n",
    "        cpdef np.float64_t left_value = 0.0\n",
    "        cpdef np.float64_t right_value = 0.0\n",
    "\n",
    "        for i in range(X.shape[0]):\n",
    "            v[i] = self.line[0] * X[i, 0]\n",
    "        \n",
    "        for f in range(X.shape[1]):\n",
    "            n_line_f = self.line[f]\n",
    "            n_c = self.c\n",
    "\n",
    "            for j in range(3):\n",
    "                gamma = -0.25 + 0.25 * j\n",
    "                \n",
    "                N1 = 0\n",
    "                N2 = 0\n",
    "                sm1 = 0.0\n",
    "                sm2 = 0.0\n",
    "                mean1 = 0.0\n",
    "                mean2 = 0.0\n",
    "\n",
    "                err1 = 0.0\n",
    "                err2 = 0.0\n",
    "\n",
    "                for i in range(X.shape[0]):\n",
    "                    u[i] = v[i] - self.c\n",
    "                    \n",
    "                    if abs(X[i, f] + gamma) < 1e-16:\n",
    "                        if X[i, f] + gamma >= 0.0:\n",
    "                            u[i] /= (X[i, f] + gamma + 1e-8)\n",
    "                        else:\n",
    "                            u[i] /= (X[i, f] + gamma - 1e-8)\n",
    "                    else:\n",
    "                        u[i] /= (X[i, f] + gamma)\n",
    "                    \n",
    "                    if X[i, f] + gamma < 0:\n",
    "                        N1 += 1\n",
    "                        sm1 += y[i]\n",
    "                    else:\n",
    "                        N2 += 1\n",
    "                        sm2 += y[i]\n",
    "                \n",
    "                idxs = np.argsort(u)\n",
    "                \n",
    "                if N2 != 0:\n",
    "                    mean2 = sm2 / N2\n",
    "                if N1 != 0:\n",
    "                    mean1 = sm1 / N1\n",
    "\n",
    "                for i in range(X.shape[0]):\n",
    "                    if X[i, f] + gamma < 0:\n",
    "                        err1 += (y[i] - mean1) ** 2\n",
    "                    else:\n",
    "                        err2 += (y[i] - mean2) ** 2\n",
    "\n",
    "                if err1 + err2 < error:\n",
    "                    flag = 1\n",
    "                    error = err1 + err2\n",
    "                    left_value = mean1\n",
    "                    right_value = mean2\n",
    "                    n_line_f = self.line[f] - (u[idxs[0]] - 0.1)\n",
    "                    n_c = self.c + (u[idxs[0]] - 0.1) * gamma\n",
    "\n",
    "                delta1 = 0.0\n",
    "                delta2 = 0.0\n",
    "                \n",
    "                # change left bound of\n",
    "                for i in range(X.shape[0]):\n",
    "                    idx = idxs[i]\n",
    "\n",
    "                    if X[idx, f] + gamma >= 0:\n",
    "                        N1 += 1\n",
    "                        N2 -= 1\n",
    "\n",
    "                        delta1 = (sm1 + y[idx]) * 1.0 / N1 - mean1\n",
    "                        sm1 += y[idx]\n",
    "                        err1 += (delta1 ** 2) * N1 + (y[idx] - mean1) ** 2 - 2 * delta1 * (sm1 - mean1 * N1)\n",
    "                        mean1 = sm1 / N1\n",
    "\n",
    "                        if N2 != 0:\n",
    "                            delta2 = (sm2 - y[idx]) * 1.0 / N2 - mean2\n",
    "                            sm2 -= y[idx]\n",
    "                            err2 += (delta2 ** 2) * N2 - (y[idx] - mean2) ** 2 - 2 * delta2 * (sm2 - mean2 * N2)\n",
    "                            mean2 = sm2 / N2\n",
    "                        else:\n",
    "                            sm2 = 0.0\n",
    "                            mean2 = 0.0\n",
    "                            err2 = 0.0\n",
    "                    else:\n",
    "                        N1 -= 1\n",
    "                        N2 += 1\n",
    "\n",
    "                        if N1 != 0:\n",
    "                            delta1 = (sm1 - y[idx]) * 1.0 / N1 - mean1\n",
    "                            sm1 -= y[idx]\n",
    "                            err1 += (delta1 ** 2) * N1 - (y[idx] - mean1) ** 2 - 2 * delta1 * (sm1 - mean1 * N1)\n",
    "                            mean1 = sm1 / N1\n",
    "                        else:\n",
    "                            sm1 = 0.0\n",
    "                            mean1 = 0.0\n",
    "                            err1 = 0.0\n",
    "\n",
    "                        delta2 = (sm2 + y[idx]) * 1.0 / N2 - mean2\n",
    "                        sm2 += y[idx]\n",
    "                        err2 += (delta2 ** 2) * N2 + (y[idx] - mean2) ** 2 - 2 * delta2 * (sm2 - mean2 * N2)\n",
    "                        mean2 = sm2 / N2\n",
    "\n",
    "                    if (i != X.shape[0] - 1) and abs(u[idx] - u[idxs[i + 1]]) < 1e-9:\n",
    "                        continue\n",
    "\n",
    "                    if err1 + err2 < error:\n",
    "                        flag = 1\n",
    "                        error = err1 + err2\n",
    "                        left_value = mean1\n",
    "                        right_value = mean2\n",
    "                        n_line_f = self.line[f] - u[idx]\n",
    "                        n_c = self.c + u[idx] * gamma\n",
    "\n",
    "            self.line[f] = n_line_f\n",
    "            self.c = n_c\n",
    "            \n",
    "            if f == 0:\n",
    "                for i in range(X.shape[0]):\n",
    "                    v[i] = self.line[f] * X[i, f]\n",
    "            else:\n",
    "                for i in range(X.shape[0]):\n",
    "                    v[i] += self.line[f] * X[i, f]\n",
    "        \n",
    "        N = 0\n",
    "        for i in range(X.shape[0]):\n",
    "            if v[i] <= self.c:\n",
    "                N += 1\n",
    "                mask1[i] = 1\n",
    "                mask2[i] = 0\n",
    "            else:\n",
    "                mask1[i] = 0\n",
    "                mask2[i] = 1\n",
    "\n",
    "        if not flag or N == 0 or N == X.shape[0]:\n",
    "            return\n",
    "        \n",
    "        self.left = RegressionTree(max_depth=self.max_depth - 1)\n",
    "        self.left.value = left_value\n",
    "        self.right = RegressionTree(max_depth=self.max_depth - 1)\n",
    "        self.right.value = right_value\n",
    "        \n",
    "        self.left.fit(X[mask1, :], y[mask1])\n",
    "        self.right.fit(X[mask2, :], y[mask2])\n",
    "\n",
    "    def __predict(self, x):\n",
    "        if (self.left is None) or (self.right is None):\n",
    "            return self.value\n",
    "\n",
    "        res = np.dot(self.line, x)\n",
    "\n",
    "        if res <= self.c:\n",
    "            return self.left.__predict(x)\n",
    "        else:\n",
    "            return self.right.__predict(x)\n",
    "\n",
    "    def predict(self, X):\n",
    "        y = np.zeros(X.shape[0])\n",
    "\n",
    "        for i in range(X.shape[0]):\n",
    "            y[i] = self.__predict(X[i])\n",
    "\n",
    "        return y"
   ]
  },
  {
   "cell_type": "code",
   "execution_count": 8,
   "metadata": {
    "collapsed": true
   },
   "outputs": [],
   "source": [
    "class GDB:\n",
    "    def __init__(self, n_epoch=10, max_depth=3, verbose=0):\n",
    "        self.n_epoch = n_epoch\n",
    "        self.max_depth = max_depth\n",
    "        self.error = None\n",
    "        self.child = None\n",
    "        self.verbose = verbose\n",
    "        self.regression_tree = RegressionTree(max_depth=1)\n",
    "#         self.regression_tree.value = None\n",
    "        \n",
    "        # muliplication coeff for regression tree\n",
    "        self.b = 0.1\n",
    "        \n",
    "        # array of values on fitted X\n",
    "        # self.h = None\n",
    "        return\n",
    "    \n",
    "    def fit(self, X, y):\n",
    "        if self.n_epoch == 1:\n",
    "            self.regression_tree.value = y.mean()\n",
    "            h = np.ones(X.shape[0]) * self.regression_tree.value\n",
    "            self.b = 1.0\n",
    "            self.error = ((self.regression_tree.value - y)**2).mean()\n",
    "            \n",
    "            if self.verbose == 1:\n",
    "                print('Epoch ' + str(self.n_epoch) + ' finished')\n",
    "                print('Error = ', self.error)\n",
    "            \n",
    "            return h\n",
    "        \n",
    "        self.child = GDB(n_epoch=self.n_epoch - 1, max_depth=self.max_depth, verbose=self.verbose)\n",
    "        h = self.child.fit(X, y)\n",
    "        \n",
    "        g = (y - h)\n",
    "        a = RegressionTree(max_depth=self.max_depth)\n",
    "        a.fit(X, g)\n",
    "        a_values = a.predict(X)\n",
    "        self.regression_tree = a\n",
    "\n",
    "#         self.b = 1.0\n",
    "        h += self.b * a_values\n",
    "            \n",
    "        self.error = ((h - y)**2).mean()\n",
    "        \n",
    "        if self.verbose == 1:\n",
    "            print('Epoch ' + str(self.n_epoch) + ' finished')\n",
    "            print('Error = ', self.error)\n",
    "        \n",
    "        return h\n",
    "    def predict(self, X):\n",
    "        c = self.b * self.regression_tree.predict(X)\n",
    "        \n",
    "#         print('b, pred ', self.b, self.regression_tree.predict(X))\n",
    "    \n",
    "        if self.child is not None:\n",
    "            c += self.child.predict(X)\n",
    "        \n",
    "        return c\n",
    "    \n",
    "    def _get_scores(self, arr):\n",
    "        arr.append(self.error)\n",
    "        if self.child is not None:\n",
    "            self.child._get_scores(arr)\n",
    "    def get_scores(self):\n",
    "        arr = []\n",
    "        self._get_scores(arr)\n",
    "        return np.array(arr[::-1])\n",
    "    \n",
    "    def staged_scores(self, X, y):\n",
    "        children = [None for i in range(self.n_epoch)]\n",
    "        \n",
    "        gdb_child = self\n",
    "        i = 0\n",
    "        while gdb_child is not None:\n",
    "            children[i] = gdb_child\n",
    "            gdb_child = gdb_child.child\n",
    "            i += 1\n",
    "        \n",
    "        res = [0 for i in range(self.n_epoch)]\n",
    "        pred = 0\n",
    "        for i in range(self.n_epoch):\n",
    "            pred += children[-i - 1].b * children[-i - 1].regression_tree.predict(X)\n",
    "            res[i] = ((pred - y) ** 2).mean()\n",
    "        \n",
    "        return res"
   ]
  },
  {
   "cell_type": "code",
   "execution_count": 9,
   "metadata": {
    "collapsed": true
   },
   "outputs": [],
   "source": [
    "from sklearn import datasets\n",
    "from sklearn.tree import DecisionTreeRegressor\n",
    "from sklearn.ensemble import GradientBoostingRegressor\n",
    "\n",
    "import time"
   ]
  },
  {
   "cell_type": "code",
   "execution_count": 44,
   "metadata": {
    "collapsed": false
   },
   "outputs": [
    {
     "name": "stdout",
     "output_type": "stream",
     "text": [
      "Epoch 1 finished\n",
      "Error =  1.33155030008\n",
      "Epoch 2 finished\n",
      "Error =  1.16737118015\n",
      "Epoch 3 finished\n",
      "Error =  1.0349432843\n",
      "Epoch 4 finished\n",
      "Error =  0.926262923697\n",
      "Epoch 5 finished\n",
      "Error =  0.833857873983\n",
      "Epoch 6 finished\n",
      "Error =  0.758412732124\n",
      "Epoch 7 finished\n",
      "Error =  0.697585599147\n",
      "Epoch 8 finished\n",
      "Error =  0.646147360982\n",
      "Epoch 9 finished\n",
      "Error =  0.603570713103\n",
      "Epoch 10 finished\n",
      "Error =  0.567462590266\n",
      "0.567462590266\n",
      "3.2713840007781982\n"
     ]
    }
   ],
   "source": [
    "t1 = time.time()\n",
    "\n",
    "gdb = GDB(n_epoch=10, max_depth=4, verbose=1)\n",
    "gdb.fit(X_norm, y)\n",
    "print(((gdb.predict(X_norm) - y) **2).mean())\n",
    "\n",
    "# sk_gdb = GradientBoostingRegressor(n_estimators=10, max_depth=3, learning_rate=0.1, criterion='mse')\n",
    "# sk_gdb.fit(X, y)\n",
    "# print(((sk_gdb.predict(X) - y) **2).mean())\n",
    "\n",
    "print(time.time() - t1)"
   ]
  },
  {
   "cell_type": "code",
   "execution_count": 215,
   "metadata": {
    "collapsed": false
   },
   "outputs": [],
   "source": []
  },
  {
   "cell_type": "code",
   "execution_count": 22,
   "metadata": {
    "collapsed": false
   },
   "outputs": [],
   "source": [
    "X = np.array([[0, 0], [1, 0], [0, 1], [1, 1]], dtype=float)\n",
    "y = np.array([0, 1, 0, 1], dtype=float)"
   ]
  },
  {
   "cell_type": "code",
   "execution_count": null,
   "metadata": {
    "collapsed": true
   },
   "outputs": [],
   "source": []
  },
  {
   "cell_type": "code",
   "execution_count": 12,
   "metadata": {
    "collapsed": true
   },
   "outputs": [],
   "source": [
    "medians = np.median(X, axis=0)\n",
    "iqrs = np.subtract(*np.percentile(X, q=[75, 25], axis=0))\n",
    "\n",
    "X_norm = (X - medians) / iqrs"
   ]
  },
  {
   "cell_type": "code",
   "execution_count": 82,
   "metadata": {
    "collapsed": false,
    "scrolled": true
   },
   "outputs": [
    {
     "name": "stdout",
     "output_type": "stream",
     "text": [
      "Timer unit: 1e-06 s\n",
      "\n",
      "Total time: 2.79682 s\n",
      "File: /Users/dmitry103/.ipython/cython/_cython_magic_d59fa3e4caff39381573ac2d955ecf39.pyx\n",
      "Function: fit at line 39\n",
      "\n",
      "Line #      Hits         Time  Per Hit   % Time  Line Contents\n",
      "==============================================================\n",
      "    39                                               def fit(self, np.ndarray[np.float64_t, ndim=2] X, np.ndarray[np.float64_t, ndim=1] y):\n",
      "    40        13           12      0.9      0.0          if X.shape[0] <= 1 or self.max_depth <= 1:\n",
      "    41         6          211     35.2      0.0              self.value = y.mean()\n",
      "    42         6           21      3.5      0.0              return\n",
      "    43                                           \n",
      "    44         7          488     69.7      0.0          self.init_fit(X, y)\n",
      "    45                                               \n",
      "    46                                                   # define types of used varibles for cython\n",
      "    47                                                   cpdef np.float64_t mean1, mean2, delta1, delta2, sm1, sm2, err1, err2\n",
      "    48                                                   cpdef np.float64_t n_line_f, n_c, gamma, buf\n",
      "    49                                                   cpdef long N, N1, N2, i, j, idx, f\n",
      "    50                                                   cpdef np.ndarray[np.float64_t, ndim=1] u, v\n",
      "    51                                                   cpdef np.ndarray[long, ndim=1] idxs\n",
      "    52                                           #         cpdef np.ndarray[np.bool, ndim=1] mask1, mask2\n",
      "    53                                           \n",
      "    54         7           59      8.4      0.0          u = np.zeros(X.shape[0])\n",
      "    55         7           41      5.9      0.0          v = np.zeros(X.shape[0])\n",
      "    56                                           \n",
      "    57         7           27      3.9      0.0          mask1 = np.zeros(X.shape[0], dtype=bool)\n",
      "    58         7           18      2.6      0.0          mask2 = np.zeros(X.shape[0], dtype=bool)\n",
      "    59                                                   \n",
      "    60         7          135     19.3      0.0          cpdef np.float64_t error = ((y - self.value) ** 2).sum()\n",
      "    61                                           \n",
      "    62         7            5      0.7      0.0          flag = 0\n",
      "    63         7            5      0.7      0.0          cpdef np.float64_t left_value = 0.0\n",
      "    64         7            5      0.7      0.0          cpdef np.float64_t right_value = 0.0\n",
      "    65                                           \n",
      "    66         7            4      0.6      0.0          for i in range(X.shape[0]):\n",
      "    67       300          162      0.5      0.0              v[i] = self.line[0] * X[i, 0]\n",
      "    68                                                   \n",
      "    69         7            2      0.3      0.0          for f in range(X.shape[1]):\n",
      "    70      1715          911      0.5      0.0              n_line_f = self.line[f]\n",
      "    71      1715          863      0.5      0.0              n_c = self.c\n",
      "    72                                           \n",
      "    73      1715          956      0.6      0.0              for j in range(3):\n",
      "    74      5145         2589      0.5      0.1                  gamma = -0.25 + 0.25 * j\n",
      "    75                                                           \n",
      "    76      5145         2666      0.5      0.1                  N1 = 0\n",
      "    77      5145         2660      0.5      0.1                  N2 = 0\n",
      "    78      5145         2629      0.5      0.1                  sm1 = 0.0\n",
      "    79      5145         2658      0.5      0.1                  sm2 = 0.0\n",
      "    80      5145         2697      0.5      0.1                  mean1 = 0.0\n",
      "    81      5145         2589      0.5      0.1                  mean2 = 0.0\n",
      "    82                                           \n",
      "    83      5145         2620      0.5      0.1                  err1 = 0.0\n",
      "    84      5145         2661      0.5      0.1                  err2 = 0.0\n",
      "    85                                           \n",
      "    86      5145         2658      0.5      0.1                  for i in range(X.shape[0]):\n",
      "    87    220500       113630      0.5      4.1                      u[i] = v[i] - self.c\n",
      "    88                                                               \n",
      "    89    220500       115903      0.5      4.1                      if abs(X[i, f] + gamma) < 1e-16:\n",
      "    90     36522        18832      0.5      0.7                          if X[i, f] + gamma >= 0.0:\n",
      "    91     36522        18855      0.5      0.7                              u[i] /= (X[i, f] + gamma + 1e-8)\n",
      "    92                                                                   else:\n",
      "    93                                                                       u[i] /= (X[i, f] + gamma - 1e-8)\n",
      "    94                                                               else:\n",
      "    95    183978        94950      0.5      3.4                          u[i] /= (X[i, f] + gamma)\n",
      "    96                                                               \n",
      "    97    220500       114068      0.5      4.1                      if X[i, f] + gamma < 0:\n",
      "    98     81549        41878      0.5      1.5                          N1 += 1\n",
      "    99     81549        42172      0.5      1.5                          sm1 += y[i]\n",
      "   100                                                               else:\n",
      "   101    138951        70812      0.5      2.5                          N2 += 1\n",
      "   102    138951        71454      0.5      2.6                          sm2 += y[i]\n",
      "   103                                                           \n",
      "   104      5145        55183     10.7      2.0                  idxs = np.argsort(u)\n",
      "   105                                                           \n",
      "   106      5145         3296      0.6      0.1                  if N2 != 0:\n",
      "   107      4621         2346      0.5      0.1                      mean2 = sm2 / N2\n",
      "   108      5145         2638      0.5      0.1                  if N1 != 0:\n",
      "   109      3173         1659      0.5      0.1                      mean1 = sm1 / N1\n",
      "   110                                           \n",
      "   111      5145         2796      0.5      0.1                  for i in range(X.shape[0]):\n",
      "   112    220500       116725      0.5      4.2                      if X[i, f] + gamma < 0:\n",
      "   113     81549        41889      0.5      1.5                          err1 += (y[i] - mean1) ** 2\n",
      "   114                                                               else:\n",
      "   115    138951        71865      0.5      2.6                          err2 += (y[i] - mean2) ** 2\n",
      "   116                                           \n",
      "   117      5145         2701      0.5      0.1                  if err1 + err2 < error:\n",
      "   118         9            5      0.6      0.0                      flag = 1\n",
      "   119         9            6      0.7      0.0                      error = err1 + err2\n",
      "   120         9            7      0.8      0.0                      left_value = mean1\n",
      "   121         9            8      0.9      0.0                      right_value = mean2\n",
      "   122         9            7      0.8      0.0                      n_line_f = self.line[f] - (u[idxs[0]] - 0.1)\n",
      "   123         9            6      0.7      0.0                      n_c = self.c + (u[idxs[0]] - 0.1) * gamma\n",
      "   124                                           \n",
      "   125      5145         2626      0.5      0.1                  delta1 = 0.0\n",
      "   126      5145         2627      0.5      0.1                  delta2 = 0.0\n",
      "   127                                                           \n",
      "   128                                                           # change left bound of\n",
      "   129      5145         2660      0.5      0.1                  for i in range(X.shape[0]):\n",
      "   130    220500       113801      0.5      4.1                      idx = idxs[i]\n",
      "   131                                           \n",
      "   132    220500       117823      0.5      4.2                      if X[idx, f] + gamma >= 0:\n",
      "   133    138951        70985      0.5      2.5                          N1 += 1\n",
      "   134    138951        70893      0.5      2.5                          N2 -= 1\n",
      "   135                                           \n",
      "   136    138951        71780      0.5      2.6                          delta1 = (sm1 + y[idx]) * 1.0 / N1 - mean1\n",
      "   137    138951        70591      0.5      2.5                          sm1 += y[idx]\n",
      "   138    138951        71595      0.5      2.6                          err1 += (delta1 ** 2) * N1 + (y[idx] - mean1) ** 2 - 2 * delta1 * (sm1 - mean1 * N1)\n",
      "   139    138951        70915      0.5      2.5                          mean1 = sm1 / N1\n",
      "   140                                           \n",
      "   141    138951        71673      0.5      2.6                          if N2 != 0:\n",
      "   142    136647        69849      0.5      2.5                              delta2 = (sm2 - y[idx]) * 1.0 / N2 - mean2\n",
      "   143    136647        70519      0.5      2.5                              sm2 -= y[idx]\n",
      "   144    136647        69763      0.5      2.5                              err2 += (delta2 ** 2) * N2 - (y[idx] - mean2) ** 2 - 2 * delta2 * (sm2 - mean2 * N2)\n",
      "   145    136647        70085      0.5      2.5                              mean2 = sm2 / N2\n",
      "   146                                                                   else:\n",
      "   147      2304         1194      0.5      0.0                              sm2 = 0.0\n",
      "   148      2304         1168      0.5      0.0                              mean2 = 0.0\n",
      "   149      2304         1173      0.5      0.0                              err2 = 0.0\n",
      "   150                                                               else:\n",
      "   151     81549        41649      0.5      1.5                          N1 -= 1\n",
      "   152     81549        42172      0.5      1.5                          N2 += 1\n",
      "   153                                           \n",
      "   154     81549        43989      0.5      1.6                          if N1 != 0:\n",
      "   155     81021        41901      0.5      1.5                              delta1 = (sm1 - y[idx]) * 1.0 / N1 - mean1\n",
      "   156     81021        42131      0.5      1.5                              sm1 -= y[idx]\n",
      "   157     81021        41660      0.5      1.5                              err1 += (delta1 ** 2) * N1 - (y[idx] - mean1) ** 2 - 2 * delta1 * (sm1 - mean1 * N1)\n",
      "   158     81021        41878      0.5      1.5                              mean1 = sm1 / N1\n",
      "   159                                                                   else:\n",
      "   160       528          276      0.5      0.0                              sm1 = 0.0\n",
      "   161       528          273      0.5      0.0                              mean1 = 0.0\n",
      "   162       528          290      0.5      0.0                              err1 = 0.0\n",
      "   163                                           \n",
      "   164     81549        42096      0.5      1.5                          delta2 = (sm2 + y[idx]) * 1.0 / N2 - mean2\n",
      "   165     81549        42053      0.5      1.5                          sm2 += y[idx]\n",
      "   166     81549        42062      0.5      1.5                          err2 += (delta2 ** 2) * N2 + (y[idx] - mean2) ** 2 - 2 * delta2 * (sm2 - mean2 * N2)\n",
      "   167     81549        42775      0.5      1.5                          mean2 = sm2 / N2\n",
      "   168                                           \n",
      "   169    220500       116024      0.5      4.1                      if (i != X.shape[0] - 1) and abs(u[idx] - u[idxs[i + 1]]) < 1e-9:\n",
      "   170      8514         4338      0.5      0.2                          continue\n",
      "   171                                           \n",
      "   172    211986       110796      0.5      4.0                      if err1 + err2 < error:\n",
      "   173       281          145      0.5      0.0                          flag = 1\n",
      "   174       281          135      0.5      0.0                          error = err1 + err2\n",
      "   175       281          150      0.5      0.0                          left_value = mean1\n",
      "   176       281          147      0.5      0.0                          right_value = mean2\n",
      "   177       281          170      0.6      0.0                          n_line_f = self.line[f] - u[idx]\n",
      "   178       281          144      0.5      0.0                          n_c = self.c + u[idx] * gamma\n",
      "   179                                           \n",
      "   180      1715          949      0.6      0.0              self.line[f] = n_line_f\n",
      "   181      1715          861      0.5      0.0              self.c = n_c\n",
      "   182                                                       \n",
      "   183      1715          937      0.5      0.0              if f == 0:\n",
      "   184         7            2      0.3      0.0                  for i in range(X.shape[0]):\n",
      "   185       300          143      0.5      0.0                      v[i] = self.line[f] * X[i, f]\n",
      "   186                                                       else:\n",
      "   187      1708          868      0.5      0.0                  for i in range(X.shape[0]):\n",
      "   188     73200        38970      0.5      1.4                      v[i] += self.line[f] * X[i, f]\n",
      "   189                                                   \n",
      "   190         7            5      0.7      0.0          N = 0\n",
      "   191         7            3      0.4      0.0          for i in range(X.shape[0]):\n",
      "   192       300          159      0.5      0.0              if v[i] <= self.c:\n",
      "   193       189           87      0.5      0.0                  N += 1\n",
      "   194       189          103      0.5      0.0                  mask1[i] = 1\n",
      "   195       189          100      0.5      0.0                  mask2[i] = 0\n",
      "   196                                                       else:\n",
      "   197       111           70      0.6      0.0                  mask1[i] = 0\n",
      "   198       111           75      0.7      0.0                  mask2[i] = 1\n",
      "   199                                           \n",
      "   200         7            4      0.6      0.0          if not flag or N == 0 or N == X.shape[0]:\n",
      "   201         1            7      7.0      0.0              return\n",
      "   202                                                   \n",
      "   203         6           25      4.2      0.0          self.left = RegressionTree(max_depth=self.max_depth - 1)\n",
      "   204         6            4      0.7      0.0          self.left.value = left_value\n",
      "   205         6            7      1.2      0.0          self.right = RegressionTree(max_depth=self.max_depth - 1)\n",
      "   206         6            2      0.3      0.0          self.right.value = right_value\n",
      "   207                                                   \n",
      "   208         6          278     46.3      0.0          self.left.fit(X[mask1, :], y[mask1])\n",
      "   209         6          142     23.7      0.0          self.right.fit(X[mask2, :], y[mask2])\n",
      "\n"
     ]
    }
   ],
   "source": [
    "a = RegressionTree(4)\n",
    "\n",
    "profile_print(a.fit, *(data_norm[0:100], target[0:100]))"
   ]
  },
  {
   "cell_type": "code",
   "execution_count": 81,
   "metadata": {
    "collapsed": false
   },
   "outputs": [
    {
     "name": "stdout",
     "output_type": "stream",
     "text": [
      "Timer unit: 1e-06 s\n",
      "\n",
      "Total time: 9.85743 s\n",
      "File: <ipython-input-8-06bfb044fe4f>\n",
      "Function: fit at line 18\n",
      "\n",
      "Line #      Hits         Time  Per Hit   % Time  Line Contents\n",
      "==============================================================\n",
      "    18                                               def fit(self, X, y):\n",
      "    19        10            6      0.6      0.0          if self.n_epoch == 1:\n",
      "    20         1        25360  25360.0      0.3              self.regression_tree.value = y.mean()\n",
      "    21         1           74     74.0      0.0              h = np.ones(X.shape[0]) * self.regression_tree.value\n",
      "    22         1            2      2.0      0.0              self.b = 1.0\n",
      "    23         1           45     45.0      0.0              self.error = ((self.regression_tree.value - y)**2).mean()\n",
      "    24                                                       \n",
      "    25         1            1      1.0      0.0              if self.verbose == 1:\n",
      "    26                                                           print('Epoch ' + str(self.n_epoch) + ' finished')\n",
      "    27                                                           print('Error = ', self.error)\n",
      "    28                                                       \n",
      "    29         1            0      0.0      0.0              return h\n",
      "    30                                                   \n",
      "    31         9           69      7.7      0.0          self.child = GDB(n_epoch=self.n_epoch - 1, max_depth=self.max_depth, verbose=self.verbose)\n",
      "    32         9           16      1.8      0.0          h = self.child.fit(X, y)\n",
      "    33                                                   \n",
      "    34         9           19      2.1      0.0          g = (y - h)\n",
      "    35         9           37      4.1      0.0          a = RegressionTree(max_depth=self.max_depth)\n",
      "    36         9      9791727 1087969.7     99.3          a.fit(X, g)\n",
      "    37         9        39530   4392.2      0.4          a_values = a.predict(X)\n",
      "    38         9           25      2.8      0.0          self.regression_tree = a\n",
      "    39                                           \n",
      "    40                                           #         self.b = 1.0\n",
      "    41         9          148     16.4      0.0          h += self.b * a_values\n",
      "    42                                                       \n",
      "    43         9          360     40.0      0.0          self.error = ((h - y)**2).mean()\n",
      "    44                                                   \n",
      "    45         9           10      1.1      0.0          if self.verbose == 1:\n",
      "    46                                                       print('Epoch ' + str(self.n_epoch) + ' finished')\n",
      "    47                                                       print('Error = ', self.error)\n",
      "    48                                                   \n",
      "    49         9            2      0.2      0.0          return h\n",
      "\n"
     ]
    }
   ],
   "source": [
    "a1 = GDB(n_epoch=10, max_depth=4)\n",
    "profile_print(a1.fit, *(data_norm[0:100], target[0:100]))"
   ]
  },
  {
   "cell_type": "code",
   "execution_count": 178,
   "metadata": {
    "collapsed": false
   },
   "outputs": [
    {
     "data": {
      "text/plain": [
       "0.031178910745349928"
      ]
     },
     "execution_count": 178,
     "metadata": {},
     "output_type": "execute_result"
    }
   ],
   "source": [
    "((a.predict(data_norm) - target) ** 2).mean()"
   ]
  },
  {
   "cell_type": "code",
   "execution_count": 51,
   "metadata": {
    "collapsed": true
   },
   "outputs": [],
   "source": []
  },
  {
   "cell_type": "code",
   "execution_count": 165,
   "metadata": {
    "collapsed": false
   },
   "outputs": [
    {
     "data": {
      "text/plain": [
       "0.0080731904757628866"
      ]
     },
     "execution_count": 165,
     "metadata": {},
     "output_type": "execute_result"
    }
   ],
   "source": [
    "tree = DecisionTreeRegressor(max_depth=20, criterion='mse')\n",
    "tree.fit(X, y)\n",
    "((tree.predict(X) - y) ** 2).mean()"
   ]
  },
  {
   "cell_type": "code",
   "execution_count": null,
   "metadata": {
    "collapsed": true
   },
   "outputs": [],
   "source": []
  },
  {
   "cell_type": "code",
   "execution_count": 10,
   "metadata": {
    "collapsed": false
   },
   "outputs": [],
   "source": [
    "housing = datasets.fetch_california_housing()\n",
    "iris = datasets.load_iris()"
   ]
  },
  {
   "cell_type": "code",
   "execution_count": 11,
   "metadata": {
    "collapsed": false
   },
   "outputs": [],
   "source": [
    "X = np.array(housing.data, dtype=np.float64)\n",
    "y = np.array(housing.target, dtype=np.float64)"
   ]
  },
  {
   "cell_type": "code",
   "execution_count": 11,
   "metadata": {
    "collapsed": false
   },
   "outputs": [],
   "source": [
    "X = np.array(iris.data, dtype=np.float64)\n",
    "y = np.array(iris.target, dtype=np.float64)"
   ]
  },
  {
   "cell_type": "code",
   "execution_count": 271,
   "metadata": {
    "collapsed": false
   },
   "outputs": [],
   "source": [
    "model = RegressionTree(max_depth=10)\n",
    "# model.fit(X, y)"
   ]
  },
  {
   "cell_type": "code",
   "execution_count": 273,
   "metadata": {
    "collapsed": false
   },
   "outputs": [
    {
     "data": {
      "text/plain": [
       "0.79568558140975454"
      ]
     },
     "execution_count": 273,
     "metadata": {},
     "output_type": "execute_result"
    }
   ],
   "source": [
    "((model.predict(X) - y) ** 2).mean()"
   ]
  },
  {
   "cell_type": "code",
   "execution_count": null,
   "metadata": {
    "collapsed": true
   },
   "outputs": [],
   "source": []
  },
  {
   "cell_type": "code",
   "execution_count": null,
   "metadata": {
    "collapsed": true
   },
   "outputs": [],
   "source": []
  },
  {
   "cell_type": "code",
   "execution_count": 45,
   "metadata": {
    "collapsed": true
   },
   "outputs": [],
   "source": [
    "train_data = pd.DataFrame() "
   ]
  },
  {
   "cell_type": "code",
   "execution_count": 46,
   "metadata": {
    "collapsed": true
   },
   "outputs": [],
   "source": [
    "lines = []\n",
    "with open('./Regression dataset/reg.train.txt', 'r') as f:\n",
    "    lines = f.readlines()"
   ]
  },
  {
   "cell_type": "code",
   "execution_count": null,
   "metadata": {
    "collapsed": true
   },
   "outputs": [],
   "source": []
  },
  {
   "cell_type": "code",
   "execution_count": 47,
   "metadata": {
    "collapsed": false
   },
   "outputs": [],
   "source": [
    "import re"
   ]
  },
  {
   "cell_type": "code",
   "execution_count": 48,
   "metadata": {
    "collapsed": false
   },
   "outputs": [],
   "source": [
    "lines = list(map(lambda x: re.split(':| ', x.strip()), lines))"
   ]
  },
  {
   "cell_type": "code",
   "execution_count": 49,
   "metadata": {
    "collapsed": false
   },
   "outputs": [],
   "source": [
    "# lines = list(map(func, lines))"
   ]
  },
  {
   "cell_type": "code",
   "execution_count": 50,
   "metadata": {
    "collapsed": false
   },
   "outputs": [],
   "source": [
    "data = np.full((7200, 245), 0.0)\n",
    "target = np.zeros((7200))"
   ]
  },
  {
   "cell_type": "code",
   "execution_count": 51,
   "metadata": {
    "collapsed": false
   },
   "outputs": [],
   "source": [
    "for i in range(len(lines)):\n",
    "    target[i] = float(lines[i][0])\n",
    "    \n",
    "    for j in range(1, len(lines[i]), 2):\n",
    "        data[i, int(lines[i][j]) - 1] = float(lines[i][j + 1])"
   ]
  },
  {
   "cell_type": "code",
   "execution_count": 52,
   "metadata": {
    "collapsed": false,
    "scrolled": true
   },
   "outputs": [],
   "source": [
    "# data = np.nan_to_num(data)"
   ]
  },
  {
   "cell_type": "code",
   "execution_count": null,
   "metadata": {
    "collapsed": true
   },
   "outputs": [],
   "source": []
  },
  {
   "cell_type": "code",
   "execution_count": 53,
   "metadata": {
    "collapsed": true
   },
   "outputs": [],
   "source": [
    "test_lines = []\n",
    "with open('./Regression dataset/reg.test.txt', 'r') as f:\n",
    "    test_lines = f.readlines()"
   ]
  },
  {
   "cell_type": "code",
   "execution_count": 54,
   "metadata": {
    "collapsed": false
   },
   "outputs": [],
   "source": [
    "test_lines = list(map(lambda x: re.split(':| ', x.strip()), test_lines))\n",
    "test_data = np.full((10050, 245), 0.0)\n",
    "test_target = np.zeros((10050))\n",
    "\n",
    "for i in range(len(test_lines)):\n",
    "    test_target[i] = float(test_lines[i][0])\n",
    "    \n",
    "    for j in range(1, len(test_lines[i]), 2):\n",
    "        test_data[i, int(test_lines[i][j]) - 1] = float(test_lines[i][j + 1])\n",
    "test_data = np.nan_to_num(test_data)"
   ]
  },
  {
   "cell_type": "code",
   "execution_count": null,
   "metadata": {
    "collapsed": true
   },
   "outputs": [],
   "source": []
  },
  {
   "cell_type": "code",
   "execution_count": 55,
   "metadata": {
    "collapsed": false
   },
   "outputs": [],
   "source": [
    "medians = np.median(data, axis=0)\n",
    "iqrs = np.subtract(*np.percentile(data, q=[75, 25], axis=0)) + 1e-14\n",
    "\n",
    "data_norm = (data - medians) / iqrs"
   ]
  },
  {
   "cell_type": "code",
   "execution_count": 76,
   "metadata": {
    "collapsed": false,
    "scrolled": true
   },
   "outputs": [
    {
     "name": "stdout",
     "output_type": "stream",
     "text": [
      "Epoch 1 finished\n",
      "Error =  0.819848435512\n",
      "Epoch 2 finished\n",
      "Error =  0.768455598606\n",
      "Epoch 3 finished\n",
      "Error =  0.724695862357\n",
      "Epoch 4 finished\n",
      "Error =  0.687362102289\n",
      "Epoch 5 finished\n",
      "Error =  0.653834651844\n",
      "Epoch 6 finished\n",
      "Error =  0.62619695808\n",
      "Epoch 7 finished\n",
      "Error =  0.60217151603\n",
      "Epoch 8 finished\n",
      "Error =  0.580265531484\n",
      "Epoch 9 finished\n",
      "Error =  0.56013162789\n",
      "Epoch 10 finished\n",
      "Error =  0.543362469723\n",
      "12.85715103149414\n"
     ]
    }
   ],
   "source": [
    "t1 = time.time()\n",
    "\n",
    "gdb = GDB(n_epoch=10, max_depth=4, verbose=1)\n",
    "gdb.fit(data_norm, target)\n",
    "\n",
    "print(time.time() - t1)"
   ]
  },
  {
   "cell_type": "code",
   "execution_count": 23,
   "metadata": {
    "collapsed": false
   },
   "outputs": [],
   "source": [
    "# gdb.get_scores()"
   ]
  },
  {
   "cell_type": "code",
   "execution_count": null,
   "metadata": {
    "collapsed": false
   },
   "outputs": [],
   "source": []
  },
  {
   "cell_type": "code",
   "execution_count": 57,
   "metadata": {
    "collapsed": false
   },
   "outputs": [
    {
     "name": "stdout",
     "output_type": "stream",
     "text": [
      "35.62871289253235\n"
     ]
    }
   ],
   "source": [
    "t1 = time.time()\n",
    "\n",
    "sk_gdb = GradientBoostingRegressor(n_estimators=600, max_depth=3, learning_rate=0.1, criterion='mse')\n",
    "sk_gdb.fit(data, target)\n",
    "\n",
    "print(time.time() - t1)"
   ]
  },
  {
   "cell_type": "code",
   "execution_count": 25,
   "metadata": {
    "collapsed": false
   },
   "outputs": [],
   "source": [
    "# sk_gdb.train_score_"
   ]
  },
  {
   "cell_type": "code",
   "execution_count": 58,
   "metadata": {
    "collapsed": false
   },
   "outputs": [
    {
     "data": {
      "image/png": "[encoded data removed]",
      "text/plain": [
       "<matplotlib.figure.Figure at 0x124a16898>"
      ]
     },
     "metadata": {},
     "output_type": "display_data"
    }
   ],
   "source": [
    "fig, ax = plt.subplots()\n",
    "\n",
    "ax.plot(np.array(gdb.get_scores())[0:], color='blue', label='my')\n",
    "ax.plot(sk_gdb.train_score_[0:], color='black', label='sklearn')\n",
    "ax.plot(sk_gdb.train_score_[0:] * 1.03, color='red', label='3%')\n",
    "ax.plot(sk_gdb.train_score_[0:] * 0.97, color='red')\n",
    "ax.legend()\n",
    "plt.show()"
   ]
  },
  {
   "cell_type": "code",
   "execution_count": null,
   "metadata": {
    "collapsed": true
   },
   "outputs": [],
   "source": []
  },
  {
   "cell_type": "code",
   "execution_count": 59,
   "metadata": {
    "collapsed": true
   },
   "outputs": [],
   "source": [
    "test_data_norm = (test_data - medians) / iqrs"
   ]
  },
  {
   "cell_type": "code",
   "execution_count": 60,
   "metadata": {
    "collapsed": false
   },
   "outputs": [],
   "source": [
    "test_predict = sk_gdb.staged_predict(test_data)"
   ]
  },
  {
   "cell_type": "code",
   "execution_count": 61,
   "metadata": {
    "collapsed": true
   },
   "outputs": [],
   "source": [
    "test_scores = []\n",
    "for y1 in test_predict:\n",
    "    test_scores.append(((y1 - test_target) ** 2).mean())\n",
    "test_scores = np.array(test_scores)"
   ]
  },
  {
   "cell_type": "code",
   "execution_count": 62,
   "metadata": {
    "collapsed": false
   },
   "outputs": [
    {
     "data": {
      "image/png": "[encoded data removed]",
      "text/plain": [
       "<matplotlib.figure.Figure at 0x124c34eb8>"
      ]
     },
     "metadata": {},
     "output_type": "display_data"
    }
   ],
   "source": [
    "fig, ax = plt.subplots()\n",
    "\n",
    "ax.plot(np.array(gdb.staged_scores(test_data_norm, test_target)), color='blue', label='my')\n",
    "ax.plot(test_scores, color='black', label='sklearn')\n",
    "ax.plot(test_scores * 1.03, color='red', label='3%')\n",
    "ax.plot(test_scores * 0.97, color='red')\n",
    "ax.legend()\n",
    "plt.show()"
   ]
  },
  {
   "cell_type": "code",
   "execution_count": null,
   "metadata": {
    "collapsed": true
   },
   "outputs": [],
   "source": []
  },
  {
   "cell_type": "code",
   "execution_count": null,
   "metadata": {
    "collapsed": true
   },
   "outputs": [],
   "source": []
  },
  {
   "cell_type": "code",
   "execution_count": null,
   "metadata": {
    "collapsed": true
   },
   "outputs": [],
   "source": []
  },
  {
   "cell_type": "code",
   "execution_count": 120,
   "metadata": {
    "collapsed": false
   },
   "outputs": [
    {
     "data": {
      "text/plain": [
       "array([ 1.5,  1. ,  3.5])"
      ]
     },
     "execution_count": 120,
     "metadata": {},
     "output_type": "execute_result"
    }
   ],
   "source": [
    "arr = np.array([[1, 2, 3], [2, 0, 4]])\n",
    "np.median(arr, axis=0)"
   ]
  },
  {
   "cell_type": "code",
   "execution_count": 121,
   "metadata": {
    "collapsed": false
   },
   "outputs": [
    {
     "data": {
      "text/plain": [
       "array([ 0.5,  1. ,  0.5])"
      ]
     },
     "execution_count": 121,
     "metadata": {},
     "output_type": "execute_result"
    }
   ],
   "source": [
    "np.subtract(*np.percentile(arr, q=[75, 25], axis=0))"
   ]
  },
  {
   "cell_type": "code",
   "execution_count": 122,
   "metadata": {
    "collapsed": false
   },
   "outputs": [
    {
     "data": {
      "text/plain": [
       "array([[ 1.75,  1.5 ,  3.75],\n",
       "       [ 1.25,  0.5 ,  3.25]])"
      ]
     },
     "execution_count": 122,
     "metadata": {},
     "output_type": "execute_result"
    }
   ],
   "source": [
    "np.percentile(arr, q=[75, 25], axis=0)"
   ]
  },
  {
   "cell_type": "code",
   "execution_count": 128,
   "metadata": {
    "collapsed": false
   },
   "outputs": [
    {
     "data": {
      "text/plain": [
       "array([[-2.,  1., -4.],\n",
       "       [-1., -1., -3.]])"
      ]
     },
     "execution_count": 128,
     "metadata": {},
     "output_type": "execute_result"
    }
   ],
   "source": [
    "arr - np.mean(arr, axis=0) / np.subtract(*np.percentile(arr, q=[75, 25], axis=0))"
   ]
  },
  {
   "cell_type": "code",
   "execution_count": 36,
   "metadata": {
    "collapsed": false
   },
   "outputs": [
    {
     "data": {
      "text/plain": [
       "array([ 5,  2, 11])"
      ]
     },
     "execution_count": 36,
     "metadata": {},
     "output_type": "execute_result"
    }
   ],
   "source": [
    "np.array([1, 2]).dot(arr)"
   ]
  },
  {
   "cell_type": "code",
   "execution_count": 51,
   "metadata": {
    "collapsed": false
   },
   "outputs": [
    {
     "data": {
      "text/plain": [
       "array([[0, 1, 2]])"
      ]
     },
     "execution_count": 51,
     "metadata": {},
     "output_type": "execute_result"
    }
   ],
   "source": [
    "np.argwhere(np.array([1, 2, 3, -1]) > 0).reshape(1, -1)"
   ]
  },
  {
   "cell_type": "code",
   "execution_count": 48,
   "metadata": {
    "collapsed": false
   },
   "outputs": [
    {
     "data": {
      "text/plain": [
       "array([1, 2, 3])"
      ]
     },
     "execution_count": 48,
     "metadata": {},
     "output_type": "execute_result"
    }
   ],
   "source": [
    "arr[0]"
   ]
  },
  {
   "cell_type": "code",
   "execution_count": 48,
   "metadata": {
    "collapsed": false
   },
   "outputs": [
    {
     "data": {
      "text/plain": [
       "array([ 5,  2, 11])"
      ]
     },
     "execution_count": 48,
     "metadata": {},
     "output_type": "execute_result"
    }
   ],
   "source": [
    "np.array([1, 2]).dot(arr)"
   ]
  },
  {
   "cell_type": "code",
   "execution_count": 49,
   "metadata": {
    "collapsed": false
   },
   "outputs": [
    {
     "data": {
      "text/plain": [
       "array([ 5,  2, 11])"
      ]
     },
     "execution_count": 49,
     "metadata": {},
     "output_type": "execute_result"
    }
   ],
   "source": [
    "np.dot(np.array([1, 2]), arr)"
   ]
  },
  {
   "cell_type": "code",
   "execution_count": 52,
   "metadata": {
    "collapsed": false
   },
   "outputs": [
    {
     "ename": "ValueError",
     "evalue": "shapes (2,3) and (1,2) not aligned: 3 (dim 1) != 1 (dim 0)",
     "output_type": "error",
     "traceback": [
      "\u001b[0;31m---------------------------------------------------------------------------\u001b[0m",
      "\u001b[0;31mValueError\u001b[0m                                Traceback (most recent call last)",
      "\u001b[0;32m<ipython-input-52-b1cc6bb7692d>\u001b[0m in \u001b[0;36m<module>\u001b[0;34m()\u001b[0m\n\u001b[0;32m----> 1\u001b[0;31m \u001b[0mnp\u001b[0m\u001b[0;34m.\u001b[0m\u001b[0mdot\u001b[0m\u001b[0;34m(\u001b[0m\u001b[0marr\u001b[0m\u001b[0;34m,\u001b[0m \u001b[0mnp\u001b[0m\u001b[0;34m.\u001b[0m\u001b[0marray\u001b[0m\u001b[0;34m(\u001b[0m\u001b[0;34m[\u001b[0m\u001b[0;36m1\u001b[0m\u001b[0;34m,\u001b[0m \u001b[0;36m2\u001b[0m\u001b[0;34m]\u001b[0m\u001b[0;34m)\u001b[0m\u001b[0;34m.\u001b[0m\u001b[0mreshape\u001b[0m\u001b[0;34m(\u001b[0m\u001b[0;36m1\u001b[0m\u001b[0;34m,\u001b[0m \u001b[0;34m-\u001b[0m\u001b[0;36m1\u001b[0m\u001b[0;34m)\u001b[0m\u001b[0;34m)\u001b[0m\u001b[0;34m\u001b[0m\u001b[0m\n\u001b[0m",
      "\u001b[0;31mValueError\u001b[0m: shapes (2,3) and (1,2) not aligned: 3 (dim 1) != 1 (dim 0)"
     ]
    }
   ],
   "source": [
    "np.dot(arr, np.array([1, 2]).reshape(1, -1))"
   ]
  },
  {
   "cell_type": "code",
   "execution_count": 85,
   "metadata": {
    "collapsed": false
   },
   "outputs": [
    {
     "name": "stderr",
     "output_type": "stream",
     "text": [
      "/Library/Frameworks/Python.framework/Versions/3.5/lib/python3.5/site-packages/ipykernel/__main__.py:1: RuntimeWarning: divide by zero encountered in true_divide\n",
      "  if __name__ == '__main__':\n"
     ]
    },
    {
     "data": {
      "text/plain": [
       "array([False,  True,  True], dtype=bool)"
      ]
     },
     "execution_count": 85,
     "metadata": {},
     "output_type": "execute_result"
    }
   ],
   "source": [
    "np.array([-1, 2, 3]) / 0.0 == np.inf"
   ]
  },
  {
   "cell_type": "code",
   "execution_count": 15,
   "metadata": {
    "collapsed": false
   },
   "outputs": [
    {
     "data": {
      "text/plain": [
       "array([ inf,   2.])"
      ]
     },
     "execution_count": 15,
     "metadata": {},
     "output_type": "execute_result"
    }
   ],
   "source": [
    "np.divide(np.array([1, 2]), np.array([0, 1]))"
   ]
  },
  {
   "cell_type": "code",
   "execution_count": 12,
   "metadata": {
    "collapsed": false
   },
   "outputs": [
    {
     "data": {
      "text/plain": [
       "{'divide': 'ignore', 'invalid': 'warn', 'over': 'warn', 'under': 'ignore'}"
      ]
     },
     "execution_count": 12,
     "metadata": {},
     "output_type": "execute_result"
    }
   ],
   "source": [
    "np.seterr(divide='ignore')"
   ]
  },
  {
   "cell_type": "code",
   "execution_count": 19,
   "metadata": {
    "collapsed": false
   },
   "outputs": [
    {
     "data": {
      "text/plain": [
       "array([ True, False,  True], dtype=bool)"
      ]
     },
     "execution_count": 19,
     "metadata": {},
     "output_type": "execute_result"
    }
   ],
   "source": [
    "np.logical_not(np.array([0, 1, 0]))"
   ]
  },
  {
   "cell_type": "code",
   "execution_count": null,
   "metadata": {
    "collapsed": true
   },
   "outputs": [],
   "source": []
  }
 ],
 "metadata": {
  "kernelspec": {
   "display_name": "Python 3",
   "language": "python3",
   "name": "python3"
  },
  "language_info": {
   "codemirror_mode": {
    "name": "ipython",
    "version": 3
   },
   "file_extension": ".py",
   "mimetype": "text/x-python",
   "name": "python",
   "nbconvert_exporter": "python",
   "pygments_lexer": "ipython3",
   "version": "3.5.1"
  }
 },
 "nbformat": 4,
 "nbformat_minor": 0
}
